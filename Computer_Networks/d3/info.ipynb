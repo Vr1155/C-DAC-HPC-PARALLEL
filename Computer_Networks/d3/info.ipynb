{
 "cells": [
  {
   "cell_type": "markdown",
   "metadata": {},
   "source": [
    "# Computer Networking continued..."
   ]
  },
  {
   "cell_type": "markdown",
   "metadata": {},
   "source": [
    "- Instructor says ideally this course goes on for 2 weeks but over here he had to compress it to 4 days.\n",
    "- So lot of compromises were made."
   ]
  },
  {
   "cell_type": "markdown",
   "metadata": {},
   "source": [
    "For today:\n",
    "1. Routers - Some more details.\n",
    "2. Dynamic Routing - Practical.\n",
    "3. DHCP Practical.\n",
    "4. To set up a network with WEB services."
   ]
  },
  {
   "cell_type": "markdown",
   "metadata": {},
   "source": [
    "        \n",
    "<pre>        \n",
    "        Router\n",
    "    /           \\\n",
    "Forwarding      Routing\n",
    "Packets         (Calculating route)\n",
    "</pre>\n",
    "\n",
    "\n",
    "- Every router has a routing table.\n",
    "- It consists of columns with Destination subnet IDs, Next Router/Next Hop, and Interface."
   ]
  },
  {
   "cell_type": "markdown",
   "metadata": {},
   "source": [
    "## Routing Algorithms\n",
    "- In order to calculate which route is the best path towards the destination, a router needs to calculate a routing algorithm.\n",
    "\n",
    "Here's an analogy of roads to routing algorithms:\n",
    "- Lets say you want to go from point A to point B.\n",
    "- There is a road which is the shortest path, but contains lot of potholes and debris.\n",
    "- There is a longer path which is well maintained and smooth.\n",
    "- There may be paths which have toll booths with very high toll fee.\n",
    "- These are some of the considerations you need to have when you plan a road trip.\n",
    "- Same thing with routing as well.\n",
    "<pre>\n",
    "Router1 --- Router2 --- Router3\n",
    "        1Mbps       64Kbps\n",
    "</pre>    \n",
    "Important considerations for Routing algorithms:\n",
    "- Number of HOPS.\n",
    "- Bandwidth.\n",
    "- Reliability of path."
   ]
  },
  {
   "cell_type": "markdown",
   "metadata": {},
   "source": [
    "## Types of Routing Algorithms\n",
    "1. Distance Vector Routing \n",
    "2. Link State Routing \n",
    "3. Path Vector Routing \n",
    "4. Routing Information Protocol (RIP)\n",
    "5. Open Shortest Path First (OSPF)\n",
    "6. Border Gateway Protocol (BGP)\n",
    "\n",
    "- There are different types of routers, they are used as per requirement in the organization that uses them.\n",
    "- However, due to common standards, these routers are designed to be interoperable."
   ]
  },
  {
   "cell_type": "markdown",
   "metadata": {},
   "source": [
    "## Router Operating System:\n",
    "- Every router has its operating system.\n",
    "- For eg: Cisco routers have their one operating system called Cisco IOS (Cisco Internetworking Operating Systems).\n",
    "- For more info see: https://en.wikipedia.org/wiki/Cisco_IOS"
   ]
  },
  {
   "cell_type": "markdown",
   "metadata": {},
   "source": [
    "## Distance Vector Routing:\n",
    "- Based on the Bellman–Ford algorithm and the Ford–Fulkerson algorithm, distance-vector routing protocols started to be implemented from 1969 onwards in data networks such as the ARPANET and CYCLADES.\n",
    "- The term distance vector refers to the fact that the protocol manipulates vectors (arrays) of distances to other nodes in the network. \n",
    "- The distance vector algorithm was the original ARPANET routing algorithm and was implemented more widely in local area networks with the Routing Information Protocol (RIP).\n",
    "- For working, see: https://www.geeksforgeeks.org/distance-vector-routing-dvr-protocol/\n",
    "- This routing protocol is inconvienent since it creates a lot of network traffic.\n",
    "- Difficult to scale when number of routers is very high.\n",
    "- Maintaining and updating distance vectors become tedious in huge networks."
   ]
  },
  {
   "cell_type": "markdown",
   "metadata": {},
   "source": [
    "## Routing Information Protocol:\n",
    "- same as distance vector routing, but instead of distance it uses number of hops as routing metric.\n",
    "- RIP prevents routing loops by implementing a limit on the number of hops allowed in a path from source to destination. \n",
    "- The largest number of hops allowed for RIP is 15, which limits the size of networks that RIP can support.\n",
    "- RIP implements the split horizon, route poisoning, and holddown mechanisms to prevent incorrect routing information from being propagated.\n",
    "- In most networking environments, RIP is not the preferred choice of routing protocol, as its time to converge and scalability are poor compared to EIGRP, OSPF, or IS-IS. \n",
    "- However, it is easy to configure, because RIP does not require any parameters, unlike other protocols.\n",
    "- RIP uses the User Datagram Protocol (UDP) as its transport protocol, and is assigned the reserved port number 520."
   ]
  },
  {
   "cell_type": "markdown",
   "metadata": {},
   "source": [
    "## Lab session:\n",
    "- Use RIP routing protocol, to connect 5 subnets with 3 routers.\n",
    "- Diagrammatical representation:\n",
    "<pre>\n",
    "pc0 --- sw0 --- R1 --- R2 -------R3 -----sw4 --- pc9\n",
    "        /       |       |         |       \\\n",
    "       /        |       |         |        \\\n",
    "      /        sw1      sw2       sw3       \\\n",
    "   pc1         /  \\     /  \\      /   \\      pc8\n",
    "            pc2   pc3  pc4  pc5  pc6  pc7\n",
    "</pre>\n",
    "- Please note that router to router is a separate subnet.\n",
    "- This means that there are 7 subnets in total.\n",
    "- In cisco packet tracer, for RIP, we only have to specify neighbouring subnet IPs.\n",
    "- Router will automatically do the routing. \n",
    "- Also notice how routing table gets filled for each routers by using the insect tool (magnifying glass) by pressing \"i\".\n",
    "- if you click on \"Power cycle devices\" or press Alt+S to reset the network. \n",
    "- All connections will become red.\n",
    "- in simulation panel, click on edit filters and select only \"RIP\".\n",
    "- Then run the simulation again, you will see that routers will exchange packets called \"RIPv1\" among each other.\n",
    "- These packets information about the routers and their neighbouring subnets.\n",
    "- Then accordingly they will fill their own routing tables.\n",
    "- Then slowly one by one, all connections will become green.\n",
    "- Use inspect tool to see how routing data gets filled.\n",
    "- Also click on \"RIPv1\" messages in Simulation Panel to see more details on each event in event list.\n",
    "- Instructor says this might be part of a more advanced networking course."
   ]
  },
  {
   "cell_type": "markdown",
   "metadata": {},
   "source": [
    "## Another Lab task:\n",
    "- Add a redundant link by adding a router and pc to this diagram.\n",
    "- Make sure you add RIP (neighbouring subnet IPs) in its routing menu.\n",
    "- Solution: see the screenshots and savefiles in this folder"
   ]
  }
 ],
 "metadata": {
  "language_info": {
   "name": "python"
  },
  "orig_nbformat": 4
 },
 "nbformat": 4,
 "nbformat_minor": 2
}
