{
 "cells": [
  {
   "cell_type": "markdown",
   "metadata": {},
   "source": [
    "# Computer Networking continued..."
   ]
  },
  {
   "cell_type": "markdown",
   "metadata": {},
   "source": [
    "- Instructor says ideally this course goes on for 2 weeks but over here he had to compress it to 4 days.\n",
    "- So lot of compromises were made."
   ]
  },
  {
   "cell_type": "markdown",
   "metadata": {},
   "source": [
    "For today:\n",
    "1. Routers - Some more details.\n",
    "2. Dynamic Routing - Practical.\n",
    "3. DHCP Practical.\n",
    "4. To set up a network with WEB services."
   ]
  },
  {
   "cell_type": "markdown",
   "metadata": {},
   "source": [
    "        \n",
    "<pre>        \n",
    "        Router\n",
    "    /           \\\n",
    "Forwarding      Routing\n",
    "Packets         (Calculating route)\n",
    "</pre>\n",
    "\n",
    "\n",
    "- Every router has a routing table.\n",
    "- It consists of columns with Destination subnet IDs, Next Router/Next Hop, and Interface."
   ]
  },
  {
   "cell_type": "markdown",
   "metadata": {},
   "source": [
    "## Routing Algorithms\n",
    "- In order to calculate which route is the best path towards the destination, a router needs to calculate a routing algorithm.\n",
    "\n",
    "Here's an analogy of roads to routing algorithms:\n",
    "- Lets say you want to go from point A to point B.\n",
    "- There is a road which is the shortest path, but contains lot of potholes and debris.\n",
    "- There is a longer path which is well maintained and smooth.\n",
    "- There may be paths which have toll booths with very high toll fee.\n",
    "- These are some of the considerations you need to have when you plan a road trip.\n",
    "- Same thing with routing as well.\n",
    "<pre>\n",
    "Router1 --- Router2 --- Router3\n",
    "        1Mbps       64Kbps\n",
    "</pre>    \n",
    "Important considerations for Routing algorithms:\n",
    "- Number of HOPS.\n",
    "- Bandwidth.\n",
    "- Reliability of path."
   ]
  },
  {
   "cell_type": "markdown",
   "metadata": {},
   "source": [
    "## Types of Routing Algorithms\n",
    "1. Distance Vector Routing \n",
    "2. Link State Routing \n",
    "3. Path Vector Routing \n",
    "4. Routing Information Protocol (RIP)\n",
    "5. Open Shortest Path First (OSPF)\n",
    "6. Border Gateway Protocol (BGP)\n",
    "\n",
    "- There are different types of routers, they are used as per requirement in the organization that uses them.\n",
    "- However, due to common standards, these routers are designed to be interoperable."
   ]
  },
  {
   "cell_type": "markdown",
   "metadata": {},
   "source": [
    "## Router Operating System:\n",
    "- Every router has its operating system.\n",
    "- For eg: Cisco routers have their one operating system called Cisco IOS (Cisco Internetworking Operating Systems).\n",
    "- For more info see: https://en.wikipedia.org/wiki/Cisco_IOS"
   ]
  },
  {
   "cell_type": "markdown",
   "metadata": {},
   "source": [
    "## Distance Vector Routing:\n",
    "- Based on the Bellman–Ford algorithm and the Ford–Fulkerson algorithm, distance-vector routing protocols started to be implemented from 1969 onwards in data networks such as the ARPANET and CYCLADES.\n",
    "- The term distance vector refers to the fact that the protocol manipulates vectors (arrays) of distances to other nodes in the network. \n",
    "- The distance vector algorithm was the original ARPANET routing algorithm and was implemented more widely in local area networks with the Routing Information Protocol (RIP).\n",
    "- For working, see: https://www.geeksforgeeks.org/distance-vector-routing-dvr-protocol/\n",
    "- This routing protocol is inconvienent since it creates a lot of network traffic.\n",
    "- Difficult to scale when number of routers is very high.\n",
    "- Maintaining and updating distance vectors become tedious in huge networks."
   ]
  },
  {
   "cell_type": "markdown",
   "metadata": {},
   "source": [
    "## Routing Information Protocol:\n",
    "- same as distance vector routing, but instead of distance it uses number of hops as routing metric.\n",
    "- RIP prevents routing loops by implementing a limit on the number of hops allowed in a path from source to destination. \n",
    "- The largest number of hops allowed for RIP is 15, which limits the size of networks that RIP can support.\n",
    "- RIP implements the split horizon, route poisoning, and holddown mechanisms to prevent incorrect routing information from being propagated.\n",
    "- In most networking environments, RIP is not the preferred choice of routing protocol, as its time to converge and scalability are poor compared to EIGRP, OSPF, or IS-IS. \n",
    "- However, it is easy to configure, because RIP does not require any parameters, unlike other protocols.\n",
    "- RIP uses the User Datagram Protocol (UDP) as its transport protocol, and is assigned the reserved port number 520."
   ]
  },
  {
   "cell_type": "markdown",
   "metadata": {},
   "source": [
    "## Lab session:\n",
    "- Use RIP routing protocol, to connect 5 subnets with 3 routers.\n",
    "- Diagrammatical representation:\n",
    "<pre>\n",
    "pc0 --- sw0 --- R1 --- R2 -------R3 -----sw4 --- pc9\n",
    "        /       |       |         |       \\\n",
    "       /        |       |         |        \\\n",
    "      /        sw1      sw2       sw3       \\\n",
    "   pc1         /  \\     /  \\      /   \\      pc8\n",
    "            pc2   pc3  pc4  pc5  pc6  pc7\n",
    "</pre>\n",
    "- Please note that router to router is a separate subnet.\n",
    "- This means that there are 7 subnets in total.\n",
    "- In cisco packet tracer, for RIP, we only have to specify neighbouring subnet IPs.\n",
    "- Router will automatically do the routing. \n",
    "- Also notice how routing table gets filled for each routers by using the insect tool (magnifying glass) by pressing \"i\".\n",
    "- if you click on \"Power cycle devices\" or press Alt+S to reset the network. \n",
    "- All connections will become red.\n",
    "- in simulation panel, click on edit filters and select only \"RIP\".\n",
    "- Then run the simulation again, you will see that routers will exchange packets called \"RIPv1\" among each other.\n",
    "- These packets information about the routers and their neighbouring subnets.\n",
    "- Then accordingly they will fill their own routing tables.\n",
    "- Then slowly one by one, all connections will become green.\n",
    "- Use inspect tool to see how routing data gets filled.\n",
    "- Also click on \"RIPv1\" messages in Simulation Panel to see more details on each event in event list.\n",
    "- Instructor says this might be part of a more advanced networking course."
   ]
  },
  {
   "cell_type": "markdown",
   "metadata": {},
   "source": [
    "## Another Lab task:\n",
    "- Add a redundant link by adding a router and pc to this diagram.\n",
    "- Make sure you add RIP (neighbouring subnet IPs) in its routing menu.\n",
    "- Solution: see the screenshots and savefiles in this folder"
   ]
  },
  {
   "cell_type": "markdown",
   "metadata": {},
   "source": [
    "## Question:\n",
    "- What if there are 3 different college campuses, can they use same source ip address like 10.0.0.0/8?\n",
    "- Answer: No, even if you use routers and stuff, source ip address will be included in the packet and that will cause problems if 3 campuses have same source ip.\n",
    "\n",
    "## Solution to this problem:\n",
    "- NAT = Network Address Translation \n"
   ]
  },
  {
   "cell_type": "markdown",
   "metadata": {},
   "source": [
    "## Network Address Translation (NAT):\n",
    "- Network address translation (NAT) is a method of mapping an IP address space into another by modifying network address information in the IP header of packets while they are in transit across a traffic routing device. \n",
    "- The technique was originally used to bypass the need to assign a new address to every host when a network was moved, or when the upstream Internet service provider was replaced, but could not route the network's address space. \n",
    "- It has become a popular and essential tool in conserving global address space in the face of IPv4 address exhaustion. \n",
    "- One Internet-routable IP address of a NAT gateway can be used for an entire private network.\n",
    "- As network address translation modifies the IP address information in packets, NAT implementations may vary in their specific behavior in various addressing cases and their effect on network traffic. \n",
    "- The specifics of NAT behavior are not commonly documented by vendors of equipment containing NAT implementations.\n",
    "- more info: https://en.wikipedia.org/wiki/Network_address_translation"
   ]
  },
  {
   "cell_type": "markdown",
   "metadata": {},
   "source": [
    "## Problem: What will happen when server send a packet to a specific client in that subnet? How will NAT Router resolve it?\n",
    "- A Nat router not only translates IP address but also the port number as well.\n",
    "- It creates a dummy port number for every packet it receives from clients.\n",
    "- This dummy port is what is sent to the internet.\n",
    "- lets say router's public ip is 150.150.150.1\n",
    "- lets say a client with internal IP 10.0.0.1 with port number 12345 sends a packet to server 200.20.20.1, router converts port number 12345 to 7777.\n",
    "- another client with internal IP 10.0.0.1 port number 67890 sends a packet to server 200.20.20.1, router converts port number 67890 to 8888.\n",
    "- When a server sends a packet to ip 150.150.150.1 with port number 8888 back, the router knows which client this packet should be forwarded to by using the dummy port 8888 and mapping it to Internal IP 10.0.0.1 and port number 67890.\n",
    "- This is how NAT works."
   ]
  },
  {
   "cell_type": "markdown",
   "metadata": {},
   "source": [
    "## Lab session on DHCP:\n",
    "- connect 4 end PCs to a switch which is connected to a server.\n",
    "- give server's eth0 interface some static ip address like 1.0.0.10/8\n",
    "- go to services -> DHCP -> service -> click on \"On\" radio button.\n",
    "- go to all 4 client's eth0 interface and click on DHCP in IP Config as well as in default gateway.\n",
    "- That's it, your DHCP servers and clients are all set up.\n",
    "\n",
    "- Now when you connect a router to the switch, you will make the router's interface that connects to the switch as default gateway for the dhcp service.\n",
    "- do this by clicking dhcp server -> services -> dhcp -> default gateway -> put router's ip address as default gateway in dhcp server.\n",
    "- **make sure you refresh the gateway for each client connected to dhcp server. do this by clicking each client, goto gateway, click static and again click dhcp.** The new gateway ip will be visible.\n",
    "- Notice that you dont have to do routing since only two subnets are there.\n",
    "\n",
    "- See screenshots and savefile for solution."
   ]
  },
  {
   "cell_type": "markdown",
   "metadata": {},
   "source": [
    "## Some more theory on DHCP:\n",
    "- if you reset the power cycle in simple DHCP client server network.\n",
    "- click play on simulation panel.\n",
    "- in the very first DHCP packet that gets sent by a PC (end device), click on it to view its PDU info.\n",
    "- notice that it is a broadcast packet as its destination address is 255.255.255.255, its source ip address is 0.0.0.0\n",
    "- you can see this in the outbout pdu details at ethernet and ip layers.\n",
    "- in OSI model, you can see layer by layer info in the packet.\n",
    "- You will see that in layer 7, there is info on DHCP packet where server is 0.0.0.0 and client is 0.0.0.0.\n",
    "- in layer 3, source ip is 0.0.0.0, destination ip is 255.255.255.255\n",
    "- in layer 4, we can see that it uses UDP protocol and following info is present: source port: 68 and destination port: 67.\n",
    "-  if you notice that port 68 is reserved for UDP and port 67 is reserved for DHCP.\n",
    "- if you turn on filter for only dhcp packets you will see 4 events:\n",
    "    1. discovery packet (Client to server)\n",
    "    2. offer packet (Server to client)\n",
    "    3. request packet (Client to server)\n",
    "    4. acknowledgement packet (Server to client)\n",
    "- you can use filters to view only dhcp packets.\n",
    "- in the offer packet, click on inbound PDU details, in dhcp section, you can see the offered ip address to client in \"Your Client Address\".\n",
    "- in this way, OSI model, Inbound PDU details, and Outbound PDU details can be very helpful in indentifying how DHCP is working.\n"
   ]
  },
  {
   "cell_type": "markdown",
   "metadata": {},
   "source": [
    "- Similarly, send a simple pdu from client to server, filter for ICMP and view the pdu details.\n",
    "- if you see in layer 3, you will see DHCP message type as either type 8 or type 0.\n",
    "- type 8 is for request, type 0 is for reply."
   ]
  },
  {
   "cell_type": "markdown",
   "metadata": {},
   "source": [
    "- Now set the filter to show all packet types.\n",
    "- you will see lot of ARP packets sent back and forth between server and client.\n",
    "- ARP stands for Address Resolution Protocol."
   ]
  },
  {
   "cell_type": "markdown",
   "metadata": {},
   "source": [
    "## Address Resolution Protocol:\n",
    "- First thing any client does is it just broadcasts ARP packets.\n",
    "- This is done so that it can know the MAC address of all other machines.\n",
    "- In every ARP packet, there is IP address of the machine that it wants to find MAC address for.\n",
    "- The destination machine receives that packet and then sends an ARP packet in response which contains ip and MAC address of destination machine."
   ]
  },
  {
   "cell_type": "markdown",
   "metadata": {},
   "source": [
    "- Instructor talks about some Indian Telecommunications company, which builds equipment for telephone exchanges.\n",
    "- This was a big company once with 20,000 employees in Bengaluru.\n",
    "- Instructor talks about his experience in using a leased line, to transmit a message from bengaluru to singapore."
   ]
  }
 ],
 "metadata": {
  "language_info": {
   "name": "python"
  },
  "orig_nbformat": 4
 },
 "nbformat": 4,
 "nbformat_minor": 2
}
