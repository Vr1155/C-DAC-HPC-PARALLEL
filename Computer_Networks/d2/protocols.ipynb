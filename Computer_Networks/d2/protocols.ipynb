{
 "cells": [
  {
   "cell_type": "markdown",
   "metadata": {},
   "source": [
    "# Layered Architecture and Protocols"
   ]
  },
  {
   "cell_type": "markdown",
   "metadata": {},
   "source": [
    "- In a client server connection in cisco packet tracer,go to desktop -> web browser.\n",
    "- Open simulation panel on the side, and type ip address of server and click go.\n",
    "- you will see that various packets of TCP and HTTP protocol were sent between client and server."
   ]
  },
  {
   "cell_type": "markdown",
   "metadata": {},
   "source": [
    "- If you just ping client to server using PDU, you will see ICMP protocols getting sent between client and server."
   ]
  },
  {
   "cell_type": "markdown",
   "metadata": {},
   "source": [
    "- Click on each event in the event list of Simulation Panel. \n",
    "- You will see two options:\n",
    "    - OSI model\n",
    "    - Outbound PDU Details\n",
    "- This gives detailed information on about the packet and how it relates to each layer in the OSI model.\n",
    "- Network professionals use this."
   ]
  },
  {
   "cell_type": "markdown",
   "metadata": {},
   "source": [
    "- Click on server -> services -> HTTP.\n",
    "- You will see the html of the landing webpage of the server."
   ]
  },
  {
   "cell_type": "markdown",
   "metadata": {},
   "source": [
    "## Analogy of Postal Services to Internet:\n",
    "- If the Director of C-DAC Bangalore has to send a letter to the Directory of C-DAC Pune. \n",
    "- In the old times, it could've been done through the post office.\n",
    "- There are multiple steps in this process:\n",
    "    1. the director of C-DAC Bangalore sends letter to his secretary.\n",
    "    2. Secretary drops off the letter to post office.\n",
    "    3. Post office has a dispatch department where they prepare the letters to be sent.\n",
    "    4. Letter gets dispatched through a network of logistics like post office vehicles, ships, airplanes, etc.\n",
    "    5. Letter gets collected by collection department of the Pune post office.\n",
    "    6. the Post office sends a post man to go to C-DAC Pune and send the letter to secretary of C-DAC Pune.\n",
    "    7. Secretary gives the letter to the Director of C-DAC Pune."
   ]
  },
  {
   "cell_type": "markdown",
   "metadata": {},
   "source": [
    "## Relevance of the postal services analogy to the actual working of Internet.\n",
    "- Similar to Postal service, the Internet also has a layered structure which helps to deliver packets from one machine to another.\n",
    "- There is a network of routers that sends packets from one router to next.\n",
    "- Up next, we will learn how the OSI and TCP/IP models."
   ]
  },
  {
   "cell_type": "markdown",
   "metadata": {},
   "source": [
    "## OSI Model:\n",
    "1. Physical (Physical structure: Coax, Fiber, Wireless, Hubs, Repeaters)\n",
    "2. Data Link (Frames: Ethernet, PPP, Switch, Bridge)\n",
    "3. Network (Packets: IP, ICMP, IPSec, IGMP)\n",
    "4. Transport (E2E connections: TCP, UDP)\n",
    "5. Session (Sync and send to port: APIs, Sockets, WinSock)\n",
    "6. Presentation (Syntax layer: SSL, SSH, IMAP, FTP, MPEG, JPEG)\n",
    "7. Application (End User layer: HTTP, FTP, IRC, SSH, etc)\n",
    "\n",
    "## TCP/IP:\n",
    "1. Physical (Coax, Fiber, 802.11, 10 Base T)\n",
    "2. Data link (Ethernet, Wifi)\n",
    "2. Internet/Network (IP)\n",
    "3. Transport (TCP and UDP)\n",
    "4. Application (HTTP, FTP, POP3, SMTP, etc)\n",
    "\n",
    "**Note: In 5 layer model, presentation, session layers are included in application layer.**"
   ]
  },
  {
   "cell_type": "markdown",
   "metadata": {},
   "source": [
    "- Regulatory standard = OSI\n",
    "- Defacto standard = TCP/IP\n",
    "- TCP/IP came before OSI and became very popular in Industry as well as in the Government.\n",
    "- Note that actual data transmission happens in Physical layer.\n",
    "- Data that was sent or received, actually transforms as it moves down or up the layers."
   ]
  },
  {
   "cell_type": "markdown",
   "metadata": {},
   "source": [
    "## Responsibilities of each layer:\n",
    "- Sending packet from source end machine to destination end machine is the responsibility of Network layer. It uses IP which is a network layer protocol.\n",
    "- Sending packet from one adjacent node/modem to another adjacent node/modem is the responsibility of Data Link layer.\n",
    "- The router does routing from one router to another, here the responsibility of network layer comes into the picture, since the router needs to know the routing tables and routing protocol to do packet forwarding.\n",
    "- **Routers are the workhorse of Network Layer (Layer 3)**\n",
    "- Note that every layer addes its own header to the packet when it tries to send a packet to destination machine.\n",
    "- When a destination machine receives a packet, it interprets and verifies each header one by one as the message passes up the layers. Instructor calls it \"decapsulation process\"."
   ]
  },
  {
   "cell_type": "markdown",
   "metadata": {},
   "source": [
    "## Application layer\n",
    "- responsible for providing services to end user.\n",
    "- provides api to develop user applications."
   ]
  },
  {
   "cell_type": "markdown",
   "metadata": {},
   "source": [
    "## Transport layer\n",
    "- provides a reliable 'logical pipe' from one process to other process hiding the imperfections and heterogeneity of the underlying networks.\n",
    "- Every process has a port number. This is given by the transport layer protocol.\n",
    "- Therefore, in every network communication, these four numbers are useful:\n",
    "    - Hardware Address\n",
    "    - IP Address\n",
    "    - Process ID\n",
    "    - Port number"
   ]
  },
  {
   "cell_type": "markdown",
   "metadata": {},
   "source": [
    "## Explain: IP address is a relative address while MAC address is an absolute address. Why?"
   ]
  },
  {
   "cell_type": "markdown",
   "metadata": {},
   "source": [
    "## Lab session"
   ]
  },
  {
   "cell_type": "markdown",
   "metadata": {},
   "source": [
    "- 4 end machines, 2 in each subnet, each attached to a switch and that switch is attached to a router.\n",
    "- Here is diagrammatic representation:\n",
    "<pre>\n",
    "PC2                                    PC4\n",
    "    \\                               /\n",
    "        sw0  -  r0   -  r1   -  sw1     \n",
    "    /                               \\\n",
    "PC3                                    PC5\n",
    "</pre>\n",
    "- Refer to cisco packet tracer savefile and screenshot in this folder.\n"
   ]
  },
  {
   "cell_type": "markdown",
   "metadata": {},
   "source": [
    "## Today's Task: add one more router and subnet3 to this diagram and simulate it in cisco packet tracer.\n",
    "- Hints: \n",
    "    - When a router is OFF. You can drag and drop more interfaces into the router in the physical menu.\n",
    "    - Also note that, each router to router connection is a different subnet.\n",
    "    - You have to turn off router in physical menu by pressing the power button, only then you can add or remove interfaces.\n",
    "    - Dont try to fiddle with adding interfaces to a router. Just pick a router with more interfaces as per your requirement.\n",
    "\n",
    "- Diagrammatic representation:\n",
    "                            \n",
    "<pre>\n",
    "PC2                                    PC4\n",
    "    \\                               /\n",
    "        sw0  -  r8   -  r9   -  sw1     \n",
    "    /                               \\\n",
    "PC3               \\     /              PC5\n",
    "                    r7\n",
    "                    |\n",
    "                    sw2\n",
    "                /       \\\n",
    "            PC0           PC1\n",
    "</pre>\n",
    "\n",
    "- Solution:\n",
    "    - See savefile and screenshots in this folder."
   ]
  },
  {
   "cell_type": "markdown",
   "metadata": {},
   "source": [
    "## Some more theory on Router:\n",
    "- Routers can be wired or wireless (WiFi Router).\n",
    "- Routers are used for packet switching.\n",
    "\n",
    "## What is packet switching?\n",
    "- A switch can be used for changing the flow of current from one circuit to another.\n",
    "- Similarly packet switching is used to change the flow or direction of a particular packet.\n",
    "- The entire Internet uses switching.\n",
    "- Circuit switching was used in telephone communications for connecting phone calls.\n",
    "- Telephone exchanges are nothing but circuit switchers.\n",
    "- Meanwhile, packet switching is used in Computer networking.\n",
    "- Routers are nothing but packet switchers."
   ]
  },
  {
   "cell_type": "markdown",
   "metadata": {},
   "source": [
    "- In packet switching, switching happens packet by packet. \n",
    "- For a router to decide which way a packet should go, it has to use some routing algorithms like static routing.\n",
    "- After break, we will discuss DHCP."
   ]
  }
 ],
 "metadata": {
  "language_info": {
   "name": "python"
  },
  "orig_nbformat": 4
 },
 "nbformat": 4,
 "nbformat_minor": 2
}
