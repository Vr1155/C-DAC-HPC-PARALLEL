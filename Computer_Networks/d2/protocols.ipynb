{
 "cells": [
  {
   "cell_type": "markdown",
   "metadata": {},
   "source": [
    "# Protocols"
   ]
  },
  {
   "cell_type": "markdown",
   "metadata": {},
   "source": [
    "- In a client server connection in cisco packet tracer,go to desktop -> web browser.\n",
    "- Open simulation panel on the side, and type ip address of server and click go.\n",
    "- you will see that various packets of TCP and HTTP protocol were sent between client and server."
   ]
  },
  {
   "cell_type": "markdown",
   "metadata": {},
   "source": [
    "- If you just ping client to server using PDU, you will see ICMP protocols getting sent between client and server."
   ]
  },
  {
   "cell_type": "markdown",
   "metadata": {},
   "source": [
    "- Click on each event in the event list of Simulation Panel. \n",
    "- You will see two options:\n",
    "    - OSI model\n",
    "    - Outbound PDU Details\n",
    "- This gives detailed information on about the packet and how it relates to each layer in the OSI model.\n",
    "- Network professionals use this."
   ]
  },
  {
   "cell_type": "markdown",
   "metadata": {},
   "source": [
    "- Click on server -> services -> HTTP.\n",
    "- You will see the html of the landing webpage of the server."
   ]
  },
  {
   "cell_type": "markdown",
   "metadata": {},
   "source": [
    "## Analogy of Postal Services to Internet:\n",
    "- If the Director of C-DAC Bangalore has to send a letter to the Directory of C-DAC Pune. \n",
    "- In the old times, it could've been done through the post office.\n",
    "- There are multiple steps in this process:\n",
    "    1. the director of C-DAC Bangalore sends letter to his secretary.\n",
    "    2. Secretary drops off the letter to post office.\n",
    "    3. Post office has a dispatch department where they prepare the letters to be sent.\n",
    "    4. Letter gets dispatched through a network of logistics like post office vehicles, ships, airplanes, etc.\n",
    "    5. Letter gets collected by collection department of the Pune post office.\n",
    "    6. the Post office sends a post man to go to C-DAC Pune and send the letter to secretary of C-DAC Pune.\n",
    "    7. Secretary gives the letter to the Director of C-DAC Pune."
   ]
  },
  {
   "cell_type": "markdown",
   "metadata": {},
   "source": [
    "## Relevance of the postal services analogy to the actual working of Internet.\n",
    "- Similar to Postal service, the Internet also has a layered structure which helps to deliver packets from one machine to another.\n",
    "- There is a network of routers that sends packets from one router to next.\n",
    "- Up next, we will learn how the OSI and TCP/IP models."
   ]
  },
  {
   "cell_type": "markdown",
   "metadata": {},
   "source": [
    "## OSI Model:\n",
    "1. Physical (Physical structure: Coax, Fiber, Wireless, Hubs, Repeaters)\n",
    "2. Data Link (Frames: Ethernet, PPP, Switch, Bridge)\n",
    "3. Network (Packets: IP, ICMP, IPSec, IGMP)\n",
    "4. Transport (E2E connections: TCP, UDP)\n",
    "5. Session (Sync and send to port: APIs, Sockets, WinSock)\n",
    "6. Presentation (Syntax layer: SSL, SSH, IMAP, FTP, MPEG, JPEG)\n",
    "7. Application (End User layer: HTTP, FTP, IRC, SSH, etc)\n",
    "\n",
    "## TCP/IP:\n",
    "1. Network Access [includes both physical and data link] (Ethernet)\n",
    "2. Internet/Network (IP)\n",
    "3. Transport (TCP and UDP)\n",
    "4. Application (HTTP, FTP, POP3, SMTP, etc)"
   ]
  },
  {
   "cell_type": "markdown",
   "metadata": {},
   "source": [
    "- Regulatory standard = OSI\n",
    "- Defacto standard = TCP/IP\n",
    "- TCP/IP came before OSI and became very popular in Industry as well as in the Government.\n",
    "- Note that actual data transmission happens in Physical layer.\n",
    "- Data that was sent or received, actually transforms as it moves down or up the layers."
   ]
  },
  {
   "cell_type": "markdown",
   "metadata": {},
   "source": [
    "## Responsibilities of each layer:\n",
    "- Sending packet from source end machine to destination end machine is the responsibility of Network layer. It uses IP which is a network layer protocol.\n",
    "- Sending packet from one adjacent node to another adjacent node is the responsibility of Data Link layer."
   ]
  }
 ],
 "metadata": {
  "language_info": {
   "name": "python"
  },
  "orig_nbformat": 4
 },
 "nbformat": 4,
 "nbformat_minor": 2
}
