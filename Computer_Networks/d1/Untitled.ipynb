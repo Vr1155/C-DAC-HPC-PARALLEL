{
 "cells": [
  {
   "cell_type": "markdown",
   "id": "df6fc044",
   "metadata": {},
   "source": [
    "# Computer Networks"
   ]
  },
  {
   "cell_type": "markdown",
   "id": "ecb655d0",
   "metadata": {},
   "source": [
    "- Client and server are both computers.\n",
    "- How do computers communicate with each other?\n",
    "- Instructor's questions:\n",
    "    - How is my computer connected to Google's servers?\n",
    "    - How are the phones (Smartphones, Old Mobile phones and landlines) interconnected?\n"
   ]
  },
  {
   "cell_type": "markdown",
   "id": "a1c3d25d",
   "metadata": {},
   "source": [
    "### ICT = Information Communication Technology\n",
    "- ICT is a subset of IT"
   ]
  },
  {
   "cell_type": "code",
   "execution_count": 11,
   "id": "ed7f4f2d",
   "metadata": {},
   "outputs": [
    {
     "name": "stdout",
     "output_type": "stream",
     "text": [
      "Enter the operator (+, -, *, /)/\n",
      "Enter the first data:5\n",
      "Enter the second data:3\n",
      "Solution of addition operation: 1.6666666666666667\n"
     ]
    }
   ],
   "source": [
    "def basic_calculator():\n",
    "    op = input(\"Enter the operator (+, -, *, /)\")\n",
    "    data1 = input(\"Enter the first data:\")\n",
    "    data2 = input(\"Enter the second data:\")\n",
    "    \n",
    "    if(op == \"+\"):\n",
    "        print(\"Solution of addition operation:\", int(data1) + int(data2))\n",
    "    elif(op == \"-\"):\n",
    "        print(\"Solution of addition operation:\", int(data1) - int(data2))\n",
    "    elif(op == \"*\"):\n",
    "        print(\"Solution of addition operation:\", int(data1) * int(data2))\n",
    "    elif(op == \"/\"):\n",
    "        print(\"Solution of addition operation:\", int(data1) / int(data2))\n",
    "    else:\n",
    "        print(\"Invalid operator!\")\n",
    "    \n",
    "basic_calculator()\n"
   ]
  }
 ],
 "metadata": {
  "kernelspec": {
   "display_name": "Python 3 (ipykernel)",
   "language": "python",
   "name": "python3"
  },
  "language_info": {
   "codemirror_mode": {
    "name": "ipython",
    "version": 3
   },
   "file_extension": ".py",
   "mimetype": "text/x-python",
   "name": "python",
   "nbconvert_exporter": "python",
   "pygments_lexer": "ipython3",
   "version": "3.11.7"
  }
 },
 "nbformat": 4,
 "nbformat_minor": 5
}
