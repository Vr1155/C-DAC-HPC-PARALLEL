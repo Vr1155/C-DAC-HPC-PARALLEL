{
 "cells": [
  {
   "cell_type": "markdown",
   "id": "df6fc044",
   "metadata": {},
   "source": [
    "# Computer Networks"
   ]
  },
  {
   "cell_type": "markdown",
   "id": "ecb655d0",
   "metadata": {},
   "source": [
    "- Client and server are both computers.\n",
    "- How do computers communicate with each other?\n",
    "- Instructor's questions:\n",
    "    - How is my computer connected to Google's servers?\n",
    "    - How are the phones (Smartphones, Old Mobile phones and landlines) interconnected?\n"
   ]
  },
  {
   "cell_type": "markdown",
   "id": "a1c3d25d",
   "metadata": {},
   "source": [
    "### ICT = Information Communication Technology\n",
    "- ICT is a subset of IT"
   ]
  },
  {
   "cell_type": "markdown",
   "id": "8fc1de2b",
   "metadata": {},
   "source": [
    "## Internet is basically network of networks.\n",
    "\n"
   ]
  },
  {
   "cell_type": "markdown",
   "id": "ed15ac11",
   "metadata": {},
   "source": [
    "- What is a network?\n",
    "    - A computer network is a set of computers sharing resources located on or provided by network nodes. \n",
    "    - Computers use common communication protocols over digital interconnections to communicate with each other.\n",
    "    \n",
    "- Sender ------media------> Receiver\n",
    "- Instructor gives example of newspaper distribution network:\n",
    "    - Newspaper Publishing house ---> Distributor ---> agent ---> newspaper boy ---> newspaper reader.\n",
    "    - Network is nothing but a collection and connection of entities to provide a specific service.\n",
    " - Today's Internet is a multi-media network, we can send any type of information through the internet (i.e. anything that can be represented as 0s and 1s).\n",
    "\n",
    "            "
   ]
  },
  {
   "cell_type": "markdown",
   "id": "4d52301b",
   "metadata": {},
   "source": [
    "## Internet Service Provider (ISP):\n",
    "- ISP is a business that provides the service to connect your computer to the Internet.\n",
    "- Note that an ISP is not directly connected to server of each and every website.\n",
    "- It is just a part of the network.\n",
    "- Internet is the indirect connectivity between numerous networks.\n",
    "- Here's an interesting question:\n",
    "    - Can you connect to internet without an ISP?\n",
    "    - Discussion: https://superuser.com/questions/900021/how-to-internet-without-isp\n"
   ]
  },
  {
   "cell_type": "markdown",
   "id": "5c88bc52",
   "metadata": {},
   "source": [
    "## Aspects of networking:\n",
    "1. Connectivity\n",
    "2. Processing Communication"
   ]
  },
  {
   "cell_type": "markdown",
   "id": "e88d3324",
   "metadata": {},
   "source": [
    "## Hubs and Switches\n",
    "- Hub helps you connect multiple entities to a single network by being a centralized connector.\n",
    "- Switch helps you connect between two different hubs.\n",
    "- Diagrammatical representation of a Local Area Network (LAN):\n",
    "\n",
    "           entity     entity                                 entity\n",
    "                \\     /                                      /\n",
    "                  Hub ------------- switch -------------- Hub  ----- entity\n",
    "                /     \\                |                    \\\n",
    "           entity     entity           |                   entity\n",
    "                                       |\n",
    "                                      Hub\n",
    "                                    /      \\\n",
    "                                  entity    entity\n",
    "                         "
   ]
  },
  {
   "cell_type": "markdown",
   "id": "821810f1",
   "metadata": {},
   "source": [
    "## Routers\n",
    "- Every ISP utilizes a network of routers to connect to internet.\n",
    "- Routers are used to route information from one end to another end.\n",
    "- So flow of a data packet is as follows:\n",
    "    - Source Entity -> Hub -> Switch -> Router -> Some other router -> .... -> Server's router -> Target entity\n"
   ]
  },
  {
   "cell_type": "markdown",
   "id": "f8b448d5",
   "metadata": {},
   "source": [
    "## Transmission Links \n",
    "- This comprises of telephone cables, coaxial cables, fiber optic cables.\n",
    "- There is difference between link and media.\n",
    "    - Media comprises of everything between two entities while links are just the connecting parts of the network.\n",
    "- The data is transmitted through the transmission links in the form of 1s and 0s."
   ]
  },
  {
   "cell_type": "markdown",
   "id": "845283c8",
   "metadata": {},
   "source": [
    "## Network Protocol Stack\n",
    "- Network Protocol Stack is the software that helps in computer networking.\n",
    "- For more info, see: https://en.wikipedia.org/wiki/Protocol_stack\n",
    "## Network Interface Card (NIC)\n",
    "- NIC is the hardware that helps in computer networking.\n",
    "- For more info, see: https://en.wikipedia.org/wiki/Network_interface_controller"
   ]
  },
  {
   "cell_type": "markdown",
   "id": "3d3f35a9",
   "metadata": {},
   "source": [
    "# Computer Networking future prospects\n",
    "- Instructor says that computer networking is an evergreen field.\n",
    "- Unlike programming languages, lot of networking infrastructure does not change rapidly.\n",
    "- It also does not require a lot of programming.\n",
    "- Computer Networking Domain knowledge is very important."
   ]
  },
  {
   "cell_type": "markdown",
   "id": "cae2eb3f",
   "metadata": {},
   "source": [
    "## Install Cisco Packet Tracer for Lab session.\n",
    "- Win + R key\n",
    "- \\\\\\acts-ecserver\n",
    "- Software folder\n",
    "- drag and drop cisco packet tracer installer into desktop\n",
    "- enter admin username and password and install."
   ]
  }
 ],
 "metadata": {
  "kernelspec": {
   "display_name": "Python 3 (ipykernel)",
   "language": "python",
   "name": "python3"
  },
  "language_info": {
   "codemirror_mode": {
    "name": "ipython",
    "version": 3
   },
   "file_extension": ".py",
   "mimetype": "text/x-python",
   "name": "python",
   "nbconvert_exporter": "python",
   "pygments_lexer": "ipython3",
   "version": "3.11.7"
  }
 },
 "nbformat": 4,
 "nbformat_minor": 5
}
