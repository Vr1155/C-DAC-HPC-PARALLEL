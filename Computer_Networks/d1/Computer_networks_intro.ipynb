{
 "cells": [
  {
   "cell_type": "markdown",
   "id": "df6fc044",
   "metadata": {},
   "source": [
    "# Computer Networks"
   ]
  },
  {
   "cell_type": "markdown",
   "id": "ecb655d0",
   "metadata": {},
   "source": [
    "- Client and server are both computers.\n",
    "- How do computers communicate with each other?\n",
    "- Instructor's questions:\n",
    "    - How is my computer connected to Google's servers?\n",
    "    - How are the phones (Smartphones, Old Mobile phones and landlines) interconnected?\n"
   ]
  },
  {
   "cell_type": "markdown",
   "id": "a1c3d25d",
   "metadata": {},
   "source": [
    "### ICT = Information Communication Technology\n",
    "- ICT is a subset of IT"
   ]
  },
  {
   "cell_type": "markdown",
   "id": "bcd426d5",
   "metadata": {},
   "source": [
    "## Internet is basically network of networks.\n",
    "\n"
   ]
  },
  {
   "cell_type": "markdown",
   "id": "95bcd138",
   "metadata": {},
   "source": [
    "- What is a network?\n",
    "    - A computer network is a set of computers sharing resources located on or provided by network nodes. \n",
    "    - Computers use common communication protocols over digital interconnections to communicate with each other.\n",
    "    \n",
    "- Sender ------media------> Receiver\n",
    "- Instructor gives example of newspaper distribution network:\n",
    "    - Newspaper Publishing house ---> Distributor ---> agent ---> newspaper boy ---> newspaper reader.\n",
    "    - Network is nothing but a collection and connection of entities to provide a specific service.\n",
    " - Today's Internet is a multi-media network, we can send any type of information through the internet (i.e. anything that can be represented as 0s and 1s).\n",
    "\n",
    "            "
   ]
  },
  {
   "cell_type": "markdown",
   "id": "bb8966c8",
   "metadata": {},
   "source": [
    "## Internet Service Provider (ISP):\n",
    "- ISP is a business that provides the service to connect your computer to the Internet.\n",
    "- Note that an ISP is not directly connected to server of each and every website.\n",
    "- It is just a part of the network.\n",
    "- Internet is the indirect connectivity between numerous networks.\n",
    "- Here's an interesting question:\n",
    "    - Can you connect to internet without an ISP?\n",
    "    - Discussion: https://superuser.com/questions/900021/how-to-internet-without-isp\n"
   ]
  },
  {
   "cell_type": "markdown",
   "id": "0fc7dabc",
   "metadata": {},
   "source": [
    "## Aspects of networking:\n",
    "1. Connectivity\n",
    "2. Processing Communication"
   ]
  },
  {
   "cell_type": "markdown",
   "id": "5a2c7cbc",
   "metadata": {},
   "source": [
    "## Hubs and Switches\n",
    "- Hub helps you connect multiple entities to a single network by being a centralized connector.\n",
    "- Switch helps you connect between two different hubs.\n",
    "- Diagrammatical representation of a Local Area Network (LAN):\n",
    "\n",
    "           entity     entity                                 entity\n",
    "                \\     /                                      /\n",
    "                  Hub ------------- switch -------------- Hub  ----- entity\n",
    "                /     \\                |                    \\\n",
    "           entity     entity           |                   entity\n",
    "                                       |\n",
    "                                      Hub\n",
    "                                    /      \\\n",
    "                                  entity    entity\n",
    "                         "
   ]
  },
  {
   "cell_type": "markdown",
   "id": "d303f03c",
   "metadata": {},
   "source": [
    "## Routers\n",
    "- Every ISP utilizes a network of routers to connect to internet.\n",
    "- Routers are used to route information from one end to another end.\n",
    "- So flow of a data packet is as follows:\n",
    "    - Source Entity -> Hub -> Switch -> Router -> Some other router -> .... -> Server's router -> Target entity\n"
   ]
  },
  {
   "cell_type": "markdown",
   "id": "aa929918",
   "metadata": {},
   "source": [
    "## Transmission Links \n",
    "- This comprises of telephone cables, coaxial cables, fiber optic cables.\n",
    "- There is difference between link and media.\n",
    "    - Media comprises of everything between two entities while links are just the connecting parts of the network.\n",
    "- The data is transmitted through the transmission links in the form of 1s and 0s."
   ]
  },
  {
   "cell_type": "markdown",
   "id": "a9e2c963",
   "metadata": {},
   "source": [
    "## Network Protocol Stack\n",
    "- Network Protocol Stack is the software that helps in computer networking.\n",
    "- For more info, see: https://en.wikipedia.org/wiki/Protocol_stack\n",
    "## Network Interface Card (NIC)\n",
    "- NIC is the hardware that helps in computer networking.\n",
    "- For more info, see: https://en.wikipedia.org/wiki/Network_interface_controller"
   ]
  },
  {
   "cell_type": "markdown",
   "id": "ad84f640",
   "metadata": {},
   "source": [
    "## Simplex \n",
    "- One way communication of data through a transmission line.\n",
    "## Half Duplex\n",
    "- Two way communication of data but only one entity can use the transmission line at a time.\n",
    "## Full Duplex\n",
    "- Two way communication of data simultaneously."
   ]
  },
  {
   "cell_type": "markdown",
   "id": "5c125326",
   "metadata": {},
   "source": [
    "## Connection-oriented communication \n",
    "- Here, first you ensure that other party is there. \n",
    "- for more info: https://en.wikipedia.org/wiki/Connection-oriented_communication\n",
    "## Connection-less communication\n",
    "- Here, we know that other party is present.\n",
    "- for more info: https://en.wikipedia.org/wiki/Connectionless_communication\n",
    "## Difference between them:\n",
    "\n",
    "[![App Platorm](https://www.baeldung.com/wp-content/ql-cache/quicklatex.com-8639560f7e5094bf7144c07851709909_l3.svg)](https://www.baeldung.com/wp-content/ql-cache/quicklatex.com-8639560f7e5094bf7144c07851709909_l3.svg)\n",
    "\n"
   ]
  },
  {
   "cell_type": "markdown",
   "id": "0d10bef4",
   "metadata": {},
   "source": [
    "# Computer Networking future prospects\n",
    "- Instructor says that computer networking is an evergreen field.\n",
    "- Unlike programming languages, lot of networking infrastructure does not change rapidly.\n",
    "- It also does not require a lot of programming.\n",
    "- Computer Networking Domain knowledge is very important."
   ]
  },
  {
   "cell_type": "markdown",
   "id": "75abf131",
   "metadata": {},
   "source": [
    "## Install Cisco Packet Tracer for Lab session.\n",
    "- Win + R key\n",
    "- \\\\\\acts-ecserver\n",
    "- Software folder\n",
    "- drag and drop cisco packet tracer installer into desktop\n",
    "- enter admin username and password and install."
   ]
  },
  {
   "cell_type": "markdown",
   "id": "ae3815e4",
   "metadata": {},
   "source": [
    "## Lab Activities:\n",
    "\n",
    "## Create a network of just client pc and server:\n",
    "- Create a PC and go to config to give it static ip 1.1.1.1\n",
    "- Create a Server and go to config to give it static ip 1.1.1.2\n",
    "- IP address that dont work: 3.1.2.2 (There are some rules to be followed to assign ip addresses).\n",
    "- use pdu, click pc and then server, then run simulation."
   ]
  },
  {
   "cell_type": "markdown",
   "id": "5e8044eb",
   "metadata": {},
   "source": [
    "## Connecting 4 computers with hub:\n",
    "- 4 pcs with ips from 1.1.1.1 to 1.1.1.4\n",
    "- 4 pcs with ips from 1.1.1.1 to 1.1.1.2 and 2.2.2.1 to 2.2.2.2\n",
    "- use pdu from one machine to another\n",
    "- do 2 pdus simultaneously, Notice that you will get packet collision.\n",
    "- Also notice that hub sends packets to everyone, everytime"
   ]
  },
  {
   "cell_type": "markdown",
   "id": "0ad6c918",
   "metadata": {},
   "source": [
    "## Connecting 4 pcs with switch\n",
    "- Same setup\n",
    "- However, in switch, it only sends packets to everyone only in the first time, after that, it will only send from source to destination.\n",
    "- Also note that, unlike hub, there is no packet collision in switch."
   ]
  },
  {
   "cell_type": "markdown",
   "id": "899c7b8c",
   "metadata": {},
   "source": [
    "## Difference between Hub and Switch:\n",
    "\n",
    "- Hub broadcasts to all machines while switch only sends to the destination machine\n",
    "- There is packet collision in hub but not in switch."
   ]
  },
  {
   "cell_type": "markdown",
   "id": "ed33911c",
   "metadata": {},
   "source": [
    "## Theory session:"
   ]
  },
  {
   "cell_type": "markdown",
   "id": "3aafbb99",
   "metadata": {},
   "source": [
    "## IP Addresses\n",
    "- Internet has huge number of computers connected to it.\n",
    "- For proper packet transfer from one machine to another, every machine must have a unique identity.\n",
    "- One way to provide an identity is called ip address.\n",
    "- IP address gives an identity to the Network Interface of a machine."
   ]
  },
  {
   "cell_type": "markdown",
   "id": "84d071f9",
   "metadata": {},
   "source": [
    "- If any two ip address are same, there will be a conflict and proper communication will not occur.\n",
    "- Therefore, there is a need for setting rules, regulations and standards for ip addressing.\n"
   ]
  },
  {
   "cell_type": "markdown",
   "id": "6a2f6a6c",
   "metadata": {},
   "source": [
    "## Internet Corporation of Assigned Names and Numbers (ICANN)\n",
    "- Because ip addressing is so important, ip addressing has been standardized.\n",
    "- ICANN decides the rules and regulations of ip addressing.\n",
    "- more info: https://en.wikipedia.org/wiki/ICANN\n",
    "- Instructor says that he will not ask questions related to expansions of abbreviations."
   ]
  },
  {
   "cell_type": "markdown",
   "id": "3b7fabf6",
   "metadata": {},
   "source": [
    "## Rules for IP addressing:\n",
    "## IPv4 Addressing:\n",
    "- IPv4 = 32 bit IP addressing system.\n",
    "- it starts from 0.0.0.0 to 255.255.255.255\n",
    "- note that each digit is represented by 8 bit binary number, so the range of each digit is from 0-255.\n",
    "- There are (256)^4 = 4,294,967,296 IPv4 addresses in total.\n",
    "- Every machine in the world should have an IPv4 address that is one of these many IPv4 addresses.\n",
    "\n",
    "\n",
    "## Subnetting\n",
    "- All computers in the world cannot be connected to each other or to a hub can cause lot of network congestion.\n",
    "- This is why subnetting is used to modularize the network.\n",
    "- Every sub-network should have **similar** IP addressing, this is called subnetting.\n",
    "- Note how telephone numbers from a particular country have a common country code.\n",
    "- Similarly, a section of IP address should give information on which sub-network does an IP address belong to.\n",
    "- There is something called **hierarchical addressing**.\n",
    "- In an IP address, there is some portion that gives information about the subnet ID and other portion gives a specific ID for different number of machines that can be configured in that subnet."
   ]
  },
  {
   "cell_type": "markdown",
   "id": "a965a07e",
   "metadata": {},
   "source": [
    "## Subnet mask\n",
    "- IP address for every machine contains two very important points of data:\n",
    "    - IP address\n",
    "    - subnet mask\n",
    "- You may ask, what is the significance of subnet mask?\n",
    "- Subnet mask is used to represent or identify which subnet a particular IP address belongs to.\n",
    "- **The Bitwise AND operation of IP Address and Subnet mask gives us the subnet ID.**\n",
    "- For eg: if IP = 1.1.1.1, Subnet Mask = 255.0.0.0, then Subnet ID = 1.0.0.0\n",
    "- other eg: IP = 2.2.2.2, Subnet Mask = 255.0.0.0, then Subnet ID = 2.0.0.0\n",
    "- Therefore, by changing the Subnet Mask, you can change the Subnet ID of a machine while keeping the IP Address as same."
   ]
  },
  {
   "cell_type": "markdown",
   "id": "76ee50f3",
   "metadata": {},
   "source": [
    "- If two machines that belong to two different subnets, then they cant communicate with each other.\n",
    "- For two machines to communicate, they should belong to same subnet.\n",
    "- This is why in Cisco packet tracer, machine with 1.1.1.1 cannot communicate with machine with 2.2.2.2 while subnet mask for both machines was 255.0.0.0, because these two machines belong to two different subnets and thus cannot communicate with each other.\n",
    "- In order to connect machines from two subnets, we will use a router"
   ]
  },
  {
   "cell_type": "markdown",
   "id": "ce55a096",
   "metadata": {},
   "source": [
    "## Lab activity:\n",
    "- Create 4 PCs with following ips and subnets:\n",
    "    - PC1:\n",
    "        - ip: 1.1.1.5\n",
    "        - sm: 255.255.255.128\n",
    "    - PC2:\n",
    "        - ip: 1.1.1.130\n",
    "        - sm: 255.255.255.128\n",
    "    - PC3: \n",
    "        - ip: 1.1.1.50\n",
    "        - sm: 255.255.255.128\n",
    "    - PC4:\n",
    "        - ip: 1.1.1.200\n",
    "        - sm: 255.255.255.128\n",
    "- connect them all with a hub.\n",
    "- Observations:\n",
    "    - PC2 -> PC4 successful\n",
    "    - PC1 -> PC3 successful\n",
    "    - everything else fails.\n",
    "- Explanation:\n",
    "    - PC2 subnet ID: 1.1.1.128\n",
    "    - PC3 subnet ID: 1.1.1.0\n",
    "    - PC4 subnet ID: 1.1.1.128\n",
    "    - PC1 subnet ID: 1.1.1.0\n",
    "    - Therefore, you can see that PC1 and PC3 belong to the same subnet\n",
    "    - also, you can see that PC2 and PC4 belong to the same subnet"
   ]
  },
  {
   "cell_type": "markdown",
   "id": "b9bfefa6",
   "metadata": {},
   "source": [
    "- Instructor says that, every IP address MUST be accompanied with a subnet mask.\n",
    "- Therefore, only IP address has no meaning, only IP address with subnet mask has meaning."
   ]
  },
  {
   "cell_type": "markdown",
   "id": "4eedd36d",
   "metadata": {},
   "source": [
    "- To show labelling, go to options -> preferences -> Always show port labels"
   ]
  },
  {
   "cell_type": "markdown",
   "id": "23af2822",
   "metadata": {},
   "source": [
    "## Using slash notation along with IP address to show subnet mask.\n",
    "- IP addresses in a subnet can be represented with slash notation.\n",
    "- if you hover over a PC, you will see ip address as w.x.y.x/n\n",
    "- here n represents number of set bits (1s) in the subnet mask.\n",
    "- so for eg: 255.255.255.128 means n = 25\n",
    "- for: 255.0.0.0 means n = 8\n",
    "- for: 255.128.0.0 means n = 9\n",
    "- Also note that, **2^(32 - n) = number of machines that can be configured in the subnet.**\n",
    "- This is because first n bits are part of subnet ID and therefore, only rest of bits can change for different machines in that subnet."
   ]
  },
  {
   "cell_type": "markdown",
   "id": "7570a483",
   "metadata": {},
   "source": [
    "## First address for subnet is reserved for subnet ID. \n",
    "## Last address for subnet is reserved for broadcast address.\n",
    "\n",
    "- For eg:\n",
    "-  if subnet mask is 255.255.255.0\n",
    "-  Note that in that subnet, first usable address is w.x.y.1 and last usable address is w.x.y.254\n",
    "-  This is because, w.x.y.255 is broadcast address."
   ]
  },
  {
   "cell_type": "markdown",
   "id": "79bd6da2",
   "metadata": {},
   "source": [
    "## What is Broadcast Address?\n",
    "- A network packet contains the following components:\n",
    "    1. Header -> contains Source and destination info.\n",
    "    2. Data -> Contains the actual data.\n",
    "- In a subnet, if a packet is sent to all, each computer computer checks if its the destination by checking IP.\n",
    "- If its the destination, it accepts\n",
    "- If its not, it discards.\n",
    "- This is called broadcasting.\n",
    "\n",
    "- Instead, of broadcasting packets to all machines, and forcing all of the machines to process the destination IP.\n",
    "- We simply put destination address as broadcast address, all machines will immediately accept it as broadcast packet.\n",
    "- That is the real use of broadcast address."
   ]
  },
  {
   "cell_type": "markdown",
   "id": "7984dd07",
   "metadata": {},
   "source": [
    "# What information can you infer from IP address slash notation?\n",
    "- take for eg: 1.1.1.0/24, what can you infer?\n",
    "    1. subnet mask: 255.255.255.0\n",
    "    2. number of machines that can be configured = 2^(32 - 24) = 2^8 = 256.\n",
    "    3. First Usable address: 1.1.1.1\n",
    "    4. Last usable address: 1.1.1.254\n",
    "    5. Broadast address: 1.1.1.255"
   ]
  },
  {
   "cell_type": "markdown",
   "id": "d94c94fd",
   "metadata": {},
   "source": [
    "## Routers\n"
   ]
  },
  {
   "cell_type": "markdown",
   "id": "b6803adc",
   "metadata": {},
   "source": [
    "- Routers help us to connect two different subnets with each other.\n",
    "- Essentially, it forms a bridge between two different subnets.\n",
    "\n",
    "## Routing Configuration in Cisco packet tracer:\n",
    "- There is some extra configuration that needs to be done for routers to work properly.\n",
    "- In Cisco packet tracer, make sure you always show port labels.\n",
    "- give ip address to each end machine's interface\n",
    "- for each of router's interface, you have to give IP address that belongs to same subnet as the computers it connects to.\n",
    "- If you have router 2901, it has 2 interfaces, and can connect to two different subnets.\n",
    "- so if there are 2 subnets, each of routers interface will have ip address such that each interface belongs to that particular connecting machine's subnet.\n",
    "- Also make sure ports of both interfaces are on.\n",
    "- You also have to set the default gateway for each end machine as the router interface's IP address that the end machine connects to.\n",
    "- After this you can run PDU, first it will fail, then the second time it will be successful.\n",
    "    - This is because router does not know the MAC address of each connecting end machine.\n",
    "    - Therefore, the first time it run an Address Resolution Protocol (ARP) to collect the MAC addresses of all end machines.\n",
    "    - This is why it fails the first time.\n",
    "    - Once all MAC address are collected, it will work as intended.\n",
    "    - More info on ARP: https://en.wikipedia.org/wiki/Address_Resolution_Protocol\n",
    "     "
   ]
  }
 ],
 "metadata": {
  "kernelspec": {
   "display_name": "Python 3.9.13 ('base')",
   "language": "python",
   "name": "python3"
  },
  "language_info": {
   "codemirror_mode": {
    "name": "ipython",
    "version": 3
   },
   "file_extension": ".py",
   "mimetype": "text/x-python",
   "name": "python",
   "nbconvert_exporter": "python",
   "pygments_lexer": "ipython3",
   "version": "3.9.13"
  },
  "vscode": {
   "interpreter": {
    "hash": "05cbe7c281be42062e5322c7e5b73ae2fb1c3fbea1df866d539e0e2499fb0802"
   }
  }
 },
 "nbformat": 4,
 "nbformat_minor": 5
}
