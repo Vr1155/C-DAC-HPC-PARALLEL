{
 "cells": [
  {
   "cell_type": "markdown",
   "metadata": {},
   "source": [
    "# Simulating an internet."
   ]
  },
  {
   "cell_type": "markdown",
   "metadata": {},
   "source": [
    "- Everyone is familiar with \"World Wide Web = WWW\".\n",
    "- Various websites have different routing mechanisms (Whether client-side or server-side routing).\n",
    "- Various websites have Advertisements, which can be their own in-house ads service or from a provider like Google.\n"
   ]
  },
  {
   "cell_type": "markdown",
   "metadata": {},
   "source": [
    "## Hyperlinks\n",
    "- These are links to different pages, which can be hosted on the same computer or some other computer."
   ]
  },
  {
   "cell_type": "markdown",
   "metadata": {},
   "source": [
    "## World Wide Web\n",
    "- WWW is nothing but a collection and connection of various files hosted across various computers across the world."
   ]
  },
  {
   "cell_type": "markdown",
   "metadata": {},
   "source": [
    "## HyperText Transfer Protocol (HTTP):\n",
    "- This is an application layer protocol.\n",
    "- It follows on client-server request-response structure.\n",
    "- Client sends a HTTP request to server and server responds with a HTTP response."
   ]
  },
  {
   "cell_type": "markdown",
   "metadata": {},
   "source": [
    "## Domain Name Server (DNS):\n",
    "- DNS server simply contains a mapped database of domain names like (www.google.com) to IP addresses like (8.8.8.8)\n",
    "- In its essence, it is a distributed database system.\n",
    "- When client enters a URL into the browser and presses enter, firstly local DNS is contacted.\n",
    "- When Local DNS fails to find the URL in its database.\n",
    "- more info: https://www.ibm.com/docs/en/i/7.5?topic=system-dns-concepts"
   ]
  },
  {
   "cell_type": "markdown",
   "metadata": {},
   "source": [
    "## Working of Transmission Control Protocol (TCP):\n",
    "- TCP does a 3 way handshake\n",
    "- First client sends a HTTP request to server in order to establish a connection. This is called SYN packet.\n",
    "- Server sends a HTTP response to client in order to agree with the connection. This is called SYN-ACK packet.\n",
    "- Then client sends the acknowledgement to the server, This is called ACK packet. Now the connection is fully established. \n",
    "- More info:\n",
    "    - https://www.coursera.org/articles/three-way-handshake\n",
    "    - https://developer.mozilla.org/en-US/docs/Glossary/TCP_handshake\n",
    "    - https://learn.microsoft.com/en-us/troubleshoot/windows-server/networking/three-way-handshake-via-tcpip\n",
    "\n",
    "- Instructor says, TCP is a very reliable protocol and its an error-free protocol."
   ]
  },
  {
   "cell_type": "markdown",
   "metadata": {},
   "source": [
    "## Lab Task:\n",
    "- create a router which is connected to a client, a DNS server, and a webserver in its different interfaces.\n",
    "- client ip: 1.1.1.1, DNS ip: 2.2.2.2, Web Server ip: 3.3.3.3\n",
    "- When client types \"www.cdac.in\", request should go to web server and web server should respond with a web page with text \"Welcome to C-DAC\".\n",
    "- There should be an entry in DNS database such that, www.cdac.in -> 3.3.3.3\n",
    "- Furthermore, now add two routers, refer to the diagrammatical representation:\n",
    "<pre>\n",
    "                             DNS (2.2.2.2)\n",
    "                            /\n",
    "client (1.1.1.1) ------- router1 ------------------- router2 ------- Web Server (3.3.3.3)\n",
    "                                4.4.4.1      4.4.4.2                     (www.cdac.in)\n",
    "</pre>"
   ]
  }
 ],
 "metadata": {
  "language_info": {
   "name": "python"
  },
  "orig_nbformat": 4
 },
 "nbformat": 4,
 "nbformat_minor": 2
}
