{
 "cells": [
  {
   "cell_type": "markdown",
   "metadata": {},
   "source": [
    "# Simulating an internet."
   ]
  },
  {
   "cell_type": "markdown",
   "metadata": {},
   "source": [
    "- Everyone is familiar with \"World Wide Web = WWW\".\n",
    "- Various websites have different routing mechanisms (Whether client-side or server-side routing).\n",
    "- Various websites have Advertisements, which can be their own in-house ads service or from a provider like Google.\n"
   ]
  },
  {
   "cell_type": "markdown",
   "metadata": {},
   "source": [
    "## Hyperlinks\n",
    "- These are links to different pages, which can be hosted on the same computer or some other computer."
   ]
  },
  {
   "cell_type": "markdown",
   "metadata": {},
   "source": [
    "## World Wide Web\n",
    "- WWW is nothing but a collection and connection of various files hosted across various computers across the world."
   ]
  },
  {
   "cell_type": "markdown",
   "metadata": {},
   "source": [
    "## HyperText Transfer Protocol (HTTP):\n",
    "- This is an application layer protocol.\n",
    "- It follows on client-server request-response structure.\n",
    "- Client sends a HTTP request to server and server responds with a HTTP response."
   ]
  },
  {
   "cell_type": "markdown",
   "metadata": {},
   "source": [
    "## Domain Name Server (DNS):\n",
    "- DNS server simply contains a mapped database of domain names like (www.google.com) to IP addresses like (8.8.8.8)\n",
    "- In its essence, it is a distributed database system.\n",
    "- When client enters a URL into the browser and presses enter, firstly local DNS is contacted.\n",
    "- When Local DNS fails to find the URL in its database.\n",
    "- more info: https://www.ibm.com/docs/en/i/7.5?topic=system-dns-concepts"
   ]
  },
  {
   "cell_type": "markdown",
   "metadata": {},
   "source": [
    "## Working of Transmission Control Protocol (TCP):\n",
    "- TCP does a 3 way handshake\n",
    "- First client sends a HTTP request to server in order to establish a connection. This is called SYN packet.\n",
    "- Server sends a HTTP response to client in order to agree with the connection. This is called SYN-ACK packet.\n",
    "- Then client sends the acknowledgement to the server, This is called ACK packet. Now the connection is fully established. \n",
    "- More info:\n",
    "    - https://www.coursera.org/articles/three-way-handshake\n",
    "    - https://developer.mozilla.org/en-US/docs/Glossary/TCP_handshake\n",
    "    - https://learn.microsoft.com/en-us/troubleshoot/windows-server/networking/three-way-handshake-via-tcpip\n",
    "\n",
    "- Instructor says, TCP is a very reliable protocol and its an error-free protocol."
   ]
  },
  {
   "cell_type": "markdown",
   "metadata": {},
   "source": [
    "## Lab Task:\n",
    "- create a router which is connected to a client, a DNS server, and a webserver in its different interfaces.\n",
    "- client ip: 1.1.1.1, DNS ip: 2.2.2.2, Web Server ip: 3.3.3.3\n",
    "- When client types \"www.cdac.in\", request should go to web server and web server should respond with a web page with text \"Welcome to C-DAC\".\n",
    "- There should be an entry in DNS database such that, www.cdac.in -> 3.3.3.3\n",
    "- Furthermore, now add two routers, refer to the diagrammatical representation:\n",
    "<pre>\n",
    "                             DNS (2.2.2.2)\n",
    "                            /\n",
    "client (1.1.1.1) ------- router1 ------------------- router2 ------- Web Server (3.3.3.3)\n",
    "                                4.4.4.1      4.4.4.2                     (www.cdac.in)\n",
    "</pre>"
   ]
  },
  {
   "cell_type": "markdown",
   "metadata": {},
   "source": [
    "- For solution, refer to the screenshots and savefile in this folder."
   ]
  },
  {
   "cell_type": "markdown",
   "metadata": {},
   "source": [
    "## Some observations:\n",
    "- Firstly, a DNS packet is sent to DNS server along with the requested URL.\n",
    "- DNS server resolves that URL and send the associated IP address to the client.\n",
    "- Then the client starts a TCP handshake with the Web Server by sending a SYN (Synchronize Sequence Number) packet.\n",
    "- After receiving the SYN packet, server responds to the client request with SYN-ACK packet. \n",
    "- In final part of TCP handshake, client acknowledges the response of the server and they both establish a reliable connection with which they will start the actual data transfer through HTTP.\n",
    "- Now the client will send a HTTP request to the server.\n",
    "- Server will respond with a HTTP response which also contains the requested webpage (the landing page is \"index.html\").\n",
    "- Now that all the HTTP requests and responses are done, Client will initiate a request for a \"Graceful TCP connection termination\" by sending a FIN packet to server.\n",
    "- Server will respond by sending a FIN + ACK packet to client.\n",
    "- Client will respond by sending a ACK packet to server. Now the TCP connection is closed.\n",
    "\n",
    "- You can use filters in event list and view detailed PDU information of each HTTP packet that was exchanged between client and server.\n",
    "\n",
    "- Instructor says that when you make another request to same server (for eg. visiting a different page or refreshing the same page), connection should go straight to web server instead of going through dns server.\n",
    "\n",
    "- However, due to some reason, DNS server or client was not caching the DNS response.\n",
    "\n",
    "- Instructor says that in Engineering colleges, a rigid structure is followed for teaching, theory is taught first and then labs. But in C-DAC, instructor gets more freedom and autonomy to teach in the best possible way. Instructor says that best way to teach computer networking is through Cisco Packet Tracer. \n",
    "\n",
    "- For more info on TCP 3-way handshake and graceful TCP connection termination:\n",
    "    - https://www.codecademy.com/resources/blog/what-is-tcp/\n",
    "    - https://www.geeksforgeeks.org/tcp-3-way-handshake-process/\n",
    "    - https://www.geeksforgeeks.org/tcp-connection-termination/\n",
    "    - http://www.tcpipguide.com/free/t_TCPConnectionEstablishmentProcessTheThreeWayHandsh.htm\n",
    "    - http://www.tcpipguide.com/free/t_TCPConnectionTermination.htm\n",
    "\n",
    "\n"
   ]
  },
  {
   "cell_type": "markdown",
   "metadata": {},
   "source": [
    "## Lab Task: Create a DNS server hierarchy of local, root, TLD, Authority DNS servers which then resolve the URL of a Web server to a client.\n",
    "- Hint:  use \"NS Record\" instead of just \"A Record\" in order to forward a DNS request to another DNS server in DNS server hierarchy."
   ]
  },
  {
   "cell_type": "markdown",
   "metadata": {},
   "source": [
    "## Functioning of a LAN Switch\n",
    "- If there is a switch in the path of a source and destination client.\n",
    "- Initially, switch sends the incoming packet to all its neighbours.\n",
    "- The neighbours which are not on the path from source to destination will simply discard the packet.\n",
    "- only those neighbours which are not the path from source to destination will accept the packet and pass it forward.\n",
    "\n",
    "- However, next time when you send a packet from the same source to same destination.\n",
    "- The switch will send the packet only to the neighbour which is on the path from source to destination.\n",
    "- This is because switch is a self-learning machine.\n",
    "- It maintains a MAC address table, it associates the destination address with MAC address and interface of next hop.\n",
    "- This is called the \"Filter and forward\" mechanism of the switches.\n",
    "\n",
    "- Also switches use something called a \"spanning tree protocol\", they will avoid going through path with more hops if there exists a path with lesser number of hops.\n",
    "\n",
    "- See savefile and screenshots for more info."
   ]
  },
  {
   "cell_type": "markdown",
   "metadata": {},
   "source": [
    "## See this folder for Exam question which includes Everything (DHCP and static clients, DNS Server, RIP routing, two HTTP servers, and redundant links)"
   ]
  }
 ],
 "metadata": {
  "language_info": {
   "name": "python"
  },
  "orig_nbformat": 4
 },
 "nbformat": 4,
 "nbformat_minor": 2
}
