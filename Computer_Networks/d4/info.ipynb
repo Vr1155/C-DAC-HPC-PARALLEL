{
 "cells": [
  {
   "cell_type": "markdown",
   "metadata": {},
   "source": [
    "# Simulating an internet."
   ]
  },
  {
   "cell_type": "markdown",
   "metadata": {},
   "source": [
    "- Everyone is familiar with \"World Wide Web = WWW\".\n",
    "- Various websites have different routing mechanisms (Whether client-side or server-side routing).\n",
    "- Various websites have Advertisements, which can be their own in-house ads service or from a provider like Google.\n"
   ]
  },
  {
   "cell_type": "markdown",
   "metadata": {},
   "source": [
    "## Hyperlinks\n",
    "- These are links to different pages, which can be hosted on the same computer or some other computer."
   ]
  },
  {
   "cell_type": "markdown",
   "metadata": {},
   "source": [
    "## World Wide Web\n",
    "- WWW is nothing but a collection and connection of various files hosted across various computers across the world."
   ]
  },
  {
   "cell_type": "markdown",
   "metadata": {},
   "source": [
    "## HyperText Transfer Protocol (HTTP):\n",
    "- This is an application layer protocol.\n",
    "- It follows on client-server request-response structure.\n",
    "- Client sends a HTTP request to server and server responds with a HTTP response."
   ]
  },
  {
   "cell_type": "markdown",
   "metadata": {},
   "source": [
    "## Domain Name Server (DNS):\n",
    "- DNS server simply contains a mapped database of domain names like (www.google.com) to IP addresses like (8.8.8.8)\n",
    "- In its essence, it is a distributed database system.\n",
    "- When client enters a URL into the browser and presses enter, firstly local DNS is contacted.\n",
    "- When Local DNS fails to find the URL in its database.\n",
    "- more info: https://www.ibm.com/docs/en/i/7.5?topic=system-dns-concepts"
   ]
  },
  {
   "cell_type": "markdown",
   "metadata": {},
   "source": [
    "## Working of Transmission Control Protocol (TCP):\n",
    "- TCP does a 3 way handshake\n",
    "- First client sends a HTTP request to server in order to establish a connection. This is called SYN packet.\n",
    "- Server sends a HTTP response to client in order to agree with the connection. This is called SYN-ACK packet.\n",
    "- Then client sends the acknowledgement to the server, This is called ACK packet. Now the connection is fully established. \n",
    "- More info:\n",
    "    - https://www.coursera.org/articles/three-way-handshake\n",
    "    - https://developer.mozilla.org/en-US/docs/Glossary/TCP_handshake\n",
    "    - https://learn.microsoft.com/en-us/troubleshoot/windows-server/networking/three-way-handshake-via-tcpip\n",
    "\n",
    "- Instructor says, TCP is a very reliable protocol and its an error-free protocol."
   ]
  },
  {
   "cell_type": "markdown",
   "metadata": {},
   "source": [
    "## Lab Task:\n",
    "- create a router which is connected to a client, a DNS server, and a webserver in its different interfaces.\n",
    "- client ip: 1.1.1.1, DNS ip: 2.2.2.2, Web Server ip: 3.3.3.3\n",
    "- When client types \"www.cdac.in\", request should go to web server and web server should respond with a web page with text \"Welcome to C-DAC\".\n",
    "- There should be an entry in DNS database such that, www.cdac.in -> 3.3.3.3\n",
    "- Furthermore, now add two routers, refer to the diagrammatical representation:\n",
    "<pre>\n",
    "                             DNS (2.2.2.2)\n",
    "                            /\n",
    "client (1.1.1.1) ------- router1 ------------------- router2 ------- Web Server (3.3.3.3)\n",
    "                                4.4.4.1      4.4.4.2                     (www.cdac.in)\n",
    "</pre>"
   ]
  },
  {
   "cell_type": "markdown",
   "metadata": {},
   "source": [
    "- For solution, refer to the screenshots and savefile in this folder."
   ]
  },
  {
   "cell_type": "markdown",
   "metadata": {},
   "source": [
    "## Some observations:\n",
    "- Firstly, a DNS packet is sent to DNS server along with the requested URL.\n",
    "- DNS server resolves that URL and send the associated IP address to the client.\n",
    "- Then the client starts a TCP handshake with the Web Server by sending a SYN (Synchronize Sequence Number) packet.\n",
    "- After receiving the SYN packet, server responds to the client request with SYN-ACK packet. \n",
    "- In final part of TCP handshake, client acknowledges the response of the server and they both establish a reliable connection with which they will start the actual data transfer through HTTP.\n",
    "- Now the client will send a HTTP request to the server.\n",
    "- Server will respond with a HTTP response which also contains the requested webpage (the landing page is \"index.html\").\n",
    "- Now that all the HTTP requests and responses are done, Client will initiate a request for a \"Graceful TCP connection termination\" by sending a FIN packet to server.\n",
    "- Server will respond by sending a FIN + ACK packet to client.\n",
    "- Client will respond by sending a ACK packet to server. Now the TCP connection is closed.\n",
    "\n",
    "- You can use filters in event list and view detailed PDU information of each HTTP packet that was exchanged between client and server.\n",
    "\n",
    "- Instructor says that when you make another request to same server (for eg. visiting a different page or refreshing the same page), connection should go straight to web server instead of going through dns server.\n",
    "\n",
    "- However, due to some reason, DNS server or client was not caching the DNS response.\n",
    "\n",
    "- Instructor says that in Engineering colleges, a rigid structure is followed for teaching, theory is taught first and then labs. But in C-DAC, instructor gets more freedom and autonomy to teach in the best possible way. Instructor says that best way to teach computer networking is through Cisco Packet Tracer. \n",
    "\n",
    "- For more info on TCP 3-way handshake and graceful TCP connection termination:\n",
    "    - https://www.codecademy.com/resources/blog/what-is-tcp/\n",
    "    - https://www.geeksforgeeks.org/tcp-3-way-handshake-process/\n",
    "    - https://www.geeksforgeeks.org/tcp-connection-termination/\n",
    "    - http://www.tcpipguide.com/free/t_TCPConnectionEstablishmentProcessTheThreeWayHandsh.htm\n",
    "    - http://www.tcpipguide.com/free/t_TCPConnectionTermination.htm\n",
    "\n",
    "\n"
   ]
  },
  {
   "cell_type": "markdown",
   "metadata": {},
   "source": [
    "## Lab Task: Create a DNS server hierarchy of local, root, TLD, Authority DNS servers which then resolve the URL of a Web server to a client.\n",
    "- Hint:  use \"NS Record\" instead of just \"A Record\" in order to forward a DNS request to another DNS server in DNS server hierarchy."
   ]
  },
  {
   "cell_type": "markdown",
   "metadata": {},
   "source": [
    "## Functioning of a LAN Switch\n",
    "- If there is a switch in the path of a source and destination client.\n",
    "- Initially, switch sends the incoming packet to all its neighbours.\n",
    "- The neighbours which are not on the path from source to destination will simply discard the packet.\n",
    "- only those neighbours which are not the path from source to destination will accept the packet and pass it forward.\n",
    "\n",
    "- However, next time when you send a packet from the same source to same destination.\n",
    "- The switch will send the packet only to the neighbour which is on the path from source to destination.\n",
    "- This is because switch is a self-learning machine.\n",
    "- It maintains a MAC address table, it associates the destination address with MAC address and interface of next hop.\n",
    "- This is called the \"Filter and forward\" mechanism of the switches.\n",
    "\n",
    "- Also switches use something called a \"spanning tree protocol\", they will avoid going through path with more hops if there exists a path with lesser number of hops.\n",
    "\n",
    "- See savefile and screenshots for more info."
   ]
  },
  {
   "cell_type": "markdown",
   "metadata": {},
   "source": [
    "## See this folder for Exam question which includes Everything (DHCP and static clients, DNS Server, RIP routing, two HTTP servers, and redundant links)\n",
    "- Follow up question, What if we want to remove the DNS server. How can we still implement it?\n",
    "- Hint: turn DHCP into a DHCP+DNS server"
   ]
  },
  {
   "cell_type": "markdown",
   "metadata": {},
   "source": [
    "## Final windup session:\n",
    "- Lets say there were some constraints in the previous question.\n",
    "- Lets say there were constraints on address space.\n",
    "- like for eg: 1.1.1.0/24,\n",
    "- You have to build the complete network using that address space only.\n",
    "- You still have 254 addresses but there are atleast 9 or 10 subnets.\n",
    "- How will you do it?\n",
    "\n",
    "- My Solution to break down 1 big subnet (with 254 addresses) into 9 smaller subnets (5 with 8 ip addresses each and 4 with 4 ip addresses each):\n",
    "    - 1.1.1.0/29\n",
    "    - 1.1.1.8/29\n",
    "    - 1.1.1.16/29\n",
    "    - 1.1.1.24/29\n",
    "    - 1.1.1.32/29\n",
    "    - 1.1.1.40/30\n",
    "    - 1.1.1.44/30\n",
    "    - 1.1.1.48/30\n",
    "    - 1.1.1.52/30\n",
    "\n",
    "- Instructor's recommendation:\n",
    "    - 1.1.1.0/29\n",
    "    - 1.1.1.8/29\n",
    "    - 1.1.1.16/29\n",
    "    - 1.1.1.24/29\n",
    "    - 1.1.1.32/29\n",
    "    - 1.1.1.40/29\n",
    "    - 1.1.1.48/29\n",
    "    - 1.1.1.56/29\n",
    "    - 1.1.1.64/29"
   ]
  },
  {
   "cell_type": "markdown",
   "metadata": {},
   "source": [
    "- This is what most network administrators do. This is the value that they bring to their organization.\n",
    "- Companies do not have unlimited budget for buying and using huge number of IP addresses. \n",
    "- They have to adjust all of their IT infra and networking hardware within the constraint of address space that organization can afford."
   ]
  },
  {
   "cell_type": "markdown",
   "metadata": {},
   "source": [
    "## Career opportunities in computer networking:\n",
    "- Companies like Airtel and Jio hire Network Architects who do the design and engineering of Network architecture.\n",
    "    - Design = Setting up routers and the network.\n",
    "    - Collection of Requirements = Scale of operation and how can organization scale up due to increased demand.\n",
    "    - This does not require coding skill but domain knowledge of computer networks and computer networking hardware like routers is much needed.\n",
    "- Maintainance and management of Networks (Network Management):\n",
    "    - Companies use 3rd party network managers to manage their network infrastructure.\n",
    "    - Even Automobile companies have their own network, instead of spending money in-house, they hire 3rd party companies like infosys and wipro who do the network management.\n",
    "- Product Development companies:\n",
    "    - Product Development companies will need programming skills.\n",
    "    - If you want to get into Hardware Development you need C/C++, your skills in Java and Python will not work there.\n",
    "    - Java and Python will be useful in webdev.\n",
    "- Protocol Design and research:\n",
    "    - development of new protocols: RFC = request for Comment.\n",
    "    - The email protocol was developed in academics and not in industry.\n",
    "    - this is pure Research and Development Activities.\n",
    "- Telecom industry:\n",
    "    - Mobile phones also implement networking protocols over the internet.\n",
    "    - Mobile phone protocols.\n"
   ]
  },
  {
   "cell_type": "markdown",
   "metadata": {},
   "source": [
    "## Instructor's experience:\n",
    "- Back in the day there was no internet, there were no private operators.\n",
    "- Worked in NIC (National Informatics Center).\n",
    "- Creating IT infra for govt offices.\n",
    "- Worked as a marketing as well as business person.\n",
    "- Wireless connectivity was required.\n",
    "- Company got 5 cr business and work 1 year."
   ]
  },
  {
   "cell_type": "markdown",
   "metadata": {},
   "source": [
    "## Cisco certfication:\n",
    "- CCNE and CCNA (These are related to cybersecurity)"
   ]
  },
  {
   "cell_type": "markdown",
   "metadata": {},
   "source": [
    "## One assignment and One lab exam\n",
    "- You have to upload packet tracer file and screenshots\n",
    "- even if only pinging (but no browser) is happening then 75%.\n",
    "- if DNS and browsing is also working 100%.\n",
    "- Whatever that has been covered in the class will be asked in end module exam.\n",
    "- but in final exam, Instructor does not know what will happen."
   ]
  }
 ],
 "metadata": {
  "language_info": {
   "name": "python"
  },
  "orig_nbformat": 4
 },
 "nbformat": 4,
 "nbformat_minor": 2
}
