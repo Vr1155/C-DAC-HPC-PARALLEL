{
 "cells": [
  {
   "cell_type": "markdown",
   "metadata": {},
   "source": [
    "# Linear Regression and Ensemble learning"
   ]
  },
  {
   "cell_type": "markdown",
   "metadata": {},
   "source": [
    "## Simple linear regression (SLR)\n",
    "- SLR is a statistical technique used for finding the existence of an association relationship between a dependent variable (response variable) and an independent variable (feature).\n",
    "- In SLR : y = f(x)\n",
    "- Here, x and y are continuous variables."
   ]
  },
  {
   "cell_type": "markdown",
   "metadata": {},
   "source": [
    "## Multiple Linear Regression (MLR)\n",
    "- For multiple linear regression, there are multiple independent variables like x1, x2, x3, ..., xn.\n",
    "- However, dependent variable is still one like y.\n",
    "- In SLR: y = f(x1, x2, x3, ..., xn)"
   ]
  },
  {
   "cell_type": "markdown",
   "metadata": {},
   "source": [
    "## Few examples of simple and multiple regression.\n",
    "... (Refer slides)\n",
    "2. Insurance companies would like to understand the association between healthcare costs and ageing. (SLR).\n",
    "4. Restaurants would like to know the relationship between the customer waiting time and revenue..."
   ]
  },
  {
   "cell_type": "markdown",
   "metadata": {},
   "source": [
    "## Steps to building Simple Linear Regression model:\n",
    "1. Extract Data\n",
    "2. Pre-process the data\n",
    "... refer slides"
   ]
  },
  {
   "cell_type": "markdown",
   "metadata": {
    "vscode": {
     "languageId": "plaintext"
    }
   },
   "source": [
    "## Steps in building Linear regression model.\n",
    "1. Perform Descriptive Analytics\n",
    "2. Build the Model\n",
    "3. Perform Model Diagnostics\n",
    "4. Validate the Model and Measure Model Accuracy\n",
    "5. Decide on Model Deployment."
   ]
  },
  {
   "cell_type": "markdown",
   "metadata": {},
   "source": [
    "## SLR in more detail with example..\n",
    "\n"
   ]
  },
  {
   "cell_type": "markdown",
   "metadata": {},
   "source": [
    "- Assume that we have 8 samples of x and y.\n",
    "- 5 we are using to make training \n",
    "- output of this will be \"m\" and \"c\"\n",
    "- we will use these value to formulate the equation: y = m*x + c.\n",
    "- Lets say, m = 1.8 and c = 25\n",
    "- then output equation becomes y = 1.8*x + 25."
   ]
  },
  {
   "cell_type": "markdown",
   "metadata": {},
   "source": [
    "- Evaluate this model by applying remaining 3 samples and calculate error.\n",
    "- These 3 samples we apply to model to get y_out (also known as y cap)\n"
   ]
  },
  {
   "cell_type": "markdown",
   "metadata": {},
   "source": [
    "- Instructor that this dataset is way too small. \n",
    "- Real world model production need Big Data."
   ]
  },
  {
   "cell_type": "markdown",
   "metadata": {},
   "source": [
    "## Why are negative errors undesireable?\n",
    "- According to Instructor, positive and negative errors tend to cancel each other.\n",
    "- Therefore, for a more accurate representation of errors, we need to only consider the amplitude of the error."
   ]
  },
  {
   "cell_type": "markdown",
   "metadata": {},
   "source": [
    "\n",
    "- There are various ways we can measure the variance between predicted and actual values.\n",
    "- One such metric is Mean Squared Error (MSE) or Root Mean Squared Error (RMSE)"
   ]
  },
  {
   "cell_type": "markdown",
   "metadata": {},
   "source": [
    "## Example:\n",
    "- File name: MBA Salary.csv contains the salary of 50 graduating MBA students of a Business School in 2016 and their corresponding percentage marks in grade 10. Develop an SLR model to understand and predict salary based on the percentage of marks in Grade 10."
   ]
  },
  {
   "cell_type": "markdown",
   "metadata": {},
   "source": [
    "## Steps:\n",
    " (Refer slides) "
   ]
  },
  {
   "cell_type": "markdown",
   "metadata": {},
   "source": [
    "- Importing pandas and numpy packages\n",
    "- loading data set\n",
    "- Printing the detail information of DF\n",
    "- Creating feature X and label y\n",
    "- Splitting dataset into training and validation sets (80-20 split).\n",
    "    - train_test_split() returns 4 variable below:\n",
    "        1. train_X\n",
    "        2. train_Y\n",
    "        3. test_X\n",
    "        4. test_Y\n",
    "- Building the model\n",
    "- Evaluate the trained model using validation set\n"
   ]
  },
  {
   "cell_type": "markdown",
   "metadata": {},
   "source": [
    "## Finding MSE and R2 Score\n",
    "\n",
    "### R2 Score: \n",
    "- A relative metric in which the higher the value, the better the model's fit.\n",
    "- In essence, this metric represents homw much of the variance between predicted and actual label values the model is able to explain.\n",
    "\n",
    "```python\n",
    "    from sklearn.metrics import r2_score, mean_squared_error\n",
    "    np.abs(r2_score(test_y, pred_y))\n",
    "    # 0.1566\n",
    "    # So, the model only explains 15.6% of the variance in the validation set.\n",
    "```\n",
    "\n"
   ]
  },
  {
   "cell_type": "markdown",
   "metadata": {
    "vscode": {
     "languageId": "plaintext"
    }
   },
   "source": [
    "## SLR with simple linear regression with decision tree.\n",
    "\n",
    "\n",
    "- Decision tree is a systematic structured representation of our problem.\n",
    "    - as the number of trees in decision can be numerous,\n",
    "    - we can use decision tree can be used for classification as well as regression models.\n",
    "    - It is also used for linearly inseparable problems\n",
    "    - Important things:\n",
    "        1. Selection of attribute for root node (Do IG calculation)\n",
    "        2. Make systematic tree structure by seeing the problem\n",
    "        3. Make logical constructs like if conditions from the tree.\n"
   ]
  },
  {
   "cell_type": "markdown",
   "metadata": {},
   "source": [
    "## SLR using desicion tree\n",
    "- The regression method is good, if the relationship between ind., and dep., variables are linear\n",
    "- (Refer slides)\n",
    "- also notice the improvement in R2 score."
   ]
  },
  {
   "cell_type": "markdown",
   "metadata": {},
   "source": [
    "# Ensemble Algorithm (ENA)"
   ]
  },
  {
   "cell_type": "markdown",
   "metadata": {},
   "source": [
    "- ENA construct not just one decision tree, but a large number of trees, allowing better predictions on more complex data.\n",
    "- It work by combining multiple base estimators to produce an optimal model, by applying **an aggregate function to a collection of base models** (referred to **bagging**).\n",
    "- It work by combining multiple base estimators to produce an optimal model, by building **a sequence of model that build on one another to improve predictive performance** (referred to as **boosting**)."
   ]
  }
 ],
 "metadata": {
  "language_info": {
   "name": "python"
  }
 },
 "nbformat": 4,
 "nbformat_minor": 2
}
