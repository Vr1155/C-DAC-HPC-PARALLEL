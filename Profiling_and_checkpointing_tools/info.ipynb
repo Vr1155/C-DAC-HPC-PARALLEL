{
 "cells": [
  {
   "cell_type": "markdown",
   "metadata": {},
   "source": [
    "# Profiling and checkpointing tools"
   ]
  },
  {
   "cell_type": "markdown",
   "metadata": {},
   "source": [
    "- Intro\n",
    "\n",
    "- performance tools overview\n",
    "- profiling tools\n",
    "    - GNU gprof\n",
    "    - valgrind\n",
    "    - and many more\n",
    "- What does it mean to use system efficiently?"
   ]
  },
  {
   "cell_type": "markdown",
   "metadata": {
    "vscode": {
     "languageId": "plaintext"
    }
   },
   "source": [
    "## The Software Optimization process\n",
    "1. Create Benchmark\n",
    "2. Find hotspots (Hotspots are those areas in your code that take long time to execute).\n",
    "3. Investigate causes\n",
    "4. Modify application\n",
    "5. Retest using Benchmark\n",
    "6. go to step 2."
   ]
  },
  {
   "cell_type": "markdown",
   "metadata": {
    "vscode": {
     "languageId": "plaintext"
    }
   },
   "source": [
    "## **Extreme** Optimization pitfalls\n",
    "- Large applications performance cannot be improved before it runs.\n",
    "- Build the application then see what machine it runs on.\n",
    "- Debug versus release builds.\n",
    "- Performance require assembly language programming.\n",
    "- Code features first then optimize if there is some time left over."
   ]
  },
  {
   "cell_type": "markdown",
   "metadata": {},
   "source": [
    "## Key point of Software Optimization\n",
    "- refer slides."
   ]
  },
  {
   "cell_type": "markdown",
   "metadata": {},
   "source": [
    "- The Benchmark\n",
    "- Attributes of good benchmark\n",
    "- ... (refer slides)"
   ]
  },
  {
   "cell_type": "markdown",
   "metadata": {},
   "source": [
    "## How to find performance bottlenecks\n",
    "- refer slides."
   ]
  },
  {
   "cell_type": "markdown",
   "metadata": {},
   "source": [
    "## Performance tools overview\n",
    "- Timing mechanism\n",
    "    - Stopwatch: UNIX time tool\n",
    "- Optimizing compiler\n",
    "- System load monitors\n",
    "    - vmstat\n",
    "    - iostat\n",
    "    - perfmon.exe\n",
    "    - Vtune Counter\n",
    "- Software profiler\n",
    "    - Gprof\n",
    "    - Vtune\n",
    "    - visual cpp profiler\n",
    "    - ibm quantify\n",
    "- memory debugger/profiler\n",
    "    - Valgrind\n",
    "    - ibm purify"
   ]
  },
  {
   "cell_type": "markdown",
   "metadata": {},
   "source": [
    "## Optimization flags combination\n",
    "- a detailed list of optimization flags.\n",
    "- a horizontal bar graph showing the speedup by using the optimization flags."
   ]
  },
  {
   "cell_type": "markdown",
   "metadata": {},
   "source": [
    "## Windows Performance Monitor\n",
    "- Sampling Profiler\n",
    "## UNIX Tools\n",
    "- vmstat, iostat, xos, top, oprofile, etc."
   ]
  },
  {
   "cell_type": "markdown",
   "metadata": {
    "vscode": {
     "languageId": "plaintext"
    }
   },
   "source": [
    "- Gprof = cpu related profiler\n",
    "- Intel VTune = Intel cpu related profiler\n",
    "- Valgrind = memory related profiler"
   ]
  },
  {
   "cell_type": "markdown",
   "metadata": {
    "vscode": {
     "languageId": "plaintext"
    }
   },
   "source": [
    "## Gprof\n",
    "- Compiler and link your program with profile enabled:\n",
    "    - cc -g -c myprog.c utils.c -pg\n",
    "    - cc -o myprog myprog.o utils.o -pg\n",
    "- Execute your program to generate a profile data file\n",
    "    - Program will run normally (but slower) and will write the profile data into a file called gmon.out just before exiting.\n",
    "    - Program should exit using exit() function.\n",
    "- Run gprof to analyze the profile data\n",
    "    - syntax: grof object_file_name.out"
   ]
  },
  {
   "cell_type": "markdown",
   "metadata": {},
   "source": [
    "## How gprof works\n",
    "- refer slides\n",
    "- higher sampling frequency = higher accuracy."
   ]
  },
  {
   "cell_type": "markdown",
   "metadata": {
    "vscode": {
     "languageId": "plaintext"
    }
   },
   "source": [
    "## VTune \n",
    "- VTune Modes/Features\n"
   ]
  },
  {
   "cell_type": "markdown",
   "metadata": {},
   "source": [
    "## Sampling Mode Benefits\n",
    "- Profiling to find hotspots\n",
    "- Low overhead\n",
    "- No need for overhead."
   ]
  },
  {
   "cell_type": "markdown",
   "metadata": {
    "vscode": {
     "languageId": "plaintext"
    }
   },
   "source": [
    "## How does sampling work?\n",
    "- Time-based sampling\n",
    "- Event-based sampling"
   ]
  },
  {
   "cell_type": "markdown",
   "metadata": {},
   "source": [
    "## Events counted by VTune\n",
    "- Basic Events\n",
    "- Instruction Execution\n",
    "- Cycle Accounting Events\n",
    "- Branch events\n",
    "- memory hierarchy\n",
    "- system events\n"
   ]
  },
  {
   "cell_type": "markdown",
   "metadata": {},
   "source": [
    "## Viewing sampling results\n",
    "- Process view\n",
    "- Thread view\n",
    "- Module view\n",
    "- Hotspot view"
   ]
  },
  {
   "cell_type": "markdown",
   "metadata": {},
   "source": [
    "- Call Graph Mode\n",
    "- Call Graph Screenshot (with critical path aka path that takes longest time highlighted)\n"
   ]
  },
  {
   "cell_type": "markdown",
   "metadata": {},
   "source": [
    "## Counter Monitor\n",
    "- collect and display performance counter data."
   ]
  },
  {
   "cell_type": "markdown",
   "metadata": {},
   "source": [
    "## Valgrind\n",
    "- Multi-purpose Linux x86 profiling tool"
   ]
  },
  {
   "cell_type": "markdown",
   "metadata": {
    "vscode": {
     "languageId": "plaintext"
    }
   },
   "source": [
    "## Valgrind Toolkit\n",
    "- Memcheck\n",
    "- Cachegrind \n",
    "- Massif\n",
    "- Helgrind"
   ]
  },
  {
   "cell_type": "markdown",
   "metadata": {},
   "source": [
    "# Memcheck Features\n",
    "- what Memcheck can detect\n",
    "- all r/w to memory are checked and all dynamic memory allocations are intercepted.\n",
    "- Memcheck reports"
   ]
  },
  {
   "cell_type": "markdown",
   "metadata": {
    "vscode": {
     "languageId": "plaintext"
    }
   },
   "source": [
    "## Cachegrind\n",
    "- Detailed simulation of L1, D1 and L2 caches in your CPU.\n",
    "- pinpoints sources of cache misses.\n",
    "- shortcoming:\n",
    "    - doesn't account for kernel activity\n",
    "    - doesn't account for other process activity."
   ]
  },
  {
   "cell_type": "markdown",
   "metadata": {},
   "source": [
    "## Massif \n",
    "- measures how much heap memory programs use.\n",
    "- info on\n",
    "    - heap blocks\n",
    "    - heap admin blocks\n",
    "    - stack sizes\n",
    "- helps reduce the memory utilization\n",
    "- detect leaks which are not detected by traditional leak-checkers like Memcheck."
   ]
  },
  {
   "cell_type": "markdown",
   "metadata": {},
   "source": [
    "## Valgrind summary."
   ]
  },
  {
   "cell_type": "markdown",
   "metadata": {},
   "source": [
    "- Paraprof and perfexplorer\n"
   ]
  },
  {
   "cell_type": "markdown",
   "metadata": {},
   "source": [
    "## TAU profiler\n",
    "- TAU performance System Architecture\n",
    "- PerfDMF: Performance Data Mgmt. Framework\n",
    "- All the different Visualizations and views."
   ]
  },
  {
   "cell_type": "markdown",
   "metadata": {},
   "source": [
    "## Fault Tolerant System\n",
    "- Checkpointing and Rollback Recovery Protocols"
   ]
  },
  {
   "cell_type": "markdown",
   "metadata": {},
   "source": [
    "- Instructor gives an example\n",
    "    - 10 nodes using OpenMPI are completing a task parallel which takes 10 hrs.\n",
    "    - if one node fails, that node has to run its task, and it takes 10 more hrs till we get output.\n",
    "    - thus we need good checkpointing and rollback mechanisms to avoid such a situation in HPC environment."
   ]
  },
  {
   "cell_type": "markdown",
   "metadata": {
    "vscode": {
     "languageId": "plaintext"
    }
   },
   "source": [
    "- Checkpointing and profiling part will be included in exam."
   ]
  }
 ],
 "metadata": {
  "language_info": {
   "name": "python"
  }
 },
 "nbformat": 4,
 "nbformat_minor": 2
}
