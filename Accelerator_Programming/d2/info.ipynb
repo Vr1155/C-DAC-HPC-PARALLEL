{
 "cells": [
  {
   "cell_type": "markdown",
   "metadata": {},
   "source": [
    "# SYCL"
   ]
  },
  {
   "cell_type": "markdown",
   "metadata": {},
   "source": [
    "## Buffer and Accessor:\n",
    "- refer slides"
   ]
  },
  {
   "cell_type": "markdown",
   "metadata": {
    "vscode": {
     "languageId": "plaintext"
    }
   },
   "source": [
    "## Buffer:\n"
   ]
  },
  {
   "cell_type": "markdown",
   "metadata": {
    "vscode": {
     "languageId": "plaintext"
    }
   },
   "source": [
    "## Accessor:\n"
   ]
  },
  {
   "cell_type": "markdown",
   "metadata": {},
   "source": [
    "## Buffer and Accessor:\n",
    "- Buffer Class\n",
    "- Accessor Class\n",
    "- Buffer & Accessor in SYCL code.\n",
    "    - buffer<data_type, dimensions> buff_a(range<dimensions>(size));\n",
    "    - buffer<data_type, dimensions> buff_c(range<dimensions>(size));\n",
    "    - auto acc_A = buff_a.get_access<access::mode::read>(cgh);\n",
    "    - auto acc_C = buff_c.get_access<access::mode::read_write>(cgh);\n"
   ]
  },
  {
   "cell_type": "markdown",
   "metadata": {
    "vscode": {
     "languageId": "plaintext"
    }
   },
   "source": [
    "- Instructor tries to connect to PARAM UTKARSH using browser.\n",
    "- Instructor says that if we try to connect with ssh port number is 4422 but through the web browser port number is 8447."
   ]
  },
  {
   "cell_type": "markdown",
   "metadata": {},
   "source": [
    "- Instructor opens a script file which does setup for SYCL.\n",
    "- command: $vim /scratch/parade/Laxmikant/set_path.sh\n",
    "- this file contains setup for intel's compiler for SYCL called icpx\n",
    "- for execution: $source /scratch/parade/Laxmikant/binaries/oneAPI_basetoolkit_inst_dir/setvars.sh\n",
    "- you can also use sh instead of source, but it opens a new shell, so source is more preferred.\n",
    "- you can see in the output, Intel's version of compiler is called icpx."
   ]
  },
  {
   "cell_type": "markdown",
   "metadata": {},
   "source": [
    "# Sample code SYCL program:\n",
    "\n",
    "```c++\n",
    "#include<iostream>\n",
    "#include<sycl/sycl.hpp>\n",
    "\n",
    "using namespace sycl;\n",
    "\n",
    "# define N 10\n",
    "\n",
    "int main(){\n",
    "    // this task will be executed on CPU:\n",
    "    Queue q(cpu_selector_v);\n",
    "    // this task will be executed on GPU:\n",
    "    //Queue q(gpu_selector_v);\n",
    "    // executed on default device specified on time of installation of SYCL:\n",
    "    //Queue q();\n",
    "\n",
    "\n",
    "    int *A = (int*)malloc_shared(sizeof(int)*N, q);\n",
    "    int *B = (int*)malloc_shared(sizeof(int)*N, q);\n",
    "    int *OUT = (int*)malloc_shared(sizeof(int)*N, q);\n",
    "\n",
    "    buffer<int, 1> buffA(A, range<1>(N));\n",
    "    buffer<int, 1> buffB(B, range<1>(N));\n",
    "    buffer<int, 1> buffOUT(OUT, range<1>(N));\n",
    "\n",
    "    q.submit([&] handler(&cgh) {\n",
    "        auto accA = buffA.get_access<access::mode::read> (cgh);\n",
    "        auto accB = buffB.get_access<access::mode::read> (cgh);\n",
    "        auto accOUT = buffOUT.get_access<access::mode::read_write> (cgh);\n",
    "\n",
    "        // for parallel execution:\n",
    "        cgh.parallel_for(range<1>N, [=](id<1> idx){\n",
    "            accOUT[idx] = accA[idx] + accB[idx];\n",
    "        });\n",
    "\n",
    "        // For serial execution:\n",
    "        // cgh.single_task(range<1>N, [=](id<1> idx){\n",
    "        //     accOUT[idx] = accA[idx] + accB[idx];\n",
    "        // });\n",
    "    });\n",
    "\n",
    "    return 0;\n",
    "}\n",
    "\n",
    "```"
   ]
  },
  {
   "cell_type": "markdown",
   "metadata": {},
   "source": [
    "- for finding icpx compiler type: $which icpx\n",
    "- You need to add icpx into your path variable.\n",
    "- for compilation: \n",
    "    - $icpx -fsycl vectoradd_sycl.cpp -o sycl1_obj\n",
    "- Syntax:\n",
    "    - $icpx -fsycl filename.cpp -o objectname\n",
    "- To view the object file in current directory: \n",
    "    - $ls -l | grep sycl1\n",
    "- for running the object file:\n",
    "    - ./sycl1_obj\n"
   ]
  },
  {
   "cell_type": "markdown",
   "metadata": {
    "vscode": {
     "languageId": "plaintext"
    }
   },
   "source": [
    "## Enqueuing a Kernel:\n",
    "- Learn about Queues and how to submit works to them.\n",
    "- refer slides."
   ]
  },
  {
   "cell_type": "markdown",
   "metadata": {
    "vscode": {
     "languageId": "plaintext"
    }
   },
   "source": [
    "## Queue:\n",
    "- In SYCL all work is submitted via commands to a queue.\n",
    "- The queue has a associated device, any commands enqueued to the queue will target that device.\n",
    "- There are several different ways to construct a queue. the most straight forward way is to default construct one."
   ]
  },
  {
   "cell_type": "markdown",
   "metadata": {
    "vscode": {
     "languageId": "plaintext"
    }
   },
   "source": [
    "## Command Groups:\n",
    "- In buffer/accessor model commands must be enqueued via command groups.\n",
    "- Command group consists of a series of commands to be executed by a device.\n",
    "- These commands include (refer slides)\n",
    "    "
   ]
  },
  {
   "cell_type": "markdown",
   "metadata": {
    "vscode": {
     "languageId": "plaintext"
    }
   },
   "source": [
    "## Composing Command Groups:\n",
    "- refer slides.\n",
    "- use a function called .wait() will ensure that all GPU side execution is complete before continuing CPU side execution."
   ]
  },
  {
   "cell_type": "markdown",
   "metadata": {
    "vscode": {
     "languageId": "plaintext"
    }
   },
   "source": [
    "## SYCL Kernel function:\n",
    "- SYCL kernel functions are defined using a kernel invoke API's provided by the handler.\n",
    "- These add a SYCL kernel function command to the command group.\n",
    "- Only one SYCL kernel function command is allowed in a command group. "
   ]
  },
  {
   "cell_type": "markdown",
   "metadata": {},
   "source": [
    "- Note:\n",
    "- lambda functions can capture external variables from enclosing scope by using the [] operator. \n",
    "- in lambda function [&] means all values are captured by reference.\n",
    "- in lambda function [=] means all values are captured by value.\n"
   ]
  },
  {
   "cell_type": "markdown",
   "metadata": {
    "vscode": {
     "languageId": "plaintext"
    }
   },
   "source": [
    "## Unified Shared Memory:\n",
    "- refer slides.\n",
    "- Unified Virtual address space.\n",
    "- pointer basesd structure\n",
    "- shared memory allocations."
   ]
  },
  {
   "cell_type": "markdown",
   "metadata": {
    "vscode": {
     "languageId": "plaintext"
    }
   },
   "source": [
    "## USM has 3 different kinds of allocations:\n",
    "- host allocation \n",
    "- device allocation\n",
    "- shared allocations in shared memory which can be accessed by host and device both."
   ]
  },
  {
   "cell_type": "markdown",
   "metadata": {},
   "source": [
    "- we can use malloc_shared() instead of using buffer and accessor model.\n",
    "- malloc_shared() syntax is much more concise."
   ]
  },
  {
   "cell_type": "markdown",
   "metadata": {
    "vscode": {
     "languageId": "plaintext"
    }
   },
   "source": [
    "## Important notes on PARAM Utkarsh's login:\n",
    "- The IP address to access PARAM Utkarsh has changed.\n",
    "- The new IP address to access PARAM Utkarsh is: 10.180.16.12 "
   ]
  },
  {
   "cell_type": "markdown",
   "metadata": {},
   "source": [
    "## Use these commands to add SYCL to environment path variables in terminal:\n",
    "\n",
    "```bash\n",
    "\n",
    "export PATH=/scratch/parade/gccv12.2.0_inst_dir/bin/:$PATH\n",
    "\n",
    "export LD_LIBRARY_PATH=/scratch/parade/gccv12.2.0_inst_dir/lib64/:/scratch/parade/mpcv1.2.1._inst_dir/lib/:scratch/parade/mpfrv4.1.0_inst_dir/lib:/scratch/parade/gmpv6.2.1_inst_dir/lib/:$LD_LIBRARY_PATH\n",
    "\n",
    "```\n",
    "\n",
    "## make sure gcc is installed:\n",
    "```bash\n",
    "which gcc\n",
    "```\n",
    "\n",
    "## Finally load the libraries by running the following command:\n",
    "```bash\n",
    "source /scratch/parade/Laxmikant/binaries/oneAPI_basetoolkit_inst_dir/setvars.sh\n",
    "```\n",
    "\n",
    "## Check whether icpx is loaded or not\n",
    "```bash\n",
    "which icpx\n",
    "```\n",
    "\n",
    "## You will notice that icpx is installed in the following location:\n",
    "- /scratch/parade/Laxmikant/binaries/oneAPI_basetoolkit_inst_dir/compiler/2023.1.0/linux/bin/icpx\n"
   ]
  },
  {
   "cell_type": "markdown",
   "metadata": {},
   "source": [
    "## Compiling a SYCL program:\n",
    "- use the following syntax: \n",
    "```bash\n",
    "    icpx -fsycl filename.cpp -o objectname\n",
    "```\n",
    "- for now use:\n",
    "```bash\n",
    "    icpx -fsycl vectoradd_sycl_usm.cpp -o vecadd_USM\n",
    "```\n",
    "- create a shell script file:\n",
    "```bash\n",
    "    vim slurm.sh\n",
    "```\n",
    "- and write the following bash script inside that file:\n",
    "```bash\n",
    "#!/bin/bash\n",
    "\n",
    "#SBATCH --nodes=1\n",
    "#SBATCH --ntasks-per-core=10\n",
    "#SBATCH --cpus-per-task=10\n",
    "#SBATCH --partition=standard\n",
    "##SBATCH --gres=gpu:1\n",
    "#SBATCH --job-name=sycl\n",
    "#SBATCH --error=error_%j.err\n",
    "#SBATCH --output=output_%j.out\n",
    "#SBATCH --time=01:00:00\n",
    "\n",
    "##SBATCH --mem=default\n",
    "##SBATCH --mail-user=email@gmail.com\n",
    "##SBATCH --mail-type=ALL\n",
    "##SBATCH --ntasks-per-sockets=4\n",
    "\n",
    "ulimit -s unlimited\n",
    "\n",
    "##source /scratch/parade/Laxmikant/set_path.sh\n",
    "\n",
    "##./SYCLvecadd_icpx\n",
    "\n",
    "./vecadd_USM\n",
    "###############################\n",
    "\n",
    "```\n",
    "\n",
    "- note that this script will be interpreted by slurm.\n",
    "- note that lines with only # will be interpreted while lines with ## will be ignored as comments.\n",
    "- \"ulimit -s\" unlimited will increases the size of the stack to be unlimited."
   ]
  },
  {
   "cell_type": "markdown",
   "metadata": {},
   "source": [
    "## Executing a SYCL program:\n",
    "- type \"$sinfo\" to view all the the partitions, number of nodes, state of nodes, availablity, and list of nodes.\n",
    "- type the following to submit the job:\n",
    "```bash\n",
    "    sbatch slurm.sh\n",
    "```\n",
    "- type the following to see the status of your job:\n",
    "```bash\n",
    "    squeue | grep Insert_JOBID_here\n",
    "```\n",
    "- if the job is already completed, then you wont see anything. simply type \"$ls\" to find the output and error file in current directory.\n",
    "- usually output file will be in following format: output_jobID.out\n",
    "- and error file will be in the following format: error_jobID.err\n",
    "- use this to display the output file:\n",
    "```bash\n",
    "    cat output_Insert_JOBID_here.out \n",
    "```\n",
    "- the following output will be displayed:\n",
    "<pre>\n",
    "==========================================\n",
    "SLURM_CLUSTER_NAME = paramutkarsh\n",
    "SLURM_ARRAY_JOB_ID = \n",
    "SLURM_ARRAY_TASK_ID = \n",
    "SLURM_ARRAY_TASK_COUNT = \n",
    "SLURM_ARRAY_TASK_MAX = \n",
    "SLURM_ARRAY_TASK_MIN = \n",
    "SLURM_JOB_ACCOUNT = nsmexternal\n",
    "SLURM_JOB_ID = 158209\n",
    "SLURM_JOB_NAME = sycl\n",
    "SLURM_JOB_NODELIST = hm013\n",
    "SLURM_JOB_USER = c-huk48\n",
    "SLURM_JOB_UID = 21915\n",
    "SLURM_JOB_PARTITION = standard\n",
    "SLURM_TASK_PID = 38835\n",
    "SLURM_SUBMIT_DIR = /home/c-huk48/SYCL\n",
    "SLURM_CPUS_ON_NODE = 10\n",
    "SLURM_NTASKS = \n",
    "SLURM_TASK_PID = 38835\n",
    "==========================================\n",
    "100 100 100 100 100 100 100 100 100 100 \n",
    "</pre>"
   ]
  },
  {
   "cell_type": "markdown",
   "metadata": {},
   "source": [
    "## Another example SYCL code by using buffer-accessor model:\n",
    "\n",
    "- give filename as \"vectoradd_sycl.cpp\"\n",
    "\n",
    "```cpp\n",
    "#include<iostream>\n",
    "#include<CL/sycl.hpp>\n",
    "\n",
    "using std::cout;\n",
    "using std::endl;\n",
    "using namespace sycl;\n",
    "\n",
    "#define N 10\n",
    "\n",
    "int main(){\n",
    "    int *dataA, *dataB, *dataC, i;\n",
    "    queue Q;\n",
    "\n",
    "    dataA = new int[N];\n",
    "    dataB = new int[N];\n",
    "    dataC = new int[N];\n",
    "\n",
    "    for(i = 0; i < N; i++){\n",
    "        dataA[i] = 90;\n",
    "        dataB[i] = 10;\n",
    "    }\n",
    "\n",
    "    buffer<int, 1> buff_a(dataA, range(N));\n",
    "    buffer<int, 1> buff_b(dataB, range(N));\n",
    "    buffer<int, 1> buff_c(dataC, range(N));\n",
    "\n",
    "    Q.submit([&](handler &cgh){\n",
    "        auto acc_A = buff_a.get_access<access::mode::read>(cgh);\n",
    "        auto acc_B = buff_b.get_access<access::mode::read>(cgh);\n",
    "        auto acc_C = buff_c.get_access<access::mode::read_write>(cgh);\n",
    "\n",
    "        // here indx is the iterator, id<1> represents its an iterator of 1 dimensional array:\n",
    "        cgh.parallel_for(range<1>(N), [=](id<1> indx){\n",
    "            acc_C[indx] = acc_A[indx] + acc_B[indx];\n",
    "        });\n",
    "    });\n",
    "\n",
    "    auto C = buff_c.get_access<access::mode::read>();\n",
    "\n",
    "    for(i=0; i<N; i++){\n",
    "        cout << C[i] << \" \";\n",
    "    }\n",
    "\n",
    "    cout << std::endl;\n",
    "\n",
    "    delete[] dataA;\n",
    "    delete[] dataB;\n",
    "    delete[] dataC;\n",
    "\n",
    "    return 0;\n",
    "}\n",
    "```"
   ]
  },
  {
   "cell_type": "markdown",
   "metadata": {
    "vscode": {
     "languageId": "plaintext"
    }
   },
   "source": [
    "- Compile using: \n",
    "```bash\n",
    "    icpx -fsycl vectoradd_sycl.cpp -o vecadd_BUFACC\n",
    "```"
   ]
  },
  {
   "cell_type": "markdown",
   "metadata": {},
   "source": [
    "- edit the slurm file's following portion: vecadd_USM -> vecadd_BUFACC\n",
    "- submit the job by using:\n",
    "```bash\n",
    "    sbatch slurm.sh\n",
    "```\n",
    "- Once sucessfully submitted, you will receive the jobID of your submitted job.\n",
    "- check the status of job by using:\n",
    "```bash\n",
    "    squeue | grep insert_job_id_here\n",
    "```\n",
    "- view the output by using the following:\n",
    "```bash\n",
    "    cat output_JobID.out\n",
    "```\n",
    "- You will receive the following output:\n",
    "<pre>\n",
    "==========================================\n",
    "SLURM_CLUSTER_NAME = paramutkarsh\n",
    "SLURM_ARRAY_JOB_ID = \n",
    "SLURM_ARRAY_TASK_ID = \n",
    "SLURM_ARRAY_TASK_COUNT = \n",
    "SLURM_ARRAY_TASK_MAX = \n",
    "SLURM_ARRAY_TASK_MIN = \n",
    "SLURM_JOB_ACCOUNT = nsmexternal\n",
    "SLURM_JOB_ID = 158257\n",
    "SLURM_JOB_NAME = sycl\n",
    "SLURM_JOB_NODELIST = hm013\n",
    "SLURM_JOB_USER = c-huk48\n",
    "SLURM_JOB_UID = 21915\n",
    "SLURM_JOB_PARTITION = standard\n",
    "SLURM_TASK_PID = 39611\n",
    "SLURM_SUBMIT_DIR = /home/c-huk48/SYCL\n",
    "SLURM_CPUS_ON_NODE = 10\n",
    "SLURM_NTASKS = \n",
    "SLURM_TASK_PID = 39611\n",
    "==========================================\n",
    "100 100 100 100 100 100 100 100 100 100 \n",
    "\n",
    "</pre>\n"
   ]
  },
  {
   "cell_type": "markdown",
   "metadata": {
    "vscode": {
     "languageId": "plaintext"
    }
   },
   "source": [
    "## Matrix multiplication in SYCL code:\n",
    "\n",
    "```cpp\n",
    "#include<iostream>\n",
    "#include<CL/sycl.hpp>\n",
    "\n",
    "\n",
    "using std::cout;\n",
    "using std::endl;\n",
    "using namespace sycl;\n",
    "\n",
    "#define N 10\n",
    "\n",
    "\n",
    "int main(){\n",
    "\n",
    "        int i, j, k;\n",
    "\n",
    "        // Declare queue object here:\n",
    "        queue Q(cpu_selector_v);\n",
    "\n",
    "        int A[N][N], B[N][N], C[N][N];\n",
    "\n",
    "        // int *A = (int*)malloc_shared(sizeof(int)*N*N, Q);\n",
    "        // int *B = (int*)malloc_shared(sizeof(int)*N*N, Q);\n",
    "        // int *C = (int*)malloc_shared(sizeof(int)*N*N, Q);\n",
    "\n",
    "        // Initializing the matrix's\n",
    "        for(i=0; i<N; i++){\n",
    "                for(j=0; j<N; j++){\n",
    "                        A[i][j] = (j%10)+1;\n",
    "                }\n",
    "        }\n",
    "\n",
    "        for(i=0; i<N; i++){\n",
    "                for(j=0; j<N; j++){\n",
    "                        B[i][j] = (j%10)+1;                                   }\n",
    "        }\n",
    "\n",
    "        // Create SYCL buffers for matrix A, B and C here:\n",
    "\n",
    "        buffer<int, 2> buff_A((int*)A, range<2>(N,N));\n",
    "        buffer<int, 2> buff_B((int*)B, range<2>(N,N));\n",
    "        buffer<int, 2> buff_C((int*)C, range<2>(N,N));\n",
    "        Q.submit([&](handler &cgh){\n",
    "                // Create SYCL accessors for buffers buff_a, buff_b, buff_c here:\n",
    "                auto accessorA = buff_A.get_access<access::mode::read>(cgh);\n",
    "                auto accessorB = buff_B.get_access<access::mode::read>(cgh);\n",
    "                auto result = buff_C.get_access<access::mode::write>(cgh);\n",
    "                cgh.parallel_for<class MatrixMultiply>(range<2>(N,N), [=](item<2> item){\n",
    "                        // Define iterator using items here:\n",
    "                        int i = item.get_id(0);\n",
    "                        int j = item.get_id(1);\n",
    "                        int k;\n",
    "                        int sum = 0;\n",
    "                        for(k=0; k<N; k++){\n",
    "                                sum += accessorA[i][k] * accessorB[k][j];\n",
    "                        }\n",
    "                        result[item] = sum;\n",
    "                });\n",
    "        }).wait();\n",
    "\n",
    "        cout << \"\\n\\nFirst matrix :\"<<std::endl;\n",
    "        for(i=0; i<N; i++){\n",
    "                cout << \"\\t\\t\\t\" << std::endl;\n",
    "                for(j=0; j<N; j++)\n",
    "                        cout << A[i][j] << \" \";\n",
    "        }\n",
    "        cout << \"\\n\\nSecond matrix :\" << std::endl;\n",
    "        for(i=0; i<N; i++){\n",
    "                cout << \"\\t\\t\\t\" << std::endl;\n",
    "                for(j=0; j<N; j++)\n",
    "                        cout << B[i][j] << \" \";\n",
    "        }\n",
    "        cout << \"\\n\\nResultant matrix :\" << std::endl;\n",
    "        for(i=0; i<N; i++){\n",
    "                cout << \"\\t\\t\\t\" << std::endl;\n",
    "                for(j=0; j<N; j++)\n",
    "                        cout << C[i][j] << \" \";\n",
    "        } cout << \"\\n\\n\";\n",
    "        return 0;\n",
    "}\n",
    "```"
   ]
  },
  {
   "cell_type": "markdown",
   "metadata": {},
   "source": [
    "- edit the slurm file's following portion: vecadd_USM -> vecMUL\n",
    "- submit the job by using:\n",
    "```bash\n",
    "    sbatch slurm.sh\n",
    "```\n",
    "- Once sucessfully submitted, you will receive the jobID of your submitted job.\n",
    "- check the status of job by using:\n",
    "```bash\n",
    "    squeue | grep insert_job_id_here\n",
    "```\n",
    "- view the output by using the following:\n",
    "```bash\n",
    "    cat output_JobID.out\n",
    "```\n",
    "- You will get the output as follows:\n",
    "<pre>\n",
    "==========================================\n",
    "SLURM_CLUSTER_NAME = paramutkarsh\n",
    "SLURM_ARRAY_JOB_ID = \n",
    "SLURM_ARRAY_TASK_ID = \n",
    "SLURM_ARRAY_TASK_COUNT = \n",
    "SLURM_ARRAY_TASK_MAX = \n",
    "SLURM_ARRAY_TASK_MIN = \n",
    "SLURM_JOB_ACCOUNT = nsmexternal\n",
    "SLURM_JOB_ID = 158314\n",
    "SLURM_JOB_NAME = sycl\n",
    "SLURM_JOB_NODELIST = gpu006\n",
    "SLURM_JOB_USER = c-huk48\n",
    "SLURM_JOB_UID = 21915\n",
    "SLURM_JOB_PARTITION = standard\n",
    "SLURM_TASK_PID = 17139\n",
    "SLURM_SUBMIT_DIR = /home/c-huk48/SYCL\n",
    "SLURM_CPUS_ON_NODE = 10\n",
    "SLURM_NTASKS = \n",
    "SLURM_TASK_PID = 17139\n",
    "==========================================\n",
    "\n",
    "\n",
    "First matrix :\n",
    "\n",
    "1 2 3 4 5 6 7 8 9 10 \n",
    "1 2 3 4 5 6 7 8 9 10 \n",
    "1 2 3 4 5 6 7 8 9 10 \n",
    "1 2 3 4 5 6 7 8 9 10 \n",
    "1 2 3 4 5 6 7 8 9 10 \n",
    "1 2 3 4 5 6 7 8 9 10 \n",
    "1 2 3 4 5 6 7 8 9 10 \n",
    "1 2 3 4 5 6 7 8 9 10 \n",
    "1 2 3 4 5 6 7 8 9 10 \n",
    "1 2 3 4 5 6 7 8 9 10 \n",
    "\n",
    "Second matrix :\n",
    "\n",
    "1 2 3 4 5 6 7 8 9 10 \n",
    "1 2 3 4 5 6 7 8 9 10 \n",
    "1 2 3 4 5 6 7 8 9 10 \n",
    "1 2 3 4 5 6 7 8 9 10 \n",
    "1 2 3 4 5 6 7 8 9 10 \n",
    "1 2 3 4 5 6 7 8 9 10 \n",
    "1 2 3 4 5 6 7 8 9 10 \n",
    "1 2 3 4 5 6 7 8 9 10 \n",
    "1 2 3 4 5 6 7 8 9 10 \n",
    "1 2 3 4 5 6 7 8 9 10 \n",
    "\n",
    "Resultant matrix :\n",
    "\n",
    "55 110 165 220 275 330 385 440 495 550 \n",
    "55 110 165 220 275 330 385 440 495 550 \n",
    "55 110 165 220 275 330 385 440 495 550 \n",
    "55 110 165 220 275 330 385 440 495 550 \n",
    "55 110 165 220 275 330 385 440 495 550 \n",
    "55 110 165 220 275 330 385 440 495 550 \n",
    "55 110 165 220 275 330 385 440 495 550 \n",
    "55 110 165 220 275 330 385 440 495 550 \n",
    "55 110 165 220 275 330 385 440 495 550 \n",
    "55 110 165 220 275 330 385 440 495 550 \n",
    "\n",
    "</pre>"
   ]
  },
  {
   "cell_type": "markdown",
   "metadata": {},
   "source": [
    "- For more coding examples on SYCL, go to: www.github.com/codeplaysoftware/sysclacademy\n",
    "- for understanding the specific functions of sSYCL go to:\n",
    "    - www.khronos.org/sycl\n",
    "    - click on specifications.\n",
    "    - click on reference guide pdf and see the reference card.\n",
    "    - you can find all the different functions present in the SYCL.\n",
    "- These are the two sites you can visit to learn in-depth about SYCL.\n",
    "    - https://github.com/codeplaysoftware/syclacademy/tree/main/Lesson_Materials\n",
    "    - https://www.khronos.org/files/sycl/sycl-2020-reference-guide.pdf"
   ]
  }
 ],
 "metadata": {
  "language_info": {
   "name": "python"
  }
 },
 "nbformat": 4,
 "nbformat_minor": 2
}
