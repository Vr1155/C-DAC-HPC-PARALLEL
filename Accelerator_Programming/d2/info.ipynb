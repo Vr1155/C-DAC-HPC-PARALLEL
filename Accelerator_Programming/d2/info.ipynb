{
 "cells": [
  {
   "cell_type": "markdown",
   "metadata": {},
   "source": [
    "# SYCL"
   ]
  },
  {
   "cell_type": "markdown",
   "metadata": {},
   "source": [
    "## Buffer and Accessor:\n",
    "- refer slides"
   ]
  },
  {
   "cell_type": "markdown",
   "metadata": {
    "vscode": {
     "languageId": "plaintext"
    }
   },
   "source": [
    "## Buffer:\n"
   ]
  },
  {
   "cell_type": "markdown",
   "metadata": {
    "vscode": {
     "languageId": "plaintext"
    }
   },
   "source": [
    "## Accessor:\n"
   ]
  },
  {
   "cell_type": "markdown",
   "metadata": {},
   "source": [
    "## Buffer and Accessor:\n",
    "- Buffer Class\n",
    "- Accessor Class\n",
    "- Buffer & Accessor in SYCL code.\n",
    "    - buffer<data_type, dimensions> buff_a(range<dimensions>(size));\n",
    "    - buffer<data_type, dimensions> buff_c(range<dimensions>(size));\n",
    "    - auto acc_A = buff_a.get_access<access::mode::read>(cgh);\n",
    "    - auto acc_C = buff_c.get_access<access::mode::read_write>(cgh);\n"
   ]
  },
  {
   "cell_type": "markdown",
   "metadata": {
    "vscode": {
     "languageId": "plaintext"
    }
   },
   "source": [
    "- Instructor tries to connect to PARAM UTKARSH using browser.\n",
    "- They say that if we try to connect with ssh port number is 4422 but through the web browser port number is 8447."
   ]
  },
  {
   "cell_type": "markdown",
   "metadata": {},
   "source": [
    "- Instructor opens a script file which does setup for SYCL.\n",
    "- command: $vim /scratch/parade/Laxmikant/set_path.sh\n",
    "- this file contains setup for intel's compiler for SYCL called icpx\n",
    "- for execution: $source /scratch/parade/Laxmikant/binaries/oneAPI_basetoolkit_inst_dir/setvars.sh\n",
    "- you can also use sh instead of source, but it opens a new shell, so source is more preferred.\n",
    "- you can see in the output, Intel's version of compiler is called icpx."
   ]
  },
  {
   "cell_type": "markdown",
   "metadata": {},
   "source": [
    "# Sample code SYCL program:\n",
    "\n",
    "```c++\n",
    "#include<iostream>\n",
    "#include<sycl/sycl.hpp>\n",
    "\n",
    "using namespace sycl;\n",
    "\n",
    "# define N 10\n",
    "\n",
    "int main(){\n",
    "    // this task will be executed on CPU:\n",
    "    Queue q(cpu_selector_v);\n",
    "    // this task will be executed on GPU:\n",
    "    //Queue q(gpu_selector_v);\n",
    "    // executed on default device specified on time of installation of SYCL:\n",
    "    //Queue q();\n",
    "\n",
    "\n",
    "    int *A = (int*)malloc_shared(sizeof(int)*N, q);\n",
    "    int *B = (int*)malloc_shared(sizeof(int)*N, q);\n",
    "    int *OUT = (int*)malloc_shared(sizeof(int)*N, q);\n",
    "\n",
    "    buffer<int, 1> buffA(A, range<1>(N));\n",
    "    buffer<int, 1> buffB(B, range<1>(N));\n",
    "    buffer<int, 1> buffOUT(OUT, range<1>(N));\n",
    "\n",
    "    q.submit([&] handler(&cgh) {\n",
    "        auto accA = buffA.get_access<access::mode::read> (cgh);\n",
    "        auto accB = buffB.get_access<access::mode::read> (cgh);\n",
    "        auto accOUT = buffOUT.get_access<access::mode::read_write> (cgh);\n",
    "\n",
    "        // for parallel execution:\n",
    "        cgh.parallel_for(range<1>N, [=](id<1> idx){\n",
    "            accOUT[idx] = accA[idx] + accB[idx];\n",
    "        });\n",
    "\n",
    "        // For serial execution:\n",
    "        // cgh.single_task(range<1>N, [=](id<1> idx){\n",
    "        //     accOUT[idx] = accA[idx] + accB[idx];\n",
    "        // });\n",
    "    });\n",
    "\n",
    "    return 0;\n",
    "}\n",
    "\n",
    "```"
   ]
  },
  {
   "cell_type": "markdown",
   "metadata": {},
   "source": [
    "- for finding icpx compiler type: $which icpx\n",
    "- for compilation: \n",
    "    - $icpx -fsycl vectoradd_sycl.cpp -o sycl1_obj\n",
    "- Syntax:\n",
    "    - $icpx -fsycl filename.cpp -o objectname\n",
    "- To view the object file in current directory: \n",
    "    - $ls -l | grep sycl1\n",
    "- for running the object file:\n",
    "    - ./sycl1_obj\n"
   ]
  }
 ],
 "metadata": {
  "language_info": {
   "name": "python"
  }
 },
 "nbformat": 4,
 "nbformat_minor": 2
}
