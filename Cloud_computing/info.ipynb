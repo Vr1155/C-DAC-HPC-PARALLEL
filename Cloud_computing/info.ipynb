{
 "cells": [
  {
   "cell_type": "markdown",
   "metadata": {},
   "source": [
    "# Cloud computing"
   ]
  },
  {
   "cell_type": "markdown",
   "metadata": {},
   "source": [
    "- Why cloud computing?\n",
    "- What is cloud computing?\n",
    "- types\n",
    "- providers\n",
    "- lifecycle\n",
    "- virtualization\n",
    "etc...."
   ]
  },
  {
   "cell_type": "markdown",
   "metadata": {},
   "source": [
    "## Why the rush to the cloud?\n",
    "- cost savings\n",
    "- mobility\n",
    "- reliablity\n",
    "- backup\n",
    "- resource pooling\n",
    "- automation \n",
    "- infrastructure \n",
    "- price flexibility \n",
    "- uptime\n",
    "- work collaboration"
   ]
  },
  {
   "cell_type": "markdown",
   "metadata": {},
   "source": [
    "## Industries benefitted by Cloud Computing?\n",
    "- automobile\n",
    "- financial\n",
    "- real estate\n",
    "- media\n",
    "- education\n",
    "- retail\n",
    "- agriculture\n",
    "- telecommunications\n",
    "etc...."
   ]
  },
  {
   "cell_type": "markdown",
   "metadata": {},
   "source": [
    "How cloud computing took over?\n",
    "- Mobile/smartphone revolution\n",
    "- social media\n",
    "- big data analytics\n",
    "etc..."
   ]
  },
  {
   "cell_type": "markdown",
   "metadata": {},
   "source": [
    "## deployment models:\n",
    "- public\n",
    "- private\n",
    "- hybrid\n",
    "- community"
   ]
  },
  {
   "cell_type": "markdown",
   "metadata": {},
   "source": [
    "## Providers:\n",
    "- azure\n",
    "- aws\n",
    "- ibm cloud\n",
    "- gcp\n",
    "- vmware\n",
    "- terramark\n",
    "- rackspace"
   ]
  },
  {
   "cell_type": "markdown",
   "metadata": {},
   "source": [
    "## Service models:\n",
    "- IaaS -> used by IT and N/W architects\n",
    "- Paas -> used by software developers\n",
    "- SaaS -> used by end users"
   ]
  },
  {
   "cell_type": "markdown",
   "metadata": {},
   "source": [
    "## Split of responsibilty"
   ]
  },
  {
   "cell_type": "markdown",
   "metadata": {},
   "source": [
    "- see ppt or pic"
   ]
  },
  {
   "cell_type": "markdown",
   "metadata": {},
   "source": [
    "## Hypervisor\n",
    "- Type 1 bare-metal\n",
    "    - this hypervisor will run at the Bios or even kernel level, but not necessary all features it might have.\n"
   ]
  },
  {
   "cell_type": "markdown",
   "metadata": {},
   "source": [
    "## Openstack\n",
    "- OpenStack was created by Rackspace and NASA.\n",
    "- OpenStack is self-service\n",
    "- Second largest community support after LINUX\n",
    "- see ppt for definition and usecases.\n",
    "\n"
   ]
  },
  {
   "cell_type": "markdown",
   "metadata": {},
   "source": [
    "# Why companies fund open-source projects like OpenStack?\n",
    "\n",
    "### 1. Instructor says companies fund open-source projects to avoid monopoly and the subsequent vendor-lock in and price gouging.\n",
    "\n",
    "### 2. Companies can also take open-source projects by forking them and creating their own customized versions and sell the customized version for profit. (for eg. RedHat Linux vs CentOS)."
   ]
  },
  {
   "cell_type": "markdown",
   "metadata": {},
   "source": [
    "## OpenStack Architecture\n",
    "- Horizon -> Dashboard\n",
    "- NOVA -> Compute Node (IaaS)\n",
    "- Glance -> Image Service (OS Image storage service)\n",
    "- Swift -> Object Store \n",
    "- Neutron -> Networking \n",
    "- Cinder -> Volume Service\n",
    "- Keystone -> Identity Service\n",
    "\n",
    "**For flow of a user request throughtout the architecture, see ppt with title \"Let's Follow a Request..\"**"
   ]
  },
  {
   "cell_type": "markdown",
   "metadata": {
    "vscode": {
     "languageId": "plaintext"
    }
   },
   "source": [
    "# Advantages of OpenStack\n"
   ]
  },
  {
   "cell_type": "markdown",
   "metadata": {},
   "source": [
    "# OpenStack Multi-Node Architecture\n"
   ]
  },
  {
   "cell_type": "markdown",
   "metadata": {
    "vscode": {
     "languageId": "plaintext"
    }
   },
   "source": [
    "- 1 or single Node = one single machine.\n",
    "- CirrOS is a very small OS (~20 MB)"
   ]
  },
  {
   "cell_type": "markdown",
   "metadata": {},
   "source": [
    "# OpenStack All-in-one (AIO)"
   ]
  },
  {
   "cell_type": "markdown",
   "metadata": {},
   "source": [
    "# OpenStack dashboard demos\n",
    "- Instructor's \"SuMegha\" account gets the following resource limits:\n",
    "    - 100 instances\n",
    "    - 200 vcpus \n",
    "    - 400 gb ram\n",
    "    - \n",
    "- Instructor creates an instace iwth CirrOS and pings google.com to demonstrate that VM has access to internet.\n",
    "    - Instructor cannot connect to vm instance from local machine, however after assigning a floating IP to vm instance, local machine is able to connect to vm instace.\n",
    "    - Instructor's compute tab has a sub-menu called hypervisors\n",
    "        - Instructor is using 38 out of 24 VCPUs, this is because HyperVisor allows 1 CPU to be virtualized to 16 VCPUs, similarly, 1 GB RAM can be virtualized to 15 GB RAM this is because of in virtual machine, all resources are shared.\n",
    "        - Instructor is using 85 GB out of 125.4 GB, and has disk usage of 780 GB out of 4.5 TB.\n",
    "        - Instructor has 2 hypervisors:\n",
    "            - compute.sumegha.in (16 vCPUs, 62.7 GB RAM, 1.6 TB, 1 instance)\n",
    "            - controller.sumegha.in (8 vCPUs, 62.7 GB RAM, 2.7 TB, 4 instance)"
   ]
  },
  {
   "cell_type": "markdown",
   "metadata": {
    "vscode": {
     "languageId": "plaintext"
    }
   },
   "source": [
    "# Sumegha cloud\n",
    "- CDAC is cdac's cloud computing service\n",
    "- people and businesses can buy this service\n",
    "- instructor talks about sumegha data center\n",
    "- sumegha data center is mostly used for HPC Applications.\n",
    "- applications: meterology, computational fluid dynamics, bioinformatics, aerospace, etc. \n",
    "\n",
    "## Assignments\n",
    "- CDAC also uses a opensource cloud file management like gdrive, it is called OwnCloud - saas\n",
    "- create a issue tracker like github issues - paas\n",
    "- Create your own cms using opensource platform lik wordpress - paas\n",
    "\n",
    "**Sumegha cloud is just like AWS, GCP aka IaaS provider**"
   ]
  },
  {
   "cell_type": "markdown",
   "metadata": {},
   "source": [
    "## Container vs IaaS\n",
    "- Containers are lightweight as they only have kernel and a bare basic run-time environment.\n",
    "- Meanwhile IaaS includes the complete OS."
   ]
  }
 ],
 "metadata": {
  "kernelspec": {
   "display_name": "Python 3.9.13 ('base')",
   "language": "python",
   "name": "python3"
  },
  "language_info": {
   "codemirror_mode": {
    "name": "ipython",
    "version": 3
   },
   "file_extension": ".py",
   "mimetype": "text/x-python",
   "name": "python",
   "nbconvert_exporter": "python",
   "pygments_lexer": "ipython3",
   "version": "3.9.13"
  },
  "orig_nbformat": 4,
  "vscode": {
   "interpreter": {
    "hash": "05cbe7c281be42062e5322c7e5b73ae2fb1c3fbea1df866d539e0e2499fb0802"
   }
  }
 },
 "nbformat": 4,
 "nbformat_minor": 2
}
