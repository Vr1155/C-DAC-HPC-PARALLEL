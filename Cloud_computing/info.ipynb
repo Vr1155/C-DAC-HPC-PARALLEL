{
 "cells": [
  {
   "cell_type": "markdown",
   "metadata": {},
   "source": [
    "# Cloud computing"
   ]
  },
  {
   "cell_type": "markdown",
   "metadata": {},
   "source": [
    "- Why cloud computing?\n",
    "- What is cloud computing?\n",
    "- types\n",
    "- providers\n",
    "- lifecycle\n",
    "- virtualization\n",
    "etc...."
   ]
  },
  {
   "cell_type": "markdown",
   "metadata": {},
   "source": [
    "## Why the rush to the cloud?\n",
    "- cost savings\n",
    "- mobility\n",
    "- reliablity\n",
    "- backup\n",
    "- resource pooling\n",
    "- automation \n",
    "- infrastructure \n",
    "- price flexibility \n",
    "- uptime\n",
    "- work collaboration"
   ]
  },
  {
   "cell_type": "markdown",
   "metadata": {},
   "source": [
    "## Industries benefitted by Cloud Computing?\n",
    "- automobile\n",
    "- financial\n",
    "- real estate\n",
    "- media\n",
    "- education\n",
    "- retail\n",
    "- agriculture\n",
    "- telecommunications\n",
    "etc...."
   ]
  },
  {
   "cell_type": "markdown",
   "metadata": {},
   "source": [
    "How cloud computing took over?\n",
    "- Mobile/smartphone revolution\n",
    "- social media\n",
    "- big data analytics\n",
    "etc..."
   ]
  },
  {
   "cell_type": "markdown",
   "metadata": {},
   "source": [
    "## deployment models:\n",
    "- public\n",
    "- private\n",
    "- hybrid\n",
    "- community"
   ]
  },
  {
   "cell_type": "markdown",
   "metadata": {},
   "source": [
    "## Providers:\n",
    "- azure\n",
    "- aws\n",
    "- ibm cloud\n",
    "- gcp\n",
    "- vmware\n",
    "- terramark\n",
    "- rackspace"
   ]
  },
  {
   "cell_type": "markdown",
   "metadata": {},
   "source": [
    "## Service models:\n",
    "- IaaS -> used by IT and N/W architects\n",
    "- Paas -> used by software developers\n",
    "- SaaS -> used by end users"
   ]
  },
  {
   "cell_type": "markdown",
   "metadata": {},
   "source": [
    "## Split of responsibilty"
   ]
  },
  {
   "cell_type": "markdown",
   "metadata": {},
   "source": [
    "- see ppt or pic"
   ]
  },
  {
   "cell_type": "markdown",
   "metadata": {},
   "source": [
    "## Hypervisor\n",
    "- Type 1 bare-metal\n",
    "    - this hypervisor will run at the Bios or even kernel level, but not necessary all features it might have.\n"
   ]
  },
  {
   "cell_type": "markdown",
   "metadata": {},
   "source": [
    "## Openstack\n",
    "- OpenStack was created by Rackspace and NASA.\n",
    "\n"
   ]
  },
  {
   "cell_type": "markdown",
   "metadata": {},
   "source": [
    "# Why companies fund open-source projects like OpenStack?\n",
    "\n",
    "### 1. Instructor says companies fund open-source projects to avoid monopoly and the subsequent vendor-lock in and price gouging.\n",
    "\n",
    "### 2. Companies can also take open-source projects by forking them and creating their own customized versions and sell the customized version for profit. (for eg. RedHat Linux vs CentOS)."
   ]
  },
  {
   "cell_type": "code",
   "execution_count": null,
   "metadata": {},
   "outputs": [],
   "source": []
  }
 ],
 "metadata": {
  "kernelspec": {
   "display_name": "Python 3.9.13 ('base')",
   "language": "python",
   "name": "python3"
  },
  "language_info": {
   "codemirror_mode": {
    "name": "ipython",
    "version": 3
   },
   "file_extension": ".py",
   "mimetype": "text/x-python",
   "name": "python",
   "nbconvert_exporter": "python",
   "pygments_lexer": "ipython3",
   "version": "3.9.13"
  },
  "orig_nbformat": 4,
  "vscode": {
   "interpreter": {
    "hash": "05cbe7c281be42062e5322c7e5b73ae2fb1c3fbea1df866d539e0e2499fb0802"
   }
  }
 },
 "nbformat": 4,
 "nbformat_minor": 2
}
