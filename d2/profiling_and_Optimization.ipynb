{
 "cells": [
  {
   "cell_type": "markdown",
   "metadata": {},
   "source": [
    "# Profiling and Optimization\n",
    "\n",
    "public facing website: https://paramutkarsh.cdac.in/\n",
    "\n",
    "profiler website: https://paramutkarsh.cdacb.in/\n",
    "\n",
    "\n",
    "-  You can access the profiler on your laptop or smartphone by logging into the profiler website."
   ]
  },
  {
   "cell_type": "markdown",
   "metadata": {
    "vscode": {
     "languageId": "plaintext"
    }
   },
   "source": [
    "## Outline:\n",
    "(see ppt)"
   ]
  },
  {
   "cell_type": "markdown",
   "metadata": {
    "vscode": {
     "languageId": "plaintext"
    }
   },
   "source": [
    "## What is profiling:\n",
    "- Applicaiton profiling is the process of analysing and measuring the performance of a software application in order to identify and diagnose performance issues or bottlenecks.\n",
    "- types:\n",
    "    - sampling based\n",
    "    - instrumentation based"
   ]
  },
  {
   "cell_type": "markdown",
   "metadata": {
    "vscode": {
     "languageId": "plaintext"
    }
   },
   "source": [
    "## Sampling based profiling\n",
    "- executable is stopped at regular intervals and key info is gathered and stored as snapshots.\n",
    "- sampling is low cost to the profiler, good for accurate measurement of call times or for looking performance issues.\n",
    "- less accuracy in number of calls."
   ]
  },
  {
   "cell_type": "markdown",
   "metadata": {},
   "source": [
    "## Inclusive vs Exclusive CPU Time:\n",
    "- Inclusive metric includes all callees underneath the caller - for eg: all CPU time accumulated when executing a function.\n",
    "- Exclusive metric excludes everything outside the caller - for eg: CPU time accumulated outside of calling other functions.\n",
    "\n",
    "                    a = 10\n",
    "            /         |     \\\n",
    "        b=20        c=5     d=15\n",
    "                      |\n",
    "                    e=15\n",
    "\n",
    "What will be inclusive and exclusive time of each function? (see ppt for answer)"
   ]
  },
  {
   "cell_type": "markdown",
   "metadata": {},
   "source": [
    "## Instrumentation based Profiling\n",
    "- Data collection is done by tool by injecting code into the binary files."
   ]
  },
  {
   "cell_type": "markdown",
   "metadata": {
    "vscode": {
     "languageId": "plaintext"
    }
   },
   "source": [
    "## Performance Profilers\n",
    "\n",
    "- TAU \n",
    "- Vtune (We will discuss Intel's Vtune profiler in this session)\n",
    "- GProfNG\n",
    "- HPCToolkit\n",
    "- Likwid"
   ]
  },
  {
   "cell_type": "markdown",
   "metadata": {},
   "source": [
    "## Optimization techniques:\n",
    "- collapse\n",
    "- optimization"
   ]
  },
  {
   "cell_type": "markdown",
   "metadata": {},
   "source": [
    "## Commands executed:\n",
    "- cp -r /tmp/program ./\n",
    "- cd program\n",
    "- ls\n",
    "- cd ..\n",
    "- module avail\n",
    "- module load oneapi/vtune/latest\n",
    "- vtune --version\n",
    "- cd program\n",
    "- gcc -g -o test test1.c test2.c\n",
    "- vtune --help\n",
    "- vtune -collect hotspots ./test\n",
    "- vtune -report hotspots -r r005hs/\n",
    "- vtune-gui r005hs/\n",
    "    - we cant do this on supercomputer because you dont have a gui in linux terminal.\n",
    "    - using mobaxterm ssh client we can see the gui.\n",
    "    - click on \"CallerCallee\"\n",
    "    - click on test1.c\n",
    "    - click on Source\n",
    "    - click on Assembly\n",
    "- gcc -fopenmp -g -o mat_mult mat_mult.c\n",
    "    - mat_mult.c uses (schedule(dynamic, 1024)) all 3 loops to run parallely\n",
    "- vtune -collect hotspots ./mat_mult\n",
    "    - 1000 for both rows and columns\n",
    "- gcc -fopenmp -g -o mm mm.c\n",
    "    - mm.c optimizes only the outer loop to run parallely.\n",
    "- ./mm\n",
    "    - elapsed time = 9.11 seconds.\n",
    "- gcc -fopenmp -g -o mm_optimized mm_optimized.c\n",
    "    - mm_optimized.c optimizes the code by reordering the loop.\n",
    "    - elapsed time = 11.87 seconds\n",
    "\n"
   ]
  },
  {
   "cell_type": "markdown",
   "metadata": {},
   "source": [
    "## CDAC HPC Application Profiler (C-HAP)\n",
    "- features listed in website: paramutkarsh.cdacb.in/profiler/login/\n",
    "- instructor logs in and clicks on profile summary.\n",
    "- application summary, characterization, topology, executor summary of \"chap_demo\" is displayed\n",
    "- data visualization with application categorization is also shown.\n",
    "- you can check job status info for jobs you have submitted from a particular date to another."
   ]
  },
  {
   "cell_type": "markdown",
   "metadata": {
    "vscode": {
     "languageId": "plaintext"
    }
   },
   "source": [
    "## Slurm script for MPI job:\n",
    "\n",
    "#!/bin/bash\n",
    "#SBATCH --job-name=mpi_job          # Job name\n",
    "#SBATCH --nodes=4                   # Number of nodes\n",
    "#SBATCH --ntasks-per-node=4         # Number of tasks (MPI processses) per node\n",
    "#SBATCH --cpus-per-task=1           # Number of CPU cores per task\n",
    "#SBATCH --mem=4G                    # Memory per node (in GB)\n",
    "#SBATCH --time=1:00:00              # Maximum execution time (HH:MM:SS)\n",
    "#SBATCH --pertition=compute         # Partition or queue name\n",
    "\n",
    "- Load any necessary modules (optional)\n",
    "\n",
    "module load \\<module_name\\>\n",
    "\n",
    "- Change to the directory where the job will run (replace /path/to/your/directory)\n",
    "\n",
    "cd /path/to/your/directory\n",
    "\n",
    "- Your MPI executable here, for eg:\n",
    "\n",
    "mpirun -np 16 your_mpi_executable\n",
    "\n",
    "- Example command to run an MPI program compled with MPI compilers\n",
    "\n",
    "mpicc your_mpi_program.c -o your_mpi_executable\n",
    "\n",
    "mpirun -np 16 ./your_mpi_executable"
   ]
  },
  {
   "cell_type": "code",
   "execution_count": null,
   "metadata": {
    "vscode": {
     "languageId": "plaintext"
    }
   },
   "outputs": [],
   "source": []
  }
 ],
 "metadata": {
  "language_info": {
   "name": "python"
  }
 },
 "nbformat": 4,
 "nbformat_minor": 2
}
