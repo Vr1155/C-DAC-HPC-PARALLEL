{
 "cells": [
  {
   "cell_type": "markdown",
   "metadata": {},
   "source": [
    "# Exploratory data Analysis operation with pandas."
   ]
  },
  {
   "cell_type": "markdown",
   "metadata": {},
   "source": [
    "## Exercise questions (these are the type of questions that will be asked in EDA):\n",
    "## 1. EDA:\n",
    "1. Import ipl data from a csv file into a python dataframe\n",
    "2. Display their metadata (displaying the names of attributes of data, Why? because it is necessary to identify dependent and independent variables).\n",
    "3. Find the nature of the attributes. (data taxonomy like categorical or numerical etc.)\n",
    "4. Display first 5 observations and last 5 observations.\n",
    "5. Display data with only 1 attribute (i.e. player name) and show their first 5 entires.\n",
    "6. Repeat the above question (Q5) for displaying two attributes (i.e. player name and country name for 5 entries).\n",
    "7. Display 5 observations in ascending order with respect to sold price.\n",
    "8. Create a new attribute with the name \"Premium\", this can be calculated as sold_price - base_price.\n",
    "9. Repeat Q7 to perform the operation in descending order.\n",
    "10. Create a new attribute \"soldprice_by_age\" which is mean of \"age wise sold price\" attribute. (3 normal distributions will be there for each age group, you need to find the means of each age group.)"
   ]
  },
  {
   "cell_type": "markdown",
   "metadata": {},
   "source": [
    "## 2. Exploratory Operation with Visualization\n",
    "11. Create a frequency distribution plot of a discrete attribute using bar plot (use the attribute created in Q10 of previous section).\n",
    "    - Discrete attribute = a variable which is varying in time and is not continuous.\n",
    "    - If a variable has an outcome in finite numbersd and the representation is in integers (not fractions), then that attribute is a discrete attribute.\n",
    "    - Continuous attribute = An attribute in which a variable is continuous in every instance of time.\n",
    "12. Create a frequency distribution plot of a continuous attribute using histogram (Use sold price attribute).\n",
    "13. To find relationship between 2 attributes, (i.e. number of sixers and sold price) create a scatter plot.\n",
    "14. Repeat Q13 with the inclusion of direction of relationship.\n",
    "15. Create an array of attributes called as influencial attributes and prepare a pair plot.\n",
    "    - for eg: influential attributes = ['sr-b', 'avc', 'SIXERS', 'SOLD PRICE']\n",
    "    - influential attributes are the important feature vectors, we will try to find coorelation of these influential attributes.\n",
    "16. Find the correlation of influential feature array.\n",
    "17. Highlight the correlation value with heatmap function.\n",
    "18. Prepare a box plot to calculate range of attribute \"sold price\" using seaborn library.\n",
    "19. Repeat the same problem (Q18) with matplotlib library.\n",
    "20. Find the minimum and maximum value of sold price attribute.\n",
    "21. Find the IQR value of sold price.\n",
    "22. Find the median of sold price.\n",
    "    - central tendency = mean, median, and mode.\n",
    "    - dispersion = range, variance, and standard deviation."
   ]
  },
  {
   "cell_type": "markdown",
   "metadata": {},
   "source": [
    "## Working with Dataframes\n",
    "- data frames have the following structure:\n",
    "    - Column headers (aka column titles)\n",
    "    - Column feature (aka an individual column)\n",
    "    - Row indexes \n",
    "    - Row/Sample Observation (aka an entire row and its entries for different attributes).\n",
    "- It is the job of the data scientist to find the dependent and independent variables\n",
    "    - A variable that has correlation with other variables is called dependent variable.\n",
    "    - A variable that has NO correlation with any other variables is called independent variable.\n"
   ]
  },
  {
   "cell_type": "markdown",
   "metadata": {},
   "source": [
    "## EDA with ipl data:\n",
    "- loading dataframe using read_csv().\n",
    "- finding summary of dataframe with info()\n",
    "- integer varaibles are discrete, float are continuous, object variables are categorical data.\n",
    "- using slicing operator to use first 5 and last 5 rows.\n",
    "- we can also use column name called 'PLAYER NAME' and 'COUNTRY' to display the first 5 entries.\n",
    "- use function like ipl_auction_df[['PLAYER NAME', 'SOLD PRICE']]sort_values('SOLD PRICE')[0:5] to sort displayed data in ascending order of \"SOLD PRICE\". \n",
    "- use function like ipl_auction_df[['PLAYER NAME', 'SOLD PRICE']]sort_values('SOLD PRICE', ascendingv = False)[0:5] to sort displayed data in descending order of \"SOLD PRICE\". \n",
    "- ipl_df[\"premium\"] = ipl_df[\"SOLD PRICE\"] - ipl_df[\"BASE PRICE\"] to create a new column 'premium' which is sold_price - base_price.\n",
    "- now display the first 5 entries in data with following 4 attributes: \"PLAYER NAME\", \"BASE PRICE\", \"SOLD PRICE\", and \"premium\". \n",
    "\n"
   ]
  },
  {
   "cell_type": "markdown",
   "metadata": {},
   "source": [
    "## Grouping and Aggregating\n",
    "- To find average SOLD PRICE for each age category, group all records by AGE and then apply mean() on SOLD PRICE column.\n",
    "- use this: soldprice_by_age = ipl_auction_df.groupby('AGE')['SOLD PRICE'].mean().reset_index()\n",
    "- then print soldprice_by_age using: print(soldprice_by_age)\n",
    "    - we have to move it into a different soldprice_by_age, it is a discrete variables and has less number of entires (only 3), since there are only 3 age categories.\n",
    "    - soldprice_by_age cannot be added into our dataframe as it contains only 3 entries, whereas our dataframe contains 130 entries.\n",
    "    - This is an example of discrete variable which frequency distribution plot formed by binomial distribution (i.e. functions like bar plot).\n"
   ]
  },
  {
   "cell_type": "markdown",
   "metadata": {},
   "source": [
    "## Exploration of Data using Visualization.\n",
    "- Data visualization is useful because:\n",
    "    - for feature engineering.\n",
    "    - gain insights from the data.\n",
    "    - understand what happened in past in given context.\n"
   ]
  },
  {
   "cell_type": "markdown",
   "metadata": {},
   "source": [
    "## Bar Chart\n",
    "- use the following syntax: sn.barplot(x='AGE', y='SOLD PRICE', data = soldprice_by_age).\n",
    "    - note that, soldprice_by_age is not a part of our data frame."
   ]
  },
  {
   "cell_type": "markdown",
   "metadata": {},
   "source": [
    "## Histogram\n",
    "- A plot that shows that frequency distribution of a set of continuous variable.\n",
    "- use the following syntax:\n",
    "- plt.hist(ipl_auction_df['SOLD PRICE'], bins=20)\n",
    "    - note that 'SOLD PRICE' is a part of our dataframe."
   ]
  },
  {
   "cell_type": "markdown",
   "metadata": {},
   "source": [
    "## Scatter plot\n",
    "- Two variables are plotted along two axes\n",
    "- Can reveal corrolation and outliers in two variables if any.\n",
    "- syntax: \n",
    "    - plt.scatter(x=ipl_auction_df['SIXERS'], y=ipl_auction_df['SOLD PRICE'])\n",
    "    - plt.xlabel('SIXERS')\n",
    "    - plt.ylabel('SOLD PRICE')\n",
    "    - plt.title('Scatter plot between players sixers and sold price')\n",
    "- To draw the direction of relationship between the variables, use regplot() of seaborn can be used.\n",
    "- Syntax:\n",
    "    - sn.regplot(x=ipl_auction_df['sixers'], y=ipl_auction_df['SOLD PRICE'])\n"
   ]
  },
  {
   "cell_type": "markdown",
   "metadata": {},
   "source": [
    "## Pair plot\n",
    "- influential_features = ['SR-B', 'AVE', 'SIXERS', 'SOLD PRICE']\n",
    "- Syntax: sn.pairplot(ipl_auction_df[influential_features], height=2)"
   ]
  },
  {
   "cell_type": "markdown",
   "metadata": {},
   "source": [
    "## Correlation and Heatmap\n",
    "- For correlation, Syntax: ipl_auction_ipl[influential_features].corr()\n",
    "- For heatmap, Syntax: sn.heatmap(ipl_auction_df[influential_features].corr(), annot=True)"
   ]
  },
  {
   "cell_type": "markdown",
   "metadata": {},
   "source": [
    "## Math model\n",
    "- Why are we learning all this?\n",
    "- In every machine learning model, there are x and y variables\n",
    "- Obj. Prediction model (h(Theta)):\n",
    "- eg: y = m*x + c.\n",
    "- y = f(x1, x2, x3, ..., xn)"
   ]
  },
  {
   "cell_type": "markdown",
   "metadata": {},
   "source": [
    "## Measures of Dispersion Range and IQR (using Box plot):\n",
    "- from Q18 onwards,\n",
    "- for plotting box plot use syntax:\n",
    "    - box = sn.boxplot(ipl_auction_df['SOLD PRICE'])\n",
    "- Box plot is designed by identifying the following descriptive statistics:\n",
    "    - Lower quartile (1st quartile), median and upper quartile (3rd quartile).\n",
    "    - IQR\n",
    "    - Lowest and highest values.\n",
    "    - outliers\n",
    "- For Q19, use syntax: box = plt.boxplot(ipl_auction_df['SOLD PRICE']);\n",
    "- For Q20, we need to note that,\n",
    "    - the \"box\" variable actually becomes a dictionary when we use matplotlib library.\n",
    "    - this is the general pseudocode:\n",
    "        - box = {\n",
    "            'cap': min, max,\n",
    "            'whiskers' Q1, Q2,\n",
    "            \"median\": median\n",
    "        }"
   ]
  },
  {
   "cell_type": "markdown",
   "metadata": {},
   "source": [
    "## Handling Missing Values\n",
    "- Autos-mpg dataset: It contains information about different cars and their characteristics.\n",
    "- This dataset is in notepad file or text files.\n",
    "- Notepad and text files are used in logging operations, since it has very small size and very easy to make entries.\n",
    "- But the problem with text files, is that they dont have any header information, so we need to do some extra handling to read data from notepad files.\n",
    "- Attributes:\n",
    "    - mpg\n",
    "    - cylinders\n",
    "    - displacement\n",
    "    - horsepower\n",
    "    - weight\n",
    "    - acceleration\n",
    "    - year\n",
    "    - origin\n",
    "    - name"
   ]
  },
  {
   "cell_type": "markdown",
   "metadata": {},
   "source": [
    "## Importing the notepad file:\n",
    "- Use the following Syntax:\n",
    "- autos = pd.read_csv('auto-mpg.data', sep='\\s+', header = None) # Header is None because the file is a notepad file\n",
    "- autos.head(5)"
   ]
  },
  {
   "cell_type": "markdown",
   "metadata": {},
   "source": [
    "## Assigning Names to the Columns (As file is header less):\n",
    "- Use index:\n",
    "- autos.columns = ['mpg', 'cylinders', 'displacement', 'horsepower', 'weight', 'acceleration', 'year', 'origin', 'name']"
   ]
  },
  {
   "cell_type": "markdown",
   "metadata": {},
   "source": [
    "## Summary of data (Observe horsepower):\n",
    "- use:\n",
    "    - autos.info()\n",
    "- horsepower should be float64 but it is present as object\n",
    "- use this syntax to fix this:\n",
    "    - autos[\"horsepower\"] = pd.to_numeric(autos[\"horsepower\"], errors = 'coerce')\n",
    "    - autos.info()"
   ]
  },
  {
   "cell_type": "markdown",
   "metadata": {},
   "source": [
    "## Handling Missing Values... Now check for null values in horsepower.\n",
    "- use syntax: autos[autos.horsepower.isnull()]\n",
    "- we will see null values with value \"NaN\""
   ]
  },
  {
   "cell_type": "markdown",
   "metadata": {},
   "source": [
    "## Handling Missing Values... Remove the nulls\n",
    "- Syntax:\n",
    "    - autos = autos.dropna(subset = ['horsepower'])\n",
    "    - autos[autos.horsepower.isnull()]\n",
    "- After removing the missing information from horsepower attribute, observe the number of observations/samples available in our autos dataframe."
   ]
  },
  {
   "cell_type": "markdown",
   "metadata": {},
   "source": [
    "## Descriptive statistical Measures:\n",
    "- There are two ways in which, the attributes are measured.\n",
    "    1. How close it is with central value. (This is called as central tendency).\n",
    "    2. How far is the data away from central value. (Measure of dispersion)."
   ]
  },
  {
   "cell_type": "markdown",
   "metadata": {},
   "source": [
    "## Summary of measures\n",
    "- Central tendency: Mean, Median and Mode.\n",
    "- Dispersion: Range, SD, Variance, etc."
   ]
  },
  {
   "cell_type": "markdown",
   "metadata": {},
   "source": [
    "- Mean = average value of all values, affected by extreme values.\n",
    "- Median = 50th percentile of the data, not affected by extreme values.\n",
    "- Mode = Most frequently occuring data value, not affected by extreme values, there may not be a mode or there may be several modes, used for either numerical or categorical data."
   ]
  },
  {
   "cell_type": "markdown",
   "metadata": {},
   "source": [
    "## Quick Exercise:\n",
    "- Take 2 dataset, \n",
    "- dataset1: 1 3 5 7 9\n",
    "    - mean: 5\n",
    "    - median: 5\n",
    "- dataset2: 1 3 5 7 14\n",
    "    mean: 6\n",
    "    - median: 5\n",
    "\n",
    "## Advantage of Median:\n",
    "- There is no effect of outlier in median measurement.\n",
    "\n",
    "## Disadvantage of Median:\n",
    "- Before applying median, we need to sort the data to ascending or descending order."
   ]
  },
  {
   "cell_type": "markdown",
   "metadata": {},
   "source": [
    "## Measure of dispersion\n",
    "- Range = largest_value - smallest_value\n",
    "- Variance = s^2 = sum((x-x_mean)^2)/(n-1)\n",
    "- Standard Deviation = sqrt(variance) = s"
   ]
  },
  {
   "cell_type": "markdown",
   "metadata": {},
   "source": [
    "## Level of Confidence:\n",
    "- Level of confidence is based upon standard deviation.\n",
    "- if SD = 1, LoC = 68%, Alpha = +/- 32%\n",
    "- if SD = 2, LoC = 95%, Alpha = +/- 5%\n",
    "- if SD = 3, LoC = 99.7%, Alpha = +/- 0.3%"
   ]
  },
  {
   "cell_type": "markdown",
   "metadata": {},
   "source": [
    "## Question on Box plot:\n",
    "1. Find the interquartile range with the help of box plot?\n",
    "\n",
    "    Ans. IQR = 80-30\n",
    "\n",
    "2. Find the range of marks\n",
    "\n",
    "    Ans. max=90, min=20, Range=max-min=70\n",
    "\n",
    "3. What percentage of students obtained marks between 30-80?\n",
    "\n",
    "    Ans. 50%\n",
    "\n",
    "4. What is the median?\n",
    "\n",
    "    Ans. Median 70"
   ]
  },
  {
   "cell_type": "markdown",
   "metadata": {
    "vscode": {
     "languageId": "plaintext"
    }
   },
   "source": [
    "# In tommorow's lecture...\n",
    "- probability distributions.\n",
    "- ETL exercises\n",
    "# On Wednesday lecture...\n",
    "- Hypothesis testing\n",
    "# Next week machine learning..."
   ]
  }
 ],
 "metadata": {
  "kernelspec": {
   "display_name": "Python 3",
   "language": "python",
   "name": "python3"
  },
  "language_info": {
   "name": "python",
   "version": "3.12.3"
  }
 },
 "nbformat": 4,
 "nbformat_minor": 2
}
