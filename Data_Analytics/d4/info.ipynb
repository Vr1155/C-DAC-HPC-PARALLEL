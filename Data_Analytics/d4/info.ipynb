{
 "cells": [
  {
   "cell_type": "markdown",
   "metadata": {},
   "source": [
    "# Inferential statistics"
   ]
  },
  {
   "cell_type": "markdown",
   "metadata": {},
   "source": [
    "- Inferential statistics is used to perform finding of facts.\n",
    "- Inferential statistics: It is a process of estimating population parameters from samples.\n",
    "- Parameters: A characteristics of population (mean, SD, etc)\n",
    "- Sampling Error: The amount of error in the estimation of a population parameters that is based on sample statistics."
   ]
  },
  {
   "cell_type": "markdown",
   "metadata": {},
   "source": [
    "- Instructor says that:\n",
    "- when we import a .csv file into pandas dataframe\n",
    "- we will try to plot a probability distribution (using probability density function)\n",
    "- Then we try to find the parameters of distribution (mean, median, mode, variance, SD)\n"
   ]
  },
  {
   "cell_type": "markdown",
   "metadata": {},
   "source": [
    "- Usually, the population size is too large, so we cannot do statistics on entire population, so we have to fetch a sample from population.\n",
    "- This sample should be a good representative of the population.\n",
    "- The purpose of sample is estimation.\n"
   ]
  },
  {
   "cell_type": "markdown",
   "metadata": {},
   "source": [
    "\n",
    "- If you are fetching only one variable from the population then its called univariate sampling.\n",
    "- If you are fetching 2 variables, then its called bivariate sampling."
   ]
  },
  {
   "cell_type": "markdown",
   "metadata": {},
   "source": [
    "- Parameters: Characteristics of population (mean, SD, etc).\n",
    "- Sampling Error: The amount of error in the estimation of a population parameters that is based on sample statistics."
   ]
  },
  {
   "cell_type": "markdown",
   "metadata": {},
   "source": [
    "# Central limit theorem\n",
    "- See slides"
   ]
  },
  {
   "cell_type": "markdown",
   "metadata": {},
   "source": [
    "# Hypothesis Testing\n",
    "- It is an example of inferential statistics.\n",
    "- Hypothesis is a claim.\n",
    "- Hypothesis testing is to either reject or retain a null hypothesis using data.\n",
    "- Hypothesis testing consists of two complementary statements:\n",
    "    1. Null Hypothesis (H<sub>0</sub>) - an existing belief.\n",
    "    2. Alternate Hypothesis (H<sub>A</sub>) - what we intend to establish with new evidences."
   ]
  },
  {
   "cell_type": "markdown",
   "metadata": {},
   "source": [
    "- Types of Hypothesis testing: Parameteric and non-parametric\n",
    "    1. Parameteric tests: They make use population parameters such as mean, standard deviations, etc. Example: Z-test, T-test, ANOVA, etc.\n",
    "    2. Non-Parametric tests: They make use data distribution to comment on the claim. Example: Chi-Square, etc.\n",
    "- Few examples of the null hypothesis are as follows: \n",
    "    1. Children who drink the health drink Complan are likely to grow taller.\n",
    "    2. Women use camera phone more than men (Freier, 2016)\n",
    "    3. Vegetarians miss few flights (Siegel, 2016)\n",
    "    4. Smokers are better sales people."
   ]
  },
  {
   "cell_type": "markdown",
   "metadata": {},
   "source": [
    "## The steps for hypothesis tests are as follows:\n",
    "\n",
    "1. Define null and alternative hypothesis. Hypothesis is described using a population parameter.\n",
    "2. Identify the test statistic to be used for testing the validity of the null hypothesis.\n",
    "3. Decide the criteria for rejection and retention of null hypothesis. This is called significance value.\n",
    "4. Calculate the p-value (probability value), which is the conditional probability of observing the test statistic value when the null hypothesis is true.\n",
    "5. Take the decision to reject or not."
   ]
  },
  {
   "cell_type": "markdown",
   "metadata": {},
   "source": [
    "### Types of probability:\n",
    "- Marginal probability: P(A)\n",
    "- Joint Probability: P(A ∩ B) or P(A ∪ B)\n",
    "- Conditional Probability: P(A|B)"
   ]
  },
  {
   "cell_type": "markdown",
   "metadata": {},
   "source": [
    "## For the following examples, we will use the following notatins:\n",
    "1. μ - Population mean\n",
    "2. σ - Population standard deviation\n",
    "3. X - sample mean\n",
    "4. S - Sample Standard deviation\n",
    "5. n - sample size\n",
    "\n",
    "- 1, 2, and 5 are given in claim.\n",
    "- 3 and 4 have to be determined by you."
   ]
  },
  {
   "cell_type": "markdown",
   "metadata": {},
   "source": [
    "## Z-test (Parameteric HT)\n",
    "- Z-test is used when:\n",
    "    1. We need to test the value of **population mean**, given that population variance is known. And **mean, alpha and Standard deviations are given**.\n",
    "    2. The population is a **normal distribution** and population variance is known.\n",
    "    3. If the sample size is large and the population variance is known then normal distribution can be relaxed. That is, the assumption of normal distribution can be relaxed for large samples (n>30).\n",
    "- Z-statistic is calculated as Z = (X-μ)/(σ/$\\sqrt{n}$)"
   ]
  },
  {
   "cell_type": "markdown",
   "metadata": {},
   "source": [
    "## Important Note on p-value\n",
    "- p-value is the conditional probability Z-statistics.\n",
    "- We can call it as cumulitive probability of Z-statistics\n",
    "- cdf of Z-statistics is p.\n",
    "- If the calculated p-value is greater than given alpha value, then the hypothesis can be accepted.\n",
    "- else it is rejected."
   ]
  },
  {
   "cell_type": "markdown",
   "metadata": {},
   "source": [
    "## Problem statement on Z-test\n"
   ]
  },
  {
   "cell_type": "markdown",
   "metadata": {},
   "source": [
    "- Read the first 5 entries and check the values present in the dataframe.\n"
   ]
  },
  {
   "cell_type": "markdown",
   "metadata": {},
   "source": [
    "- conducting Z-test for the above hypothesis test:\n"
   ]
  },
  {
   "cell_type": "markdown",
   "metadata": {},
   "source": [
    "```python\n",
    "    import math\n",
    "    def z_test(pop_mean, pop_std, sample):\n",
    "        z_score = (sample.mean() - pop_mean) / (pop_std/math.sqrt(len(sample)))\n",
    "        return z_score, stats.norm.cdf(z_score)\n",
    "\n",
    "    z_test(30, 12.5, passport_df.processing_time)\n",
    "```"
   ]
  },
  {
   "cell_type": "markdown",
   "metadata": {},
   "source": [
    "- You will receive two values as output: for eg: (-1.4925, 0.0677)\n",
    "- The first value of the result is the Z-statistic value or Z-score and second value is the corresponding p-value.\n",
    "- Since the p-value of 0.0677 (aka 6.77%) is greater than alpha of 5%, there is not enough evidence to reject null hypothesis.\n",
    "- Hence the null hypothesis is retained."
   ]
  },
  {
   "cell_type": "markdown",
   "metadata": {},
   "source": [
    "## T-test\n",
    "- It is used if one population mean is given, but SD is missing.\n",
    "- Here before estimating, the t-value, SD(s) of population is calculated as:\n",
    "- Formula for T-test:\n",
    "- t-statistics = (X-μ)/(S/$\\sqrt{n}$)\n",
    "- Z-test is population test while T-test is a sample test.\n",
    "- There are the following types of T-tests:\n",
    "    1. One Sample (Parametric HT)\n",
    "        - One sample is given, estimation is done on one sample.\n",
    "    2. Two Sample\n",
    "        - Two samples are given, both are independent variables.\n",
    "    3. Paired Sample \n",
    "        - Two samples are given, but unlike Two sample, first variable and second variable are dependent variables.\n"
   ]
  },
  {
   "cell_type": "markdown",
   "metadata": {},
   "source": [
    "## Problem statement for One sample T-test:\n"
   ]
  },
  {
   "cell_type": "markdown",
   "metadata": {},
   "source": [
    "- Read data and print first 5 entries.  "
   ]
  },
  {
   "cell_type": "markdown",
   "metadata": {},
   "source": [
    "- Conducting the test:\n"
   ]
  },
  {
   "cell_type": "markdown",
   "metadata": {},
   "source": [
    "```python\n",
    "stats.ttest_1samp(bollywood_movies_df.production_cost, 500)\n",
    "Ttest_1sampResult(statistic=-2.2845, pvalue=0.02786)\n",
    "```\n",
    "- t-statistic value = -2.2845, and p-value = 0.02786\n",
    "- p-value is less than 0.05\n",
    "- Reject the null hypothesis."
   ]
  },
  {
   "cell_type": "markdown",
   "metadata": {},
   "source": [
    "## Two-Sample T-test\n",
    "- It is used to test the difference between two population means, if SD is not given.\n",
    "- The parameters are estimated from the samples."
   ]
  },
  {
   "cell_type": "markdown",
   "metadata": {},
   "source": [
    "- Reading the data with tab healthdrink_yes as parameter and then display first five records.\n",
    "```python\n",
    "    # first parameter is filename, second parameter is sheetname\n",
    "    healthdrink_yes_df = pd.read_excel('healthdrink.xlsx', 'healthdrink_yes')\n",
    "    healthdrink_yes_df.head(5)\n",
    "```"
   ]
  },
  {
   "cell_type": "markdown",
   "metadata": {},
   "source": [
    "- Reading from sheet number 2:\n",
    "```python\n",
    "    # first parameter is filename, second parameter is sheetname\n",
    "    healthdrink_yes_df = pd.read_excel('healthdrink.xlsx', 'healthdrink_no')\n",
    "    healthdrink_yes_df.head(5)\n",
    "```"
   ]
  },
  {
   "cell_type": "markdown",
   "metadata": {},
   "source": [
    "- Conducting the test:\n",
    "```python\n",
    "    stats.ttest_ind(healthdrink_yes_df['height_increase'], healthdrink_no_df['height_increase'])\n",
    "    Ttest_indResult(statistic=8.1316, pvalue=0.00)\n",
    "```"
   ]
  },
  {
   "cell_type": "markdown",
   "metadata": {},
   "source": [
    "## Paired-Sample T-test:\n",
    "- When for before and after statistical estimation.\n",
    "- Used for comparing two different intervensions applied on the same sample.\n",
    "- The parameters are calculated from the samples.\n",
    "- Eg:\n",
    "1. Employee performance after training program.\n",
    "2. Diagnosis after treatment."
   ]
  },
  {
   "cell_type": "markdown",
   "metadata": {},
   "source": [
    "## Example Problem statement for Paired-Sample T-test:\n",
    "- Given:\n",
    "- Level of Confidence = 95%\n",
    "- Therefore, Alpha = 100 - LoC = 5%\n",
    "- Notice that alcohol consumption before and after breakup is given, so its a bivariate sampling."
   ]
  },
  {
   "cell_type": "markdown",
   "metadata": {},
   "source": [
    "- Distribution plots of alcohol consumption separately for before and after breakups:\n",
    "```python\n",
    "sn.distplot(breakups_df['Before_Breakup'], label = 'Before_Breakup')\n",
    "sn.distplot(breakups_df['After_Breakup'], label = 'After_Breakup')\n",
    "plt.legent()\n",
    "```"
   ]
  },
  {
   "cell_type": "markdown",
   "metadata": {},
   "source": [
    "- Conducting the test:\n",
    "```python\n",
    "stats.ttest_rel(breakups_df['Before_Breakup'], breaksups_df['After_Breakup'])\n",
    "Ttest_relResult(statistic=-0.5375, pvalue=0.5971)\n",
    "```\n",
    "- Probability of the sample belonging to the same distribution is 0.597 which is more than 0.05 value.\n",
    "- We conclude that they are part of same distribution.\n",
    "- There is no change in alcohol consumption pattern before and after breakup."
   ]
  }
 ],
 "metadata": {
  "kernelspec": {
   "display_name": "Python 3",
   "language": "python",
   "name": "python3"
  },
  "language_info": {
   "codemirror_mode": {
    "name": "ipython",
    "version": 3
   },
   "file_extension": ".py",
   "mimetype": "text/x-python",
   "name": "python",
   "nbconvert_exporter": "python",
   "pygments_lexer": "ipython3",
   "version": "3.6.12"
  }
 },
 "nbformat": 4,
 "nbformat_minor": 2
}
