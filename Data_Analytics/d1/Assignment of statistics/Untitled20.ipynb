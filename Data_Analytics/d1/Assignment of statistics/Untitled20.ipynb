{
  "nbformat": 4,
  "nbformat_minor": 0,
  "metadata": {
    "colab": {
      "provenance": []
    },
    "kernelspec": {
      "name": "python3",
      "display_name": "Python 3"
    },
    "language_info": {
      "name": "python"
    }
  },
  "cells": [
    {
      "cell_type": "code",
      "execution_count": null,
      "metadata": {
        "id": "aDFRY54U8L39"
      },
      "outputs": [],
      "source": [
        "import matplotlib.pyplot as plt\n",
        "import seaborn as sns\n",
        "import pandas as pd\n",
        "\n",
        "# Load the diabetes dataset (replace this with your dataset)\n",
        "# For example purposes, we'll use a sample dataset with features 'Age' and 'BMI'\n",
        "# along with the target variable 'Outcome' where 1 indicates diabetic and 0 non-diabetic.\n",
        "\n",
        "# Sample data creation\n",
        "data = {\n",
        "    'Age': [50, 30, 35, 40, 25, 45, 55, 60, 65, 70, 25, 30, 35, 40, 45, 50, 55, 60, 65, 70],\n",
        "    'BMI': [25, 30, 28, 27, 26, 29, 32, 33, 34, 36, 22, 24, 23, 21, 20, 31, 32, 34, 35, 37],\n",
        "    'Outcome': [1, 0, 0, 1, 0, 1, 1, 0, 0, 1, 0, 0, 1, 0, 1, 0, 0, 1, 0, 1]\n",
        "}\n",
        "\n",
        "df = pd.DataFrame(data)#converting dictionary into data rame\n",
        "\n",
        "# Scatter plot with seaborn\n",
        "plt.figure(figsize=(10, 6))\n",
        "sns.scatterplot(x='Age', y='BMI', hue='Outcome', data=df, palette='coolwarm', s=100)\n",
        "\n",
        "# Adding plot title and labels\n",
        "plt.title('Scatter Plot of Age vs BMI for Diabetic and Non-Diabetic Patients')\n",
        "plt.xlabel('Age')\n",
        "plt.ylabel('BMI')\n",
        "plt.legend(title='Outcome', loc='upper left', labels=['Non-Diabetic', 'Diabetic'])\n",
        "plt.show()"
      ]
    },
    {
      "cell_type": "code",
      "source": [
        "# Separate features and labels\n",
        "from sklearn.model_selection import train_test_split\n",
        "features = ['Age','BMI']\n",
        "label = 'Outcome'\n",
        "X1, y1 = df[features].values, df[label].values\n",
        "X_train, X_test, y_train, y_test = train_test_split(X1, y1, test_size=0.30, random_state=0)"
      ],
      "metadata": {
        "id": "Kq9shOKw8NTU"
      },
      "execution_count": null,
      "outputs": []
    },
    {
      "cell_type": "code",
      "source": [
        "# Train the model\n",
        "from sklearn.tree import DecisionTreeRegressor\n",
        "# train a decision tree model on the training set\n",
        "model = DecisionTreeRegressor().fit(X_train, y_train)\n",
        "print(model)"
      ],
      "metadata": {
        "id": "_HKso4hW8QSu"
      },
      "execution_count": null,
      "outputs": []
    },
    {
      "cell_type": "code",
      "source": [
        "#Validating the model and preparing metrics evaluation\n",
        "from sklearn.metrics import accuracy_score\n",
        "predictions = model.predict(X_test)\n",
        "print('Predicted labels: ', predictions)\n",
        "print('Actual labels:    ' ,y_test)\n",
        "print('Accuracy: ', accuracy_score(y_test, predictions))"
      ],
      "metadata": {
        "id": "ap--pwIP8SQQ"
      },
      "execution_count": null,
      "outputs": []
    }
  ]
}