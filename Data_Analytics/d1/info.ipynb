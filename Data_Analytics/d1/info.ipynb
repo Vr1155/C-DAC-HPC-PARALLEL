{
 "cells": [
  {
   "cell_type": "markdown",
   "metadata": {},
   "source": [
    "# Data Analytics"
   ]
  },
  {
   "cell_type": "markdown",
   "metadata": {},
   "source": [
    "\n",
    "- Job of AI/ML is to do prediction operation.\n",
    "- Data is a collection of facts (usually obtained as result of experience, observations, or experiments).\n",
    "- Data is the lowest level of abstraction in analytics.\n",
    "- Data is source of Information and knowledge.\n",
    "- Data quality and data integrity -> critical to analytics.\n",
    "- In AI/ML, data quality is extremely crucial.\n",
    "- Data discovery is the first path of building a ML model/project or doing analytics operations.\n"
   ]
  },
  {
   "cell_type": "markdown",
   "metadata": {},
   "source": [
    "## Sources of data:\n",
    "- Business process\n",
    "- Internet/Social media\n",
    "- Internet of things.\n",
    "- and many more..."
   ]
  },
  {
   "cell_type": "markdown",
   "metadata": {},
   "source": [
    "## Data Taxonomy:\n",
    "- Structured Data:\n",
    "    - Categorical\n",
    "        - Nominal\n",
    "            - eg: Name of person, name of animal, name of things, any name, etc.\n",
    "        - Ordinal\n",
    "            - eg: data appearing in some order, ascending/descending, priority, serial no., etc.\n",
    "    - Numerical \n",
    "        - Interval\n",
    "            - eg: data for ipl player's age range: A=20-25, B=25-30, C=30-35\n",
    "            - data for players below 30 is an example of displaying data in Interval.\n",
    "        - Ratio\n",
    "            - eg: percentage, scale of 10, scientific notation.\n",
    "- Unstructured or Semistructured Data (eg: Big Data)\n",
    "    - Textual\n",
    "        - eg: used for making Large Language Model (LLM).\n",
    "    - Multimedia\n",
    "        - Image\n",
    "        - Audio\n",
    "        - Video\n",
    "    - XML/JSON\n",
    "        - This is semi-structured data."
   ]
  },
  {
   "cell_type": "markdown",
   "metadata": {},
   "source": [
    "# How data is \"training\" a model\n",
    "- Instructor says that:\n",
    "    - When we train a model with values of y and x\n",
    "    - and then the machine's job is to realise that, relationship between y and x is y = m*x +c\n",
    "    - Then the machine will \"store\" the formula in that model.\n",
    "    - This model can then be deployed elsewhere.\n",
    "- In this way, Most machine learning modes **learn the patterns in the data**."
   ]
  },
  {
   "cell_type": "markdown",
   "metadata": {},
   "source": [
    "## The motivation for learning about data\n",
    "- The generated data is actually applied on ML model using some suitable algorithm.\n",
    "- The result of which is, production of ML model, which is nothing but a mathematical model.\n",
    "- Mathematical model is like a formula.\n",
    "- Example: y = 10*x + 2 (Where, y is output and x is input).\n",
    "\n"
   ]
  },
  {
   "cell_type": "markdown",
   "metadata": {},
   "source": [
    "## Exercise:\n",
    "- Predict using this model, the y value with x = 2.2.\n",
    "- Answer: y = 10*x + 2 = 10 * 2.2 + 2 = 24."
   ]
  },
  {
   "cell_type": "markdown",
   "metadata": {},
   "source": [
    "## Introduction to data analytics:\n",
    "- data analytics info is taken from coursera.\n",
    "- data analytics = data discovery + Data analysis + data science + data engineering\n",
    "    - data analysis = extracts meaning from data\n",
    "    - data science = using data to theorise and forecast\n",
    "    - data engineering = building data systems"
   ]
  },
  {
   "cell_type": "markdown",
   "metadata": {},
   "source": [
    "- After creating model, we need to prepare documentation of model, deployment of model and maintainance of model.\n",
    "- This can be done by data engineers."
   ]
  },
  {
   "cell_type": "markdown",
   "metadata": {},
   "source": [
    "## Data Analytics Life Cycle:\n",
    "1. Discovery\n",
    "2. Data Preparation\n",
    "3. Model Planning\n",
    "4. Model Building\n",
    "5. Communicate Results\n",
    "6. Operationalize\n",
    "\n",
    "- Note that this is a doubly linked list, if there is a issue in some stage, we can go back to previous stage fix the issues."
   ]
  },
  {
   "cell_type": "markdown",
   "metadata": {},
   "source": [
    "## Types of Data Analytics:\n",
    "- It can mapped to this 4 types of data analytics:\n",
    "1. Descriptive -> Data discovery (What happened?)\n",
    "2. Diagnostic -> Data preparation (Why did it happen?)\n",
    "3. Predictive -> Model Planning + Model Development (What will happen?)\n",
    "4. Prescriptive -> Communicate result operationalize (How to make it happen?)"
   ]
  },
  {
   "cell_type": "markdown",
   "metadata": {},
   "source": [
    "## A case study of patient and doctor:\n",
    "- A patient goes to a doctor, doctor asks \"What happened to you?\" \n",
    "    - Descriptive: If you think the doctor as an analyst then the first step is to get to know what happened?\n",
    "- Patient says \"Stomach ache\", Doctor asks \"What did you ate last evening? Any fried food...\" \n",
    "    - Diagnostic: The doctor just like a analyst then tries to identify why it happened?\n",
    "- Patient says \"Yes\", doctor says \"You have stomach infection!\" \n",
    "    - Predictive: After having the diagnosis she might tell you what other symptoms you show in coming days and future process of recovery. This is the prediction she is making ...\n",
    "- Doctor says \"Take this prescription 3 times a day for one week.\" \n",
    "    - Prescriptive: In order to make your body recover she will prescribe some medicine."
   ]
  },
  {
   "cell_type": "markdown",
   "metadata": {},
   "source": [
    "## Probabilistic learning\n",
    "- Learning about something from probabilities of some event is called probabilistic learning.\n",
    "## Inferential statistics\n",
    "- Estimation based on provided data."
   ]
  },
  {
   "cell_type": "markdown",
   "metadata": {},
   "source": [
    "## Basics of Statistics:\n",
    "## Session 5 and 6: Random Variable, Correlation, covariance and outliers"
   ]
  },
  {
   "cell_type": "markdown",
   "metadata": {},
   "source": [
    "- Attributers\n",
    "    - Independent Variables. (feature vector) [x1, x2, x3, ...]\n",
    "    - Dependent Variables. [y]\n",
    "- In our terminology, Independent variables are inputs and dependent variables are outputs.\n",
    "- In our ML model: y = f(x1, x2, x3, ..., xn)\n",
    "- The correlation among different xi should NOT be good.\n",
    "- But the correlation between y and xi should be very good.\n",
    "- If there is high correlations between a pair of xi then there was poor diagnostic engineering.\n",
    "- Because if two variables are similar, then we are necessarily burdening the model."
   ]
  },
  {
   "cell_type": "markdown",
   "metadata": {},
   "source": [
    "- Therefore, to summarize:\n",
    "- Before selecting the variables, we need to check their similarities.\n",
    "- Dependent variable should have correlation between independent variables.\n",
    "- Whereas, Independent variables, among themselves, must be uncorrelated.\n",
    "- In order to check this operation, we can use statistical functions like correlation and covariance."
   ]
  },
  {
   "cell_type": "markdown",
   "metadata": {},
   "source": [
    "## Terminologies recap:\n",
    "- Random Experiment = An experiment in which the outcome is not known with certainty.\n",
    "- Sample Space = The universal set of all possible outcomes.\n",
    "- Random Variable = A random variable is a function that maps every outcome in the sample space to a real number. It can both be discrete and continuous."
   ]
  },
  {
   "cell_type": "markdown",
   "metadata": {},
   "source": [
    "## Introduction to covariance and correlation:\n",
    "- Both give relationship between two numerical variables.\n",
    "- eg 1: Temperature and Ice-cream sales. both have +ve correlation and +ve covariance.\n",
    "- eg 2: Temparature and Pneumonia patients. both have -ve correlation and -ve covariance.\n",
    "- eg 3: Temparature and stock market movement. both have zero correlation and zero covariance."
   ]
  },
  {
   "cell_type": "markdown",
   "metadata": {},
   "source": [
    "Definitions of covariance and correlation:\n",
    "- **Covariance** indicates the **direction** of the linear relationship between variables.\n",
    "- **Correlation** measures both the strength and direction of linear relationship between two variables.\n",
    "- Correlation is a function of the covariance."
   ]
  },
  {
   "cell_type": "markdown",
   "metadata": {},
   "source": [
    "## An Exercise on covariance calculation:\n",
    "- Calculate covariance between 2 stock market data:\n",
    "- formula for covariance:\n",
    "- COV(x,y) = (Summation_of((xi-x_mean)(yi-y_mean)))/n-1\n",
    "- If the value is positive, then we say x and y are positively related.\n",
    "- If the value is negative, then we say x and y are negatively related.\n",
    "- Note: Remember it is giving only direction of relationship not strength."
   ]
  },
  {
   "cell_type": "markdown",
   "metadata": {},
   "source": [
    "## Correlation\n",
    "- If there is need to know the direction of similarity as well as strength, then we need to find the correlation.\n",
    "- Different correlation coefficients:\n",
    "    - Pearson correlation coefficient \"r\"\n",
    "    - Spearman's rank correlation \"R\"\n",
    "- The range of correlation is [-1,+1]"
   ]
  },
  {
   "cell_type": "markdown",
   "metadata": {},
   "source": [
    "- Consider calculation of correlation with Pearson method.\n",
    "- formula: r = Summation_of((x-x_mean)(x-x_mean))/sqrt(Summation_of((x-x_mean)^2) * Summation_of((y-y_mean)^2))"
   ]
  },
  {
   "cell_type": "markdown",
   "metadata": {},
   "source": [
    "- Calculation of Pearson correlation:\n",
    "\n",
    "<pre>\n",
    "x = 30, 35, 40, 25, 35\n",
    "y = 5, 8, 8, 4, 5\n",
    "x-x_mean = -3, +2, +7, -8, +2\n",
    "y-y_mean = -1, +2, +2, -2, -1\n",
    "(x-x_mean)(y-y_mean) = 3, 4, 14, 16, -2\n",
    "sum = 35\n",
    "x_mean = 33\n",
    "y_mean = 6\n",
    "\n",
    "35/sqrt(130*14) = 0.8204\n",
    "\n",
    "</pre>\n",
    "\n"
   ]
  },
  {
   "cell_type": "markdown",
   "metadata": {},
   "source": [
    "- a diagram of different types of correlations\n",
    "    - top row = linear correlations\n",
    "    - middle row = linear correlations with different slopes\n",
    "    - bottom row = non-linear correlations.\n",
    "- The Pearson correlation reflects the noisiness and direction of a linear relationship (top row), but not the slope of that relationship (middle), nor many aspects of nonlinear relationships (bottom)."
   ]
  },
  {
   "cell_type": "markdown",
   "metadata": {},
   "source": [
    "- Pearson correlation is not sensitive to non-linear relationship calculation of similarity.\n",
    "    - eg: y = a*x^2 + b*x + c\n",
    "- Pearson correlation is not sensitive to slope of the relationship between the two variables.\n",
    "- To proceed for that type of problem, we will use Spearman's Rank correlation method can be used.\n"
   ]
  },
  {
   "cell_type": "markdown",
   "metadata": {},
   "source": [
    "## Spearman's rank correlation:\n",
    "- Exercise: For a 9 sample data, find the correlation between Maths and Physics marks using Spearman Rank Correlation. Round off result to one decimal point.\n",
    "- Formula:\n",
    "- R = 1 - (6 * Summation_of(d^2))/( n * (n^2 - 1)) - [Where, d is the difference of rank of the individual attribute (or feature vector) of a data point/row  and n is number of samples (or number of data points/rows)]\n",
    "- Solution of correlation exercise, answer is 0.9\n",
    "- Inference: There is 90% similarity between marks obtained in Maths and Physics."
   ]
  },
  {
   "cell_type": "markdown",
   "metadata": {},
   "source": [
    "- Assignment: Try the same problem using Spearman's rank correlation:\n",
    "- Notice that some numbers are same, so to distribute rank just take the mean of the rank.\n",
    "<pre>\n",
    "x = 30, 35, 40, 25, 35\n",
    "y = 5, 8, 8, 4, 5\n",
    "\n",
    "\n",
    "\n",
    "Rank(x) = 2, 3.5, 4, 1, 3.5\n",
    "Rank(y) = 2.5, 4.5, 4.5, 1, 2.5\n",
    "\n",
    "d = R(x)-R(y) = -0.5, -1.0, -0.5, 0, 1 \n",
    "d^2 = 0.25, 1, 0.25, 0, 1 = 2.5\n",
    "n = 5\n",
    "\n",
    "My ans = 0.875\n",
    "Ans accordint to Spearman's Correlation rho calculator = 0.86518\n",
    "\n",
    "</pre>\n"
   ]
  },
  {
   "cell_type": "markdown",
   "metadata": {},
   "source": [
    "## Outliers:\n",
    "- Outlier is a data object that deviates significantly from the rest of the data objects and behaves in a different manner.\n",
    "- Can been seen on box plot or scatter plot.\n",
    "- Q1 = first quartile or 25th Percentile\n",
    "- Q3 = third quartile or 75th Percentile\n",
    "- Median = 50th percentile\n",
    "- InterQuartile range (IQR) = Q3-Q1\n",
    "- Minimum value of a data = Q1 - 1.5*IQR\n",
    "- Maximum value of a data = Q3 + 1.5*IQR\n",
    "- **Any value that is lower than Minimum value of a data or greater than Maximum value of a data is an Outlier.**"
   ]
  },
  {
   "cell_type": "markdown",
   "metadata": {},
   "source": [
    "## Information that can be obtained from a Box Plot:\n",
    "1. Outliers (Significant deviations from our data are outliers, it is below minimum and above maximum)\n",
    "2. Total range of our data (Range = Max_value - Min_value)\n",
    "3. IQR = Q3 - Q1\n",
    "    - The starting point of box is Q1. It indicates 25th percentile of the data.\n",
    "    - Whereas, the ending point of box is Q3. It indicates 75th percentile of the data.\n",
    "4. Median or Q2\n"
   ]
  },
  {
   "cell_type": "markdown",
   "metadata": {},
   "source": [
    "## Lab exercise\n",
    "- load any dataset and find the covariance between two fields and also find correlation and determine how two fields are correlated.\n",
    "- Also handle the outliers in the data.\n",
    "- generate a random number in which there will be two columns and 100 samples or observations.\n",
    "- column titles are X and Y\n",
    "- Using DataFrame function, convert this numpy array into data frame.\n",
    "- calculate covariance matrix using: np.cov()\n",
    "- covariance matrix is a 2x2 matrix, where b and c are covariance.\n",
    "<pre>\n",
    "[\n",
    " a b\n",
    " c d\n",
    "]\n",
    "</pre>\n",
    "- use np.corrcoef() to calculate correlation coeffcient matrix.\n",
    "- correlation coefficient is cor_matrix[0, 1]\n",
    "- matplotlib is a library that contains visualization functions.\n",
    "- seaborn is a library that contains statistics functions.\n",
    "- create a box plot using seaborn's boxplot() \n",
    "- eg:\n",
    "```python\n",
    "    import seaborn as sns\n",
    "    sns.boxplot(data=data)\n",
    "```\n",
    "- create data by using dictionary and lists.\n",
    "- also create an outlier by adding some value like -1\n",
    "- eg: \n",
    "```python\n",
    "    data = {\n",
    "        'Column_title_1': [int, int, int,... ],\n",
    "        ....\n",
    "    }\n",
    "```"
   ]
  },
  {
   "cell_type": "markdown",
   "metadata": {},
   "source": [
    "## Exercise 2:\n",
    "- This is for Descriptive Analytics\n",
    "- We will perform ETL operations (Extract, Transform and Load).\n",
    "- Provided an IPL data file,\n",
    "- see the useful attributes (column names).\n",
    "- do encoding of categorical variables using a processing called encoding (string category like team names to numbers)\n",
    "- use .info() to get info on data types.\n",
    "- slicing and indexing a dataframe row-wise by using slicing operators for first and 5 observations.\n",
    "- slicing a dataframe column-wise by using two [] and a slicing operator for column [].\n",
    "- create an new column called \"premium\" by doing \"sold_price\" - \"base_price\"\n",
    "- Sort the players in descending order of premium\n",
    "- Group players by age and display the mean sold price of each age group.\n",
    "- different age groups are converted into numbers like 0, 1, and 2. This is called encoding. This can be done using .reset_index()"
   ]
  },
  {
   "cell_type": "markdown",
   "metadata": {},
   "source": [
    "##  Summary:"
   ]
  },
  {
   "cell_type": "markdown",
   "metadata": {},
   "source": [
    "- We need to cover this because,\n",
    "    - Feature engineering\n",
    "    - Diagnostic analysis\n",
    "    - ML model development\n",
    "\n",
    "- Topics covered:\n",
    "    - Exploratory Data Analysis (EDA).\n",
    "    - Converting raw data to finished data.\n",
    "    - Descriptive Analysis (ETL = Extract, Transform, and Load).\n",
    "        - eg: Analatica, Tableau, PowerBI.\n",
    "    - Diagnostic analytics.\n",
    "    - Predictive analytics.\n",
    "        - Apply the finished data to model and make it learn.\n",
    "    - Prescriptive analytics.\n",
    "        - When we give input, it can generate output.\n",
    "    \n",
    "- Types of ML models:\n",
    "    - Supervised Learning (Both x and y are available).\n",
    "    - Unsupervised Learning (Only x is available).\n",
    "- Algorithm selection for machine learning will depend on what is the nature of data available.\n",
    "- Supervised Learning\n",
    "    - Regression\n",
    "        - y = f(x)\n",
    "        - if x has range (-inf, +inf), then we have to use regression.\n",
    "    - Classification\n",
    "        - y = f(x)\n",
    "        - if x has range [0,1], then we can do binary classification.\n",
    "        - if y = finite integer numbers, then we can do multi-nomial classification.\n",
    "\n",
    "- We make our prediction model based on dependent variable in supervised learning.\n"
   ]
  },
  {
   "cell_type": "markdown",
   "metadata": {},
   "source": [
    "## Unsupervised Learning."
   ]
  },
  {
   "cell_type": "markdown",
   "metadata": {},
   "source": [
    "- Since, there is a question (x) and no answer (y), how can we make the model learn?\n",
    "- Now here, it is the job of ML model to \"group\" the data based on the similarity of data.\n",
    "- The job of ML model is to group and label the data."
   ]
  },
  {
   "cell_type": "markdown",
   "metadata": {},
   "source": [
    "## Deep Learning\n"
   ]
  },
  {
   "cell_type": "markdown",
   "metadata": {},
   "source": [
    "- Deep Learning is a subset of Machine Learning.\n",
    "- Machine Learning is a subset of Artificial Intelligence.\n",
    "- Deep Learning is essentially Artificial Neural Network.\n"
   ]
  },
  {
   "cell_type": "markdown",
   "metadata": {},
   "source": [
    "## Supervised Learning with Deep Learning (Neural Network):\n",
    "- Here, there is some feedback to the neural network.\n",
    "- It tries to compare the actual output y_actual with expected output y.\n",
    "- It calculates the error by using a loss function or cost function.\n",
    "- This is fed back to Neural Network and makes it better at.\n",
    "- This is the example of backpropagation through gradient descent."
   ]
  },
  {
   "cell_type": "markdown",
   "metadata": {},
   "source": [
    "## Convolutional Neural Networks (CNNs):\n",
    "- It is a variation of Neural Networks.\n",
    "- Its job is to convert images to numbers and make the neural network learn those numbers."
   ]
  },
  {
   "cell_type": "markdown",
   "metadata": {},
   "source": [
    "## Deployment \n",
    "- Pickle file format (Used to save the ML model in a specific file format)\n",
    "- Google sheets"
   ]
  }
 ],
 "metadata": {
  "language_info": {
   "name": "python"
  },
  "orig_nbformat": 4
 },
 "nbformat": 4,
 "nbformat_minor": 2
}
