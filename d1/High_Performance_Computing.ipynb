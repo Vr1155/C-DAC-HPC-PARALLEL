{
 "cells": [
  {
   "cell_type": "markdown",
   "id": "f73133be-67e2-4e97-8f4c-222b0aa28bfe",
   "metadata": {},
   "source": [
    "# High Performance Computing"
   ]
  },
  {
   "cell_type": "markdown",
   "id": "507da0d4-171a-4e7c-8a30-f924f9566d82",
   "metadata": {},
   "source": [
    "- HPC refers to the use of powerful computing systems to solve complex, data-intensive problems efficiently.\n",
    "- It accelerates scientific research, engineering simulations, and data analysis, leading to breakthroughs in various fields.\n",
    "- HPC leverages parallelism, harnessing multiple processors or nodes for rapid computations.\n",
    "- Supercomputers are at the heart of HPC delivering extraordinary computation power.\n",
    "- HPC Processors -> HPC Nodes -> HPC Clusters"
   ]
  },
  {
   "cell_type": "markdown",
   "id": "a33276d0-d60b-4087-a41c-8ee01a0ef730",
   "metadata": {},
   "source": [
    "- Flops are used for measuring performance of supercomputers.\n",
    "- FLOPs = Floating Point Operations.\n",
    "- weather forecasting guesstimate: 1.44*10^17 Flops"
   ]
  },
  {
   "cell_type": "markdown",
   "id": "1766a07d-996c-45ca-ad7c-d71fce1f26d0",
   "metadata": {},
   "source": [
    "## Applications of HPC:\n",
    "- Prediction of weather, climate, global changes\n",
    "- (total of 15 points)"
   ]
  },
  {
   "cell_type": "markdown",
   "id": "1fcfc7b5-def1-456c-bce0-4f7baa0ba22a",
   "metadata": {},
   "source": [
    "## Supercomputers\n",
    "- Param Utkarsh in C-DAC KP"
   ]
  },
  {
   "cell_type": "markdown",
   "id": "299f4ec5-4b31-49ea-8cb7-1472f2d3b323",
   "metadata": {},
   "source": [
    "## Top Five Supercomputers:\n",
    "- Frontier, Oak Ridge National Lab\n",
    "- Aurora, Argonne National Lab\n",
    "- Eagle, Microsoft Azure\n",
    "- A64FX 48C Tofu interconnect D, Fujitsu\n",
    "- LUMI EuroHPC/CSC Finland"
   ]
  },
  {
   "cell_type": "markdown",
   "id": "b796d9ea-1d2a-4716-bcb3-a2dfca23551d",
   "metadata": {},
   "source": [
    "## History of Indian SuperComputers developed by C-DAC\n",
    "- Param 8000 (1991)\n",
    "- Param 9000 (1994)\n",
    "- Param 10000 (1998)\n",
    "- Param Padma (2002-03)\n",
    "- Garuda [NKN Grid computing project] (2005)\n",
    "- Param Yuva (2008)\n",
    "- Param Yuva 2 (2013)\n",
    "- Param Shavam (2015)\n",
    "- NSM (present day)"
   ]
  },
  {
   "cell_type": "markdown",
   "id": "f8e6eb66-84eb-4ff1-8abc-0d3889c4d456",
   "metadata": {},
   "source": [
    "## Various other Supercomputers which have already been developed.\n",
    "- C-DAC Bengaluru 838 Floats (Param Utkarsh)\n"
   ]
  },
  {
   "cell_type": "markdown",
   "id": "6b2303b7-5aab-4fdd-9d6a-d920311f5c55",
   "metadata": {},
   "source": [
    "## Top super computers in india:\n",
    "1. Airawat-PSAI\n",
    "2. Param siddhi-ai, cdac pune\n",
    "\n",
    "and many more"
   ]
  }
 ],
 "metadata": {
  "kernelspec": {
   "display_name": "Python 3 (ipykernel)",
   "language": "python",
   "name": "python3"
  },
  "language_info": {
   "codemirror_mode": {
    "name": "ipython",
    "version": 3
   },
   "file_extension": ".py",
   "mimetype": "text/x-python",
   "name": "python",
   "nbconvert_exporter": "python",
   "pygments_lexer": "ipython3",
   "version": "3.9.13"
  }
 },
 "nbformat": 4,
 "nbformat_minor": 5
}
